{
 "cells": [
  {
   "cell_type": "markdown",
   "metadata": {},
   "source": [
    "# Imports"
   ]
  },
  {
   "cell_type": "code",
   "execution_count": 2,
   "metadata": {},
   "outputs": [],
   "source": [
    "import pandas as pd\n",
    "import numpy as np\n",
    "import plotly.express as px\n",
    "\n",
    "pd.set_option('display.max_columns', None)"
   ]
  },
  {
   "cell_type": "markdown",
   "metadata": {},
   "source": [
    "# Datensätze"
   ]
  },
  {
   "cell_type": "code",
   "execution_count": 3,
   "metadata": {},
   "outputs": [],
   "source": [
    "%store -r df_matches\n",
    "%store -r df_players\n",
    "%store -r df_rankings\n",
    "%store -r df_matches_players"
   ]
  },
  {
   "cell_type": "markdown",
   "metadata": {},
   "source": [
    "# Hilfsfunktionen"
   ]
  },
  {
   "cell_type": "code",
   "execution_count": 4,
   "metadata": {},
   "outputs": [],
   "source": [
    "def fillna_0_astype_int64(dataframe:pd.DataFrame, columns:list=[\"Siege\", \"Niederlagen\"]):\n",
    "\n",
    "    for column in columns:\n",
    "        dataframe[column] = dataframe[column].fillna(0).astype(\"int64\")\n",
    "    \n",
    "    return dataframe"
   ]
  },
  {
   "cell_type": "code",
   "execution_count": 5,
   "metadata": {},
   "outputs": [],
   "source": [
    "def siegesquote_funktion(dataframe:pd.DataFrame):\n",
    "\n",
    "    dataframe[\"Siegesquote\"] = dataframe[\"Siege\"] / (dataframe[\"Siege\"]+ dataframe[\"Niederlagen\"])\n",
    "\n",
    "    return dataframe"
   ]
  },
  {
   "cell_type": "markdown",
   "metadata": {},
   "source": [
    "<br>"
   ]
  },
  {
   "cell_type": "markdown",
   "metadata": {},
   "source": [
    "# Fragestellung 3\n",
    "### Gibt es Turniere, bei denen die Deutschen besonders gut oder besonders schlecht abschneiden? Wenn ja, ist ein regionales Muster oder eine andere Ursache zu erkennen?"
   ]
  },
  {
   "cell_type": "code",
   "execution_count": 6,
   "metadata": {},
   "outputs": [
    {
     "data": {
      "text/html": [
       "<div>\n",
       "<style scoped>\n",
       "    .dataframe tbody tr th:only-of-type {\n",
       "        vertical-align: middle;\n",
       "    }\n",
       "\n",
       "    .dataframe tbody tr th {\n",
       "        vertical-align: top;\n",
       "    }\n",
       "\n",
       "    .dataframe thead th {\n",
       "        text-align: right;\n",
       "    }\n",
       "</style>\n",
       "<table border=\"1\" class=\"dataframe\">\n",
       "  <thead>\n",
       "    <tr style=\"text-align: right;\">\n",
       "      <th></th>\n",
       "      <th>tourney_id</th>\n",
       "      <th>tourney_name</th>\n",
       "      <th>surface</th>\n",
       "      <th>draw_size</th>\n",
       "      <th>tourney_level</th>\n",
       "      <th>tourney_date</th>\n",
       "      <th>match_num</th>\n",
       "      <th>winner_id</th>\n",
       "      <th>winner_seed</th>\n",
       "      <th>winner_entry</th>\n",
       "      <th>winner_name</th>\n",
       "      <th>winner_hand</th>\n",
       "      <th>winner_ht</th>\n",
       "      <th>winner_ioc</th>\n",
       "      <th>winner_age</th>\n",
       "      <th>loser_id</th>\n",
       "      <th>loser_seed</th>\n",
       "      <th>loser_entry</th>\n",
       "      <th>loser_name</th>\n",
       "      <th>loser_hand</th>\n",
       "      <th>loser_ht</th>\n",
       "      <th>loser_ioc</th>\n",
       "      <th>loser_age</th>\n",
       "      <th>score</th>\n",
       "      <th>best_of</th>\n",
       "      <th>round</th>\n",
       "      <th>minutes</th>\n",
       "      <th>w_ace</th>\n",
       "      <th>w_df</th>\n",
       "      <th>w_svpt</th>\n",
       "      <th>w_1stIn</th>\n",
       "      <th>w_1stWon</th>\n",
       "      <th>w_2ndWon</th>\n",
       "      <th>w_SvGms</th>\n",
       "      <th>w_bpSaved</th>\n",
       "      <th>w_bpFaced</th>\n",
       "      <th>l_ace</th>\n",
       "      <th>l_df</th>\n",
       "      <th>l_svpt</th>\n",
       "      <th>l_1stIn</th>\n",
       "      <th>l_1stWon</th>\n",
       "      <th>l_2ndWon</th>\n",
       "      <th>l_SvGms</th>\n",
       "      <th>l_bpSaved</th>\n",
       "      <th>l_bpFaced</th>\n",
       "      <th>winner_rank</th>\n",
       "      <th>winner_rank_points</th>\n",
       "      <th>loser_rank</th>\n",
       "      <th>loser_rank_points</th>\n",
       "      <th>name_first_winner</th>\n",
       "      <th>name_last_winner</th>\n",
       "      <th>dob_winner</th>\n",
       "      <th>height_winner</th>\n",
       "      <th>wikidata_winner</th>\n",
       "      <th>name_first_loser</th>\n",
       "      <th>name_last_loser</th>\n",
       "      <th>dob_loser</th>\n",
       "      <th>height_loser</th>\n",
       "      <th>wikidata_loser</th>\n",
       "    </tr>\n",
       "  </thead>\n",
       "  <tbody>\n",
       "    <tr>\n",
       "      <th>0</th>\n",
       "      <td>1968-2029</td>\n",
       "      <td>Dublin</td>\n",
       "      <td>Grass</td>\n",
       "      <td>32</td>\n",
       "      <td>A</td>\n",
       "      <td>19680708</td>\n",
       "      <td>270</td>\n",
       "      <td>112411</td>\n",
       "      <td>NaN</td>\n",
       "      <td>NaN</td>\n",
       "      <td>Douglas Smith</td>\n",
       "      <td>U</td>\n",
       "      <td>NaN</td>\n",
       "      <td>AUS</td>\n",
       "      <td>NaN</td>\n",
       "      <td>110196</td>\n",
       "      <td>NaN</td>\n",
       "      <td>NaN</td>\n",
       "      <td>Peter Ledbetter</td>\n",
       "      <td>U</td>\n",
       "      <td>NaN</td>\n",
       "      <td>UNK</td>\n",
       "      <td>24.0</td>\n",
       "      <td>6-1 7-5</td>\n",
       "      <td>3</td>\n",
       "      <td>R32</td>\n",
       "      <td>NaN</td>\n",
       "      <td>NaN</td>\n",
       "      <td>NaN</td>\n",
       "      <td>NaN</td>\n",
       "      <td>NaN</td>\n",
       "      <td>NaN</td>\n",
       "      <td>NaN</td>\n",
       "      <td>NaN</td>\n",
       "      <td>NaN</td>\n",
       "      <td>NaN</td>\n",
       "      <td>NaN</td>\n",
       "      <td>NaN</td>\n",
       "      <td>NaN</td>\n",
       "      <td>NaN</td>\n",
       "      <td>NaN</td>\n",
       "      <td>NaN</td>\n",
       "      <td>NaN</td>\n",
       "      <td>NaN</td>\n",
       "      <td>NaN</td>\n",
       "      <td>NaN</td>\n",
       "      <td>NaN</td>\n",
       "      <td>NaN</td>\n",
       "      <td>NaN</td>\n",
       "      <td>Douglas</td>\n",
       "      <td>Smith</td>\n",
       "      <td>NaN</td>\n",
       "      <td>NaN</td>\n",
       "      <td>NaN</td>\n",
       "      <td>Peter</td>\n",
       "      <td>Ledbetter</td>\n",
       "      <td>19440703.0</td>\n",
       "      <td>NaN</td>\n",
       "      <td>NaN</td>\n",
       "    </tr>\n",
       "    <tr>\n",
       "      <th>1</th>\n",
       "      <td>1968-2029</td>\n",
       "      <td>Dublin</td>\n",
       "      <td>Grass</td>\n",
       "      <td>32</td>\n",
       "      <td>A</td>\n",
       "      <td>19680708</td>\n",
       "      <td>271</td>\n",
       "      <td>126914</td>\n",
       "      <td>NaN</td>\n",
       "      <td>NaN</td>\n",
       "      <td>Louis Pretorius</td>\n",
       "      <td>R</td>\n",
       "      <td>NaN</td>\n",
       "      <td>RSA</td>\n",
       "      <td>NaN</td>\n",
       "      <td>209536</td>\n",
       "      <td>NaN</td>\n",
       "      <td>NaN</td>\n",
       "      <td>Maurice Pollock</td>\n",
       "      <td>U</td>\n",
       "      <td>NaN</td>\n",
       "      <td>IRL</td>\n",
       "      <td>NaN</td>\n",
       "      <td>6-1 6-1</td>\n",
       "      <td>3</td>\n",
       "      <td>R32</td>\n",
       "      <td>NaN</td>\n",
       "      <td>NaN</td>\n",
       "      <td>NaN</td>\n",
       "      <td>NaN</td>\n",
       "      <td>NaN</td>\n",
       "      <td>NaN</td>\n",
       "      <td>NaN</td>\n",
       "      <td>NaN</td>\n",
       "      <td>NaN</td>\n",
       "      <td>NaN</td>\n",
       "      <td>NaN</td>\n",
       "      <td>NaN</td>\n",
       "      <td>NaN</td>\n",
       "      <td>NaN</td>\n",
       "      <td>NaN</td>\n",
       "      <td>NaN</td>\n",
       "      <td>NaN</td>\n",
       "      <td>NaN</td>\n",
       "      <td>NaN</td>\n",
       "      <td>NaN</td>\n",
       "      <td>NaN</td>\n",
       "      <td>NaN</td>\n",
       "      <td>NaN</td>\n",
       "      <td>Louis</td>\n",
       "      <td>Pretorius</td>\n",
       "      <td>19930829.0</td>\n",
       "      <td>NaN</td>\n",
       "      <td>NaN</td>\n",
       "      <td>Maurice</td>\n",
       "      <td>Pollock</td>\n",
       "      <td>NaN</td>\n",
       "      <td>NaN</td>\n",
       "      <td>NaN</td>\n",
       "    </tr>\n",
       "    <tr>\n",
       "      <th>2</th>\n",
       "      <td>1968-2029</td>\n",
       "      <td>Dublin</td>\n",
       "      <td>Grass</td>\n",
       "      <td>32</td>\n",
       "      <td>A</td>\n",
       "      <td>19680708</td>\n",
       "      <td>272</td>\n",
       "      <td>209523</td>\n",
       "      <td>NaN</td>\n",
       "      <td>NaN</td>\n",
       "      <td>Cecil Pedlow</td>\n",
       "      <td>U</td>\n",
       "      <td>NaN</td>\n",
       "      <td>IRL</td>\n",
       "      <td>NaN</td>\n",
       "      <td>209535</td>\n",
       "      <td>NaN</td>\n",
       "      <td>NaN</td>\n",
       "      <td>John Mulvey</td>\n",
       "      <td>U</td>\n",
       "      <td>NaN</td>\n",
       "      <td>IRL</td>\n",
       "      <td>NaN</td>\n",
       "      <td>6-2 6-2</td>\n",
       "      <td>3</td>\n",
       "      <td>R32</td>\n",
       "      <td>NaN</td>\n",
       "      <td>NaN</td>\n",
       "      <td>NaN</td>\n",
       "      <td>NaN</td>\n",
       "      <td>NaN</td>\n",
       "      <td>NaN</td>\n",
       "      <td>NaN</td>\n",
       "      <td>NaN</td>\n",
       "      <td>NaN</td>\n",
       "      <td>NaN</td>\n",
       "      <td>NaN</td>\n",
       "      <td>NaN</td>\n",
       "      <td>NaN</td>\n",
       "      <td>NaN</td>\n",
       "      <td>NaN</td>\n",
       "      <td>NaN</td>\n",
       "      <td>NaN</td>\n",
       "      <td>NaN</td>\n",
       "      <td>NaN</td>\n",
       "      <td>NaN</td>\n",
       "      <td>NaN</td>\n",
       "      <td>NaN</td>\n",
       "      <td>NaN</td>\n",
       "      <td>Cecil</td>\n",
       "      <td>Pedlow</td>\n",
       "      <td>NaN</td>\n",
       "      <td>NaN</td>\n",
       "      <td>NaN</td>\n",
       "      <td>John</td>\n",
       "      <td>Mulvey</td>\n",
       "      <td>NaN</td>\n",
       "      <td>NaN</td>\n",
       "      <td>NaN</td>\n",
       "    </tr>\n",
       "    <tr>\n",
       "      <th>3</th>\n",
       "      <td>1968-2029</td>\n",
       "      <td>Dublin</td>\n",
       "      <td>Grass</td>\n",
       "      <td>32</td>\n",
       "      <td>A</td>\n",
       "      <td>19680708</td>\n",
       "      <td>273</td>\n",
       "      <td>100084</td>\n",
       "      <td>NaN</td>\n",
       "      <td>NaN</td>\n",
       "      <td>Tom Okker</td>\n",
       "      <td>R</td>\n",
       "      <td>178.0</td>\n",
       "      <td>NED</td>\n",
       "      <td>24.3</td>\n",
       "      <td>209534</td>\n",
       "      <td>NaN</td>\n",
       "      <td>NaN</td>\n",
       "      <td>Unknown Fearmon</td>\n",
       "      <td>U</td>\n",
       "      <td>NaN</td>\n",
       "      <td>NaN</td>\n",
       "      <td>NaN</td>\n",
       "      <td>6-1 6-1</td>\n",
       "      <td>3</td>\n",
       "      <td>R32</td>\n",
       "      <td>NaN</td>\n",
       "      <td>NaN</td>\n",
       "      <td>NaN</td>\n",
       "      <td>NaN</td>\n",
       "      <td>NaN</td>\n",
       "      <td>NaN</td>\n",
       "      <td>NaN</td>\n",
       "      <td>NaN</td>\n",
       "      <td>NaN</td>\n",
       "      <td>NaN</td>\n",
       "      <td>NaN</td>\n",
       "      <td>NaN</td>\n",
       "      <td>NaN</td>\n",
       "      <td>NaN</td>\n",
       "      <td>NaN</td>\n",
       "      <td>NaN</td>\n",
       "      <td>NaN</td>\n",
       "      <td>NaN</td>\n",
       "      <td>NaN</td>\n",
       "      <td>NaN</td>\n",
       "      <td>NaN</td>\n",
       "      <td>NaN</td>\n",
       "      <td>NaN</td>\n",
       "      <td>Tom</td>\n",
       "      <td>Okker</td>\n",
       "      <td>19440222.0</td>\n",
       "      <td>178.0</td>\n",
       "      <td>Q455411</td>\n",
       "      <td>Unknown</td>\n",
       "      <td>Fearmon</td>\n",
       "      <td>NaN</td>\n",
       "      <td>NaN</td>\n",
       "      <td>NaN</td>\n",
       "    </tr>\n",
       "    <tr>\n",
       "      <th>4</th>\n",
       "      <td>1968-2029</td>\n",
       "      <td>Dublin</td>\n",
       "      <td>Grass</td>\n",
       "      <td>32</td>\n",
       "      <td>A</td>\n",
       "      <td>19680708</td>\n",
       "      <td>274</td>\n",
       "      <td>100132</td>\n",
       "      <td>NaN</td>\n",
       "      <td>NaN</td>\n",
       "      <td>Armistead Neely</td>\n",
       "      <td>R</td>\n",
       "      <td>NaN</td>\n",
       "      <td>USA</td>\n",
       "      <td>21.3</td>\n",
       "      <td>209533</td>\n",
       "      <td>NaN</td>\n",
       "      <td>NaN</td>\n",
       "      <td>Harry Sheridan</td>\n",
       "      <td>U</td>\n",
       "      <td>NaN</td>\n",
       "      <td>IRL</td>\n",
       "      <td>NaN</td>\n",
       "      <td>6-2 6-4</td>\n",
       "      <td>3</td>\n",
       "      <td>R32</td>\n",
       "      <td>NaN</td>\n",
       "      <td>NaN</td>\n",
       "      <td>NaN</td>\n",
       "      <td>NaN</td>\n",
       "      <td>NaN</td>\n",
       "      <td>NaN</td>\n",
       "      <td>NaN</td>\n",
       "      <td>NaN</td>\n",
       "      <td>NaN</td>\n",
       "      <td>NaN</td>\n",
       "      <td>NaN</td>\n",
       "      <td>NaN</td>\n",
       "      <td>NaN</td>\n",
       "      <td>NaN</td>\n",
       "      <td>NaN</td>\n",
       "      <td>NaN</td>\n",
       "      <td>NaN</td>\n",
       "      <td>NaN</td>\n",
       "      <td>NaN</td>\n",
       "      <td>NaN</td>\n",
       "      <td>NaN</td>\n",
       "      <td>NaN</td>\n",
       "      <td>NaN</td>\n",
       "      <td>Armistead</td>\n",
       "      <td>Neely</td>\n",
       "      <td>19470319.0</td>\n",
       "      <td>NaN</td>\n",
       "      <td>Q18085277</td>\n",
       "      <td>Harry</td>\n",
       "      <td>Sheridan</td>\n",
       "      <td>NaN</td>\n",
       "      <td>NaN</td>\n",
       "      <td>NaN</td>\n",
       "    </tr>\n",
       "    <tr>\n",
       "      <th>...</th>\n",
       "      <td>...</td>\n",
       "      <td>...</td>\n",
       "      <td>...</td>\n",
       "      <td>...</td>\n",
       "      <td>...</td>\n",
       "      <td>...</td>\n",
       "      <td>...</td>\n",
       "      <td>...</td>\n",
       "      <td>...</td>\n",
       "      <td>...</td>\n",
       "      <td>...</td>\n",
       "      <td>...</td>\n",
       "      <td>...</td>\n",
       "      <td>...</td>\n",
       "      <td>...</td>\n",
       "      <td>...</td>\n",
       "      <td>...</td>\n",
       "      <td>...</td>\n",
       "      <td>...</td>\n",
       "      <td>...</td>\n",
       "      <td>...</td>\n",
       "      <td>...</td>\n",
       "      <td>...</td>\n",
       "      <td>...</td>\n",
       "      <td>...</td>\n",
       "      <td>...</td>\n",
       "      <td>...</td>\n",
       "      <td>...</td>\n",
       "      <td>...</td>\n",
       "      <td>...</td>\n",
       "      <td>...</td>\n",
       "      <td>...</td>\n",
       "      <td>...</td>\n",
       "      <td>...</td>\n",
       "      <td>...</td>\n",
       "      <td>...</td>\n",
       "      <td>...</td>\n",
       "      <td>...</td>\n",
       "      <td>...</td>\n",
       "      <td>...</td>\n",
       "      <td>...</td>\n",
       "      <td>...</td>\n",
       "      <td>...</td>\n",
       "      <td>...</td>\n",
       "      <td>...</td>\n",
       "      <td>...</td>\n",
       "      <td>...</td>\n",
       "      <td>...</td>\n",
       "      <td>...</td>\n",
       "      <td>...</td>\n",
       "      <td>...</td>\n",
       "      <td>...</td>\n",
       "      <td>...</td>\n",
       "      <td>...</td>\n",
       "      <td>...</td>\n",
       "      <td>...</td>\n",
       "      <td>...</td>\n",
       "      <td>...</td>\n",
       "      <td>...</td>\n",
       "    </tr>\n",
       "    <tr>\n",
       "      <th>188156</th>\n",
       "      <td>2022-M-DC-2022-WG2-PO-GRE-JAM-01</td>\n",
       "      <td>Davis Cup WG2 PO: GRE vs JAM</td>\n",
       "      <td>Clay</td>\n",
       "      <td>4</td>\n",
       "      <td>D</td>\n",
       "      <td>20220304</td>\n",
       "      <td>4</td>\n",
       "      <td>209362</td>\n",
       "      <td>NaN</td>\n",
       "      <td>NaN</td>\n",
       "      <td>Aristotelis Thanos</td>\n",
       "      <td>R</td>\n",
       "      <td>NaN</td>\n",
       "      <td>GRE</td>\n",
       "      <td>20.8</td>\n",
       "      <td>209080</td>\n",
       "      <td>NaN</td>\n",
       "      <td>NaN</td>\n",
       "      <td>Blaise Bicknell</td>\n",
       "      <td>R</td>\n",
       "      <td>188.0</td>\n",
       "      <td>USA</td>\n",
       "      <td>20.2</td>\n",
       "      <td>6-4 6-4</td>\n",
       "      <td>3</td>\n",
       "      <td>RR</td>\n",
       "      <td>115.0</td>\n",
       "      <td>0.0</td>\n",
       "      <td>4.0</td>\n",
       "      <td>70.0</td>\n",
       "      <td>48.0</td>\n",
       "      <td>35.0</td>\n",
       "      <td>12.0</td>\n",
       "      <td>10.0</td>\n",
       "      <td>5.0</td>\n",
       "      <td>5.0</td>\n",
       "      <td>1.0</td>\n",
       "      <td>3.0</td>\n",
       "      <td>96.0</td>\n",
       "      <td>68.0</td>\n",
       "      <td>42.0</td>\n",
       "      <td>12.0</td>\n",
       "      <td>10.0</td>\n",
       "      <td>11.0</td>\n",
       "      <td>13.0</td>\n",
       "      <td>1103.0</td>\n",
       "      <td>9.0</td>\n",
       "      <td>1130.0</td>\n",
       "      <td>8.0</td>\n",
       "      <td>Aristotelis</td>\n",
       "      <td>Thanos</td>\n",
       "      <td>20010407.0</td>\n",
       "      <td>NaN</td>\n",
       "      <td>NaN</td>\n",
       "      <td>Blaise</td>\n",
       "      <td>Bicknell</td>\n",
       "      <td>20011126.0</td>\n",
       "      <td>188.0</td>\n",
       "      <td>Q96678039</td>\n",
       "    </tr>\n",
       "    <tr>\n",
       "      <th>188157</th>\n",
       "      <td>2022-M-DC-2022-WG2-PO-GRE-JAM-01</td>\n",
       "      <td>Davis Cup WG2 PO: GRE vs JAM</td>\n",
       "      <td>Clay</td>\n",
       "      <td>4</td>\n",
       "      <td>D</td>\n",
       "      <td>20220304</td>\n",
       "      <td>5</td>\n",
       "      <td>202065</td>\n",
       "      <td>NaN</td>\n",
       "      <td>NaN</td>\n",
       "      <td>Petros Tsitsipas</td>\n",
       "      <td>U</td>\n",
       "      <td>185.0</td>\n",
       "      <td>GRE</td>\n",
       "      <td>21.5</td>\n",
       "      <td>202120</td>\n",
       "      <td>NaN</td>\n",
       "      <td>NaN</td>\n",
       "      <td>Rowland Phillips</td>\n",
       "      <td>R</td>\n",
       "      <td>NaN</td>\n",
       "      <td>JAM</td>\n",
       "      <td>28.0</td>\n",
       "      <td>4-6 6-4 6-4</td>\n",
       "      <td>3</td>\n",
       "      <td>RR</td>\n",
       "      <td>161.0</td>\n",
       "      <td>7.0</td>\n",
       "      <td>2.0</td>\n",
       "      <td>94.0</td>\n",
       "      <td>55.0</td>\n",
       "      <td>37.0</td>\n",
       "      <td>23.0</td>\n",
       "      <td>15.0</td>\n",
       "      <td>9.0</td>\n",
       "      <td>12.0</td>\n",
       "      <td>1.0</td>\n",
       "      <td>1.0</td>\n",
       "      <td>94.0</td>\n",
       "      <td>56.0</td>\n",
       "      <td>40.0</td>\n",
       "      <td>20.0</td>\n",
       "      <td>15.0</td>\n",
       "      <td>4.0</td>\n",
       "      <td>8.0</td>\n",
       "      <td>808.0</td>\n",
       "      <td>23.0</td>\n",
       "      <td>1390.0</td>\n",
       "      <td>4.0</td>\n",
       "      <td>Petros</td>\n",
       "      <td>Tsitsipas</td>\n",
       "      <td>20000727.0</td>\n",
       "      <td>185.0</td>\n",
       "      <td>Q47508196</td>\n",
       "      <td>Rowland</td>\n",
       "      <td>Phillips</td>\n",
       "      <td>19940123.0</td>\n",
       "      <td>NaN</td>\n",
       "      <td>Q88392524</td>\n",
       "    </tr>\n",
       "    <tr>\n",
       "      <th>188158</th>\n",
       "      <td>2022-M-DC-2022-WG2-PO-HKG-BEN-01</td>\n",
       "      <td>Davis Cup WG2 PO: HKG vs BEN</td>\n",
       "      <td>Hard</td>\n",
       "      <td>4</td>\n",
       "      <td>D</td>\n",
       "      <td>20220304</td>\n",
       "      <td>1</td>\n",
       "      <td>138846</td>\n",
       "      <td>NaN</td>\n",
       "      <td>NaN</td>\n",
       "      <td>Hong Kit Jack Wong</td>\n",
       "      <td>R</td>\n",
       "      <td>NaN</td>\n",
       "      <td>HKG</td>\n",
       "      <td>23.4</td>\n",
       "      <td>105278</td>\n",
       "      <td>NaN</td>\n",
       "      <td>NaN</td>\n",
       "      <td>Alexis Klegou</td>\n",
       "      <td>U</td>\n",
       "      <td>NaN</td>\n",
       "      <td>BEN</td>\n",
       "      <td>33.0</td>\n",
       "      <td>1-6 6-4 4-1 RET</td>\n",
       "      <td>3</td>\n",
       "      <td>RR</td>\n",
       "      <td>250.0</td>\n",
       "      <td>4.0</td>\n",
       "      <td>8.0</td>\n",
       "      <td>56.0</td>\n",
       "      <td>33.0</td>\n",
       "      <td>20.0</td>\n",
       "      <td>13.0</td>\n",
       "      <td>11.0</td>\n",
       "      <td>3.0</td>\n",
       "      <td>7.0</td>\n",
       "      <td>0.0</td>\n",
       "      <td>3.0</td>\n",
       "      <td>72.0</td>\n",
       "      <td>54.0</td>\n",
       "      <td>29.0</td>\n",
       "      <td>8.0</td>\n",
       "      <td>11.0</td>\n",
       "      <td>6.0</td>\n",
       "      <td>10.0</td>\n",
       "      <td>1059.0</td>\n",
       "      <td>10.0</td>\n",
       "      <td>1881.0</td>\n",
       "      <td>1.0</td>\n",
       "      <td>Hong Kit Jack</td>\n",
       "      <td>Wong</td>\n",
       "      <td>19980830.0</td>\n",
       "      <td>NaN</td>\n",
       "      <td>Q28861638</td>\n",
       "      <td>Alexis</td>\n",
       "      <td>Klegou</td>\n",
       "      <td>19890125.0</td>\n",
       "      <td>NaN</td>\n",
       "      <td>Q33190369</td>\n",
       "    </tr>\n",
       "    <tr>\n",
       "      <th>188159</th>\n",
       "      <td>2022-M-DC-2022-WG2-PO-HKG-BEN-01</td>\n",
       "      <td>Davis Cup WG2 PO: HKG vs BEN</td>\n",
       "      <td>Hard</td>\n",
       "      <td>4</td>\n",
       "      <td>D</td>\n",
       "      <td>20220304</td>\n",
       "      <td>2</td>\n",
       "      <td>209409</td>\n",
       "      <td>NaN</td>\n",
       "      <td>NaN</td>\n",
       "      <td>Coleman Wong</td>\n",
       "      <td>R</td>\n",
       "      <td>NaN</td>\n",
       "      <td>HKG</td>\n",
       "      <td>17.7</td>\n",
       "      <td>200583</td>\n",
       "      <td>NaN</td>\n",
       "      <td>NaN</td>\n",
       "      <td>Delmas Ntcha</td>\n",
       "      <td>R</td>\n",
       "      <td>NaN</td>\n",
       "      <td>BEN</td>\n",
       "      <td>21.7</td>\n",
       "      <td>6-4 6-4</td>\n",
       "      <td>3</td>\n",
       "      <td>RR</td>\n",
       "      <td>98.0</td>\n",
       "      <td>2.0</td>\n",
       "      <td>2.0</td>\n",
       "      <td>68.0</td>\n",
       "      <td>38.0</td>\n",
       "      <td>24.0</td>\n",
       "      <td>18.0</td>\n",
       "      <td>10.0</td>\n",
       "      <td>6.0</td>\n",
       "      <td>8.0</td>\n",
       "      <td>1.0</td>\n",
       "      <td>5.0</td>\n",
       "      <td>58.0</td>\n",
       "      <td>39.0</td>\n",
       "      <td>24.0</td>\n",
       "      <td>7.0</td>\n",
       "      <td>10.0</td>\n",
       "      <td>5.0</td>\n",
       "      <td>9.0</td>\n",
       "      <td>NaN</td>\n",
       "      <td>NaN</td>\n",
       "      <td>NaN</td>\n",
       "      <td>NaN</td>\n",
       "      <td>Coleman</td>\n",
       "      <td>Wong</td>\n",
       "      <td>20040606.0</td>\n",
       "      <td>NaN</td>\n",
       "      <td>Q108498952</td>\n",
       "      <td>Delmas</td>\n",
       "      <td>Ntcha</td>\n",
       "      <td>20000616.0</td>\n",
       "      <td>NaN</td>\n",
       "      <td>NaN</td>\n",
       "    </tr>\n",
       "    <tr>\n",
       "      <th>188160</th>\n",
       "      <td>2022-M-DC-2022-WG2-PO-HKG-BEN-01</td>\n",
       "      <td>Davis Cup WG2 PO: HKG vs BEN</td>\n",
       "      <td>Hard</td>\n",
       "      <td>4</td>\n",
       "      <td>D</td>\n",
       "      <td>20220304</td>\n",
       "      <td>4</td>\n",
       "      <td>208414</td>\n",
       "      <td>NaN</td>\n",
       "      <td>NaN</td>\n",
       "      <td>Sylvestre Monnou</td>\n",
       "      <td>R</td>\n",
       "      <td>NaN</td>\n",
       "      <td>BEN</td>\n",
       "      <td>19.2</td>\n",
       "      <td>207132</td>\n",
       "      <td>NaN</td>\n",
       "      <td>NaN</td>\n",
       "      <td>Ki Lung Ng</td>\n",
       "      <td>R</td>\n",
       "      <td>NaN</td>\n",
       "      <td>HKG</td>\n",
       "      <td>NaN</td>\n",
       "      <td>6-4 6-4</td>\n",
       "      <td>3</td>\n",
       "      <td>RR</td>\n",
       "      <td>92.0</td>\n",
       "      <td>5.0</td>\n",
       "      <td>5.0</td>\n",
       "      <td>70.0</td>\n",
       "      <td>32.0</td>\n",
       "      <td>28.0</td>\n",
       "      <td>17.0</td>\n",
       "      <td>10.0</td>\n",
       "      <td>4.0</td>\n",
       "      <td>5.0</td>\n",
       "      <td>6.0</td>\n",
       "      <td>2.0</td>\n",
       "      <td>60.0</td>\n",
       "      <td>34.0</td>\n",
       "      <td>24.0</td>\n",
       "      <td>13.0</td>\n",
       "      <td>10.0</td>\n",
       "      <td>5.0</td>\n",
       "      <td>8.0</td>\n",
       "      <td>NaN</td>\n",
       "      <td>NaN</td>\n",
       "      <td>NaN</td>\n",
       "      <td>NaN</td>\n",
       "      <td>Sylvestre</td>\n",
       "      <td>Monnou</td>\n",
       "      <td>20021122.0</td>\n",
       "      <td>NaN</td>\n",
       "      <td>NaN</td>\n",
       "      <td>Ki Lung</td>\n",
       "      <td>Ng</td>\n",
       "      <td>NaN</td>\n",
       "      <td>NaN</td>\n",
       "      <td>NaN</td>\n",
       "    </tr>\n",
       "  </tbody>\n",
       "</table>\n",
       "<p>188161 rows × 59 columns</p>\n",
       "</div>"
      ],
      "text/plain": [
       "                              tourney_id                  tourney_name  \\\n",
       "0                              1968-2029                        Dublin   \n",
       "1                              1968-2029                        Dublin   \n",
       "2                              1968-2029                        Dublin   \n",
       "3                              1968-2029                        Dublin   \n",
       "4                              1968-2029                        Dublin   \n",
       "...                                  ...                           ...   \n",
       "188156  2022-M-DC-2022-WG2-PO-GRE-JAM-01  Davis Cup WG2 PO: GRE vs JAM   \n",
       "188157  2022-M-DC-2022-WG2-PO-GRE-JAM-01  Davis Cup WG2 PO: GRE vs JAM   \n",
       "188158  2022-M-DC-2022-WG2-PO-HKG-BEN-01  Davis Cup WG2 PO: HKG vs BEN   \n",
       "188159  2022-M-DC-2022-WG2-PO-HKG-BEN-01  Davis Cup WG2 PO: HKG vs BEN   \n",
       "188160  2022-M-DC-2022-WG2-PO-HKG-BEN-01  Davis Cup WG2 PO: HKG vs BEN   \n",
       "\n",
       "       surface  draw_size tourney_level  tourney_date  match_num  winner_id  \\\n",
       "0        Grass         32             A      19680708        270     112411   \n",
       "1        Grass         32             A      19680708        271     126914   \n",
       "2        Grass         32             A      19680708        272     209523   \n",
       "3        Grass         32             A      19680708        273     100084   \n",
       "4        Grass         32             A      19680708        274     100132   \n",
       "...        ...        ...           ...           ...        ...        ...   \n",
       "188156    Clay          4             D      20220304          4     209362   \n",
       "188157    Clay          4             D      20220304          5     202065   \n",
       "188158    Hard          4             D      20220304          1     138846   \n",
       "188159    Hard          4             D      20220304          2     209409   \n",
       "188160    Hard          4             D      20220304          4     208414   \n",
       "\n",
       "        winner_seed winner_entry         winner_name winner_hand  winner_ht  \\\n",
       "0               NaN          NaN       Douglas Smith           U        NaN   \n",
       "1               NaN          NaN     Louis Pretorius           R        NaN   \n",
       "2               NaN          NaN        Cecil Pedlow           U        NaN   \n",
       "3               NaN          NaN           Tom Okker           R      178.0   \n",
       "4               NaN          NaN     Armistead Neely           R        NaN   \n",
       "...             ...          ...                 ...         ...        ...   \n",
       "188156          NaN          NaN  Aristotelis Thanos           R        NaN   \n",
       "188157          NaN          NaN    Petros Tsitsipas           U      185.0   \n",
       "188158          NaN          NaN  Hong Kit Jack Wong           R        NaN   \n",
       "188159          NaN          NaN        Coleman Wong           R        NaN   \n",
       "188160          NaN          NaN    Sylvestre Monnou           R        NaN   \n",
       "\n",
       "       winner_ioc  winner_age  loser_id  loser_seed loser_entry  \\\n",
       "0             AUS         NaN    110196         NaN         NaN   \n",
       "1             RSA         NaN    209536         NaN         NaN   \n",
       "2             IRL         NaN    209535         NaN         NaN   \n",
       "3             NED        24.3    209534         NaN         NaN   \n",
       "4             USA        21.3    209533         NaN         NaN   \n",
       "...           ...         ...       ...         ...         ...   \n",
       "188156        GRE        20.8    209080         NaN         NaN   \n",
       "188157        GRE        21.5    202120         NaN         NaN   \n",
       "188158        HKG        23.4    105278         NaN         NaN   \n",
       "188159        HKG        17.7    200583         NaN         NaN   \n",
       "188160        BEN        19.2    207132         NaN         NaN   \n",
       "\n",
       "              loser_name loser_hand  loser_ht loser_ioc  loser_age  \\\n",
       "0        Peter Ledbetter          U       NaN       UNK       24.0   \n",
       "1        Maurice Pollock          U       NaN       IRL        NaN   \n",
       "2            John Mulvey          U       NaN       IRL        NaN   \n",
       "3        Unknown Fearmon          U       NaN       NaN        NaN   \n",
       "4         Harry Sheridan          U       NaN       IRL        NaN   \n",
       "...                  ...        ...       ...       ...        ...   \n",
       "188156   Blaise Bicknell          R     188.0       USA       20.2   \n",
       "188157  Rowland Phillips          R       NaN       JAM       28.0   \n",
       "188158     Alexis Klegou          U       NaN       BEN       33.0   \n",
       "188159      Delmas Ntcha          R       NaN       BEN       21.7   \n",
       "188160        Ki Lung Ng          R       NaN       HKG        NaN   \n",
       "\n",
       "                  score  best_of round  minutes  w_ace  w_df  w_svpt  w_1stIn  \\\n",
       "0               6-1 7-5        3   R32      NaN    NaN   NaN     NaN      NaN   \n",
       "1               6-1 6-1        3   R32      NaN    NaN   NaN     NaN      NaN   \n",
       "2               6-2 6-2        3   R32      NaN    NaN   NaN     NaN      NaN   \n",
       "3               6-1 6-1        3   R32      NaN    NaN   NaN     NaN      NaN   \n",
       "4               6-2 6-4        3   R32      NaN    NaN   NaN     NaN      NaN   \n",
       "...                 ...      ...   ...      ...    ...   ...     ...      ...   \n",
       "188156          6-4 6-4        3    RR    115.0    0.0   4.0    70.0     48.0   \n",
       "188157      4-6 6-4 6-4        3    RR    161.0    7.0   2.0    94.0     55.0   \n",
       "188158  1-6 6-4 4-1 RET        3    RR    250.0    4.0   8.0    56.0     33.0   \n",
       "188159          6-4 6-4        3    RR     98.0    2.0   2.0    68.0     38.0   \n",
       "188160          6-4 6-4        3    RR     92.0    5.0   5.0    70.0     32.0   \n",
       "\n",
       "        w_1stWon  w_2ndWon  w_SvGms  w_bpSaved  w_bpFaced  l_ace  l_df  \\\n",
       "0            NaN       NaN      NaN        NaN        NaN    NaN   NaN   \n",
       "1            NaN       NaN      NaN        NaN        NaN    NaN   NaN   \n",
       "2            NaN       NaN      NaN        NaN        NaN    NaN   NaN   \n",
       "3            NaN       NaN      NaN        NaN        NaN    NaN   NaN   \n",
       "4            NaN       NaN      NaN        NaN        NaN    NaN   NaN   \n",
       "...          ...       ...      ...        ...        ...    ...   ...   \n",
       "188156      35.0      12.0     10.0        5.0        5.0    1.0   3.0   \n",
       "188157      37.0      23.0     15.0        9.0       12.0    1.0   1.0   \n",
       "188158      20.0      13.0     11.0        3.0        7.0    0.0   3.0   \n",
       "188159      24.0      18.0     10.0        6.0        8.0    1.0   5.0   \n",
       "188160      28.0      17.0     10.0        4.0        5.0    6.0   2.0   \n",
       "\n",
       "        l_svpt  l_1stIn  l_1stWon  l_2ndWon  l_SvGms  l_bpSaved  l_bpFaced  \\\n",
       "0          NaN      NaN       NaN       NaN      NaN        NaN        NaN   \n",
       "1          NaN      NaN       NaN       NaN      NaN        NaN        NaN   \n",
       "2          NaN      NaN       NaN       NaN      NaN        NaN        NaN   \n",
       "3          NaN      NaN       NaN       NaN      NaN        NaN        NaN   \n",
       "4          NaN      NaN       NaN       NaN      NaN        NaN        NaN   \n",
       "...        ...      ...       ...       ...      ...        ...        ...   \n",
       "188156    96.0     68.0      42.0      12.0     10.0       11.0       13.0   \n",
       "188157    94.0     56.0      40.0      20.0     15.0        4.0        8.0   \n",
       "188158    72.0     54.0      29.0       8.0     11.0        6.0       10.0   \n",
       "188159    58.0     39.0      24.0       7.0     10.0        5.0        9.0   \n",
       "188160    60.0     34.0      24.0      13.0     10.0        5.0        8.0   \n",
       "\n",
       "        winner_rank  winner_rank_points  loser_rank  loser_rank_points  \\\n",
       "0               NaN                 NaN         NaN                NaN   \n",
       "1               NaN                 NaN         NaN                NaN   \n",
       "2               NaN                 NaN         NaN                NaN   \n",
       "3               NaN                 NaN         NaN                NaN   \n",
       "4               NaN                 NaN         NaN                NaN   \n",
       "...             ...                 ...         ...                ...   \n",
       "188156       1103.0                 9.0      1130.0                8.0   \n",
       "188157        808.0                23.0      1390.0                4.0   \n",
       "188158       1059.0                10.0      1881.0                1.0   \n",
       "188159          NaN                 NaN         NaN                NaN   \n",
       "188160          NaN                 NaN         NaN                NaN   \n",
       "\n",
       "       name_first_winner name_last_winner  dob_winner  height_winner  \\\n",
       "0                Douglas            Smith         NaN            NaN   \n",
       "1                  Louis        Pretorius  19930829.0            NaN   \n",
       "2                  Cecil           Pedlow         NaN            NaN   \n",
       "3                    Tom            Okker  19440222.0          178.0   \n",
       "4              Armistead            Neely  19470319.0            NaN   \n",
       "...                  ...              ...         ...            ...   \n",
       "188156       Aristotelis           Thanos  20010407.0            NaN   \n",
       "188157            Petros        Tsitsipas  20000727.0          185.0   \n",
       "188158     Hong Kit Jack             Wong  19980830.0            NaN   \n",
       "188159           Coleman             Wong  20040606.0            NaN   \n",
       "188160         Sylvestre           Monnou  20021122.0            NaN   \n",
       "\n",
       "       wikidata_winner name_first_loser name_last_loser   dob_loser  \\\n",
       "0                  NaN            Peter       Ledbetter  19440703.0   \n",
       "1                  NaN          Maurice         Pollock         NaN   \n",
       "2                  NaN             John          Mulvey         NaN   \n",
       "3              Q455411          Unknown         Fearmon         NaN   \n",
       "4            Q18085277            Harry        Sheridan         NaN   \n",
       "...                ...              ...             ...         ...   \n",
       "188156             NaN           Blaise        Bicknell  20011126.0   \n",
       "188157       Q47508196          Rowland        Phillips  19940123.0   \n",
       "188158       Q28861638           Alexis          Klegou  19890125.0   \n",
       "188159      Q108498952           Delmas           Ntcha  20000616.0   \n",
       "188160             NaN          Ki Lung              Ng         NaN   \n",
       "\n",
       "        height_loser wikidata_loser  \n",
       "0                NaN            NaN  \n",
       "1                NaN            NaN  \n",
       "2                NaN            NaN  \n",
       "3                NaN            NaN  \n",
       "4                NaN            NaN  \n",
       "...              ...            ...  \n",
       "188156         188.0      Q96678039  \n",
       "188157           NaN      Q88392524  \n",
       "188158           NaN      Q33190369  \n",
       "188159           NaN            NaN  \n",
       "188160           NaN            NaN  \n",
       "\n",
       "[188161 rows x 59 columns]"
      ]
     },
     "execution_count": 6,
     "metadata": {},
     "output_type": "execute_result"
    }
   ],
   "source": [
    "df_matches_players"
   ]
  },
  {
   "cell_type": "markdown",
   "metadata": {},
   "source": [
    "<br>"
   ]
  },
  {
   "cell_type": "markdown",
   "metadata": {},
   "source": [
    "### Tabelle mit Siegen und Niederlagen der Deutschen Nation pro Turnier"
   ]
  },
  {
   "cell_type": "code",
   "execution_count": 13,
   "metadata": {},
   "outputs": [
    {
     "data": {
      "text/html": [
       "<div>\n",
       "<style scoped>\n",
       "    .dataframe tbody tr th:only-of-type {\n",
       "        vertical-align: middle;\n",
       "    }\n",
       "\n",
       "    .dataframe tbody tr th {\n",
       "        vertical-align: top;\n",
       "    }\n",
       "\n",
       "    .dataframe thead th {\n",
       "        text-align: right;\n",
       "    }\n",
       "</style>\n",
       "<table border=\"1\" class=\"dataframe\">\n",
       "  <thead>\n",
       "    <tr style=\"text-align: right;\">\n",
       "      <th></th>\n",
       "      <th>tourney_name</th>\n",
       "      <th>Siege</th>\n",
       "      <th>Niederlagen</th>\n",
       "      <th>Siegesquote</th>\n",
       "    </tr>\n",
       "  </thead>\n",
       "  <tbody>\n",
       "    <tr>\n",
       "      <th>0</th>\n",
       "      <td>Acapulco</td>\n",
       "      <td>26</td>\n",
       "      <td>23</td>\n",
       "      <td>0.530612</td>\n",
       "    </tr>\n",
       "    <tr>\n",
       "      <th>1</th>\n",
       "      <td>Adelaide</td>\n",
       "      <td>68</td>\n",
       "      <td>73</td>\n",
       "      <td>0.482270</td>\n",
       "    </tr>\n",
       "    <tr>\n",
       "      <th>2</th>\n",
       "      <td>Adelaide 1</td>\n",
       "      <td>0</td>\n",
       "      <td>1</td>\n",
       "      <td>0.000000</td>\n",
       "    </tr>\n",
       "    <tr>\n",
       "      <th>3</th>\n",
       "      <td>Adelaide 2</td>\n",
       "      <td>0</td>\n",
       "      <td>1</td>\n",
       "      <td>0.000000</td>\n",
       "    </tr>\n",
       "    <tr>\n",
       "      <th>4</th>\n",
       "      <td>Adelaide-2</td>\n",
       "      <td>5</td>\n",
       "      <td>4</td>\n",
       "      <td>0.555556</td>\n",
       "    </tr>\n",
       "    <tr>\n",
       "      <th>...</th>\n",
       "      <td>...</td>\n",
       "      <td>...</td>\n",
       "      <td>...</td>\n",
       "      <td>...</td>\n",
       "    </tr>\n",
       "    <tr>\n",
       "      <th>477</th>\n",
       "      <td>Davis Cup WG SF: FRG vs TCH</td>\n",
       "      <td>4</td>\n",
       "      <td>0</td>\n",
       "      <td>1.000000</td>\n",
       "    </tr>\n",
       "    <tr>\n",
       "      <th>478</th>\n",
       "      <td>Davis Cup WG SF: FRG vs YUG</td>\n",
       "      <td>4</td>\n",
       "      <td>0</td>\n",
       "      <td>1.000000</td>\n",
       "    </tr>\n",
       "    <tr>\n",
       "      <th>479</th>\n",
       "      <td>Davis Cup WG SF: SWE vs GER</td>\n",
       "      <td>4</td>\n",
       "      <td>0</td>\n",
       "      <td>1.000000</td>\n",
       "    </tr>\n",
       "    <tr>\n",
       "      <th>480</th>\n",
       "      <td>Davis Cup WG2 PO: LAT vs EGY</td>\n",
       "      <td>1</td>\n",
       "      <td>0</td>\n",
       "      <td>1.000000</td>\n",
       "    </tr>\n",
       "    <tr>\n",
       "      <th>481</th>\n",
       "      <td>Davis Cup WG2 R1: DOM vs LAT</td>\n",
       "      <td>1</td>\n",
       "      <td>0</td>\n",
       "      <td>1.000000</td>\n",
       "    </tr>\n",
       "  </tbody>\n",
       "</table>\n",
       "<p>482 rows × 4 columns</p>\n",
       "</div>"
      ],
      "text/plain": [
       "                     tourney_name  Siege  Niederlagen  Siegesquote\n",
       "0                        Acapulco     26           23     0.530612\n",
       "1                        Adelaide     68           73     0.482270\n",
       "2                      Adelaide 1      0            1     0.000000\n",
       "3                      Adelaide 2      0            1     0.000000\n",
       "4                      Adelaide-2      5            4     0.555556\n",
       "..                            ...    ...          ...          ...\n",
       "477   Davis Cup WG SF: FRG vs TCH      4            0     1.000000\n",
       "478   Davis Cup WG SF: FRG vs YUG      4            0     1.000000\n",
       "479   Davis Cup WG SF: SWE vs GER      4            0     1.000000\n",
       "480  Davis Cup WG2 PO: LAT vs EGY      1            0     1.000000\n",
       "481  Davis Cup WG2 R1: DOM vs LAT      1            0     1.000000\n",
       "\n",
       "[482 rows x 4 columns]"
      ]
     },
     "execution_count": 13,
     "metadata": {},
     "output_type": "execute_result"
    }
   ],
   "source": [
    "#Nur Zeilen, bei denen Deutschland als Gewinner hervorgeht\n",
    "df_GER_win = df_matches_players[df_matches_players.winner_ioc == \"GER\"].groupby(\"tourney_name\").size().reset_index(name=\"Siege\")\n",
    "\n",
    "#Nur Zeilen, bei denen Deutschland als Verlierer hervorgeht\n",
    "df_GER_lose = df_matches_players[df_matches_players.loser_ioc == \"GER\"].groupby(\"tourney_name\").size().reset_index(name=\"Niederlagen\")\n",
    "\n",
    "#Tabellen joinen\n",
    "df_merge = pd.merge(df_GER_lose, df_GER_win, how=\"outer\", on= \"tourney_name\")\n",
    "\n",
    "#Null-Werte entfernen und Datentyp zu int64 ändern\n",
    "fillna_0_astype_int64(df_merge)\n",
    "\n",
    "#Spalte Siegesquote hinzufügen\n",
    "siegesquote_funktion(df_merge)\n",
    "\n",
    "#Spaltenreihenfolge anpassen\n",
    "df_merge = df_merge[[ \"tourney_name\", \"Siege\", \"Niederlagen\", \"Siegesquote\"]]\n",
    "\n",
    "df_merge"
   ]
  },
  {
   "cell_type": "markdown",
   "metadata": {},
   "source": [
    "### Top 5 Turniere, bei denen die Deutschen am schlechtesten abgeschnitten haben"
   ]
  },
  {
   "cell_type": "code",
   "execution_count": 8,
   "metadata": {},
   "outputs": [
    {
     "data": {
      "text/html": [
       "<div>\n",
       "<style scoped>\n",
       "    .dataframe tbody tr th:only-of-type {\n",
       "        vertical-align: middle;\n",
       "    }\n",
       "\n",
       "    .dataframe tbody tr th {\n",
       "        vertical-align: top;\n",
       "    }\n",
       "\n",
       "    .dataframe thead th {\n",
       "        text-align: right;\n",
       "    }\n",
       "</style>\n",
       "<table border=\"1\" class=\"dataframe\">\n",
       "  <thead>\n",
       "    <tr style=\"text-align: right;\">\n",
       "      <th></th>\n",
       "      <th>tourney_id</th>\n",
       "      <th>tourney_name</th>\n",
       "      <th>Siege</th>\n",
       "      <th>Niederlagen</th>\n",
       "      <th>Siegesquote</th>\n",
       "      <th>Land</th>\n",
       "    </tr>\n",
       "  </thead>\n",
       "  <tbody>\n",
       "    <tr>\n",
       "      <th>39993</th>\n",
       "      <td>2003-D007</td>\n",
       "      <td>Davis Cup WG R1: ARG vs GER</td>\n",
       "      <td>0</td>\n",
       "      <td>8</td>\n",
       "      <td>0.0</td>\n",
       "      <td>FRA</td>\n",
       "    </tr>\n",
       "    <tr>\n",
       "      <th>39997</th>\n",
       "      <td>2013-D006</td>\n",
       "      <td>Davis Cup WG R1: ARG vs GER</td>\n",
       "      <td>0</td>\n",
       "      <td>8</td>\n",
       "      <td>0.0</td>\n",
       "      <td>ITA</td>\n",
       "    </tr>\n",
       "    <tr>\n",
       "      <th>78906</th>\n",
       "      <td>1969-3936</td>\n",
       "      <td>Melbourne</td>\n",
       "      <td>0</td>\n",
       "      <td>5</td>\n",
       "      <td>0.0</td>\n",
       "      <td>DEU</td>\n",
       "    </tr>\n",
       "    <tr>\n",
       "      <th>78929</th>\n",
       "      <td>1970-3936</td>\n",
       "      <td>Melbourne</td>\n",
       "      <td>0</td>\n",
       "      <td>5</td>\n",
       "      <td>0.0</td>\n",
       "      <td>DEU</td>\n",
       "    </tr>\n",
       "    <tr>\n",
       "      <th>78966</th>\n",
       "      <td>1971-3936</td>\n",
       "      <td>Melbourne</td>\n",
       "      <td>0</td>\n",
       "      <td>5</td>\n",
       "      <td>0.0</td>\n",
       "      <td>AUT</td>\n",
       "    </tr>\n",
       "  </tbody>\n",
       "</table>\n",
       "</div>"
      ],
      "text/plain": [
       "      tourney_id                 tourney_name  Siege  Niederlagen  \\\n",
       "39993  2003-D007  Davis Cup WG R1: ARG vs GER      0            8   \n",
       "39997  2013-D006  Davis Cup WG R1: ARG vs GER      0            8   \n",
       "78906  1969-3936                    Melbourne      0            5   \n",
       "78929  1970-3936                    Melbourne      0            5   \n",
       "78966  1971-3936                    Melbourne      0            5   \n",
       "\n",
       "       Siegesquote Land  \n",
       "39993          0.0  FRA  \n",
       "39997          0.0  ITA  \n",
       "78906          0.0  DEU  \n",
       "78929          0.0  DEU  \n",
       "78966          0.0  AUT  "
      ]
     },
     "execution_count": 8,
     "metadata": {},
     "output_type": "execute_result"
    }
   ],
   "source": [
    "df_filtered = df_merge.sort_values(by=[\"Siegesquote\", \"Niederlagen\"], ascending=[True, False])\n",
    "df_filtered = df_filtered[0:5]\n",
    "\n",
    "# Neue Spalte erstellen\n",
    "df_filtered['Land'] = \"\"\n",
    "\n",
    "# Jedem Turnier das Länderkürzel zuweisen\n",
    "df_filtered['Land'] = [\"FRA\", \"ITA\", \"DEU\", \"DEU\", \"AUT\"]\n",
    "df_filtered"
   ]
  },
  {
   "cell_type": "code",
   "execution_count": 9,
   "metadata": {},
   "outputs": [
    {
     "data": {
      "application/vnd.plotly.v1+json": {
       "config": {
        "plotlyServerURL": "https://plot.ly"
       },
       "data": [
        {
         "coloraxis": "coloraxis",
         "geo": "geo",
         "hovertemplate": "Land=%{location}<br>Siegesquote=%{z}<extra></extra>",
         "locations": [
          "FRA",
          "ITA",
          "DEU",
          "DEU",
          "AUT"
         ],
         "name": "",
         "type": "choropleth",
         "z": [
          0,
          0,
          0,
          0,
          0
         ]
        }
       ],
       "layout": {
        "coloraxis": {
         "cmax": 1,
         "cmin": 0,
         "colorbar": {
          "title": {
           "text": "Siegesquote"
          }
         },
         "colorscale": [
          [
           0,
           "#0d0887"
          ],
          [
           0.1111111111111111,
           "#46039f"
          ],
          [
           0.2222222222222222,
           "#7201a8"
          ],
          [
           0.3333333333333333,
           "#9c179e"
          ],
          [
           0.4444444444444444,
           "#bd3786"
          ],
          [
           0.5555555555555556,
           "#d8576b"
          ],
          [
           0.6666666666666666,
           "#ed7953"
          ],
          [
           0.7777777777777778,
           "#fb9f3a"
          ],
          [
           0.8888888888888888,
           "#fdca26"
          ],
          [
           1,
           "#f0f921"
          ]
         ]
        },
        "geo": {
         "center": {},
         "domain": {
          "x": [
           0,
           1
          ],
          "y": [
           0,
           1
          ]
         }
        },
        "legend": {
         "tracegroupgap": 0
        },
        "template": {
         "data": {
          "bar": [
           {
            "error_x": {
             "color": "#2a3f5f"
            },
            "error_y": {
             "color": "#2a3f5f"
            },
            "marker": {
             "line": {
              "color": "#E5ECF6",
              "width": 0.5
             },
             "pattern": {
              "fillmode": "overlay",
              "size": 10,
              "solidity": 0.2
             }
            },
            "type": "bar"
           }
          ],
          "barpolar": [
           {
            "marker": {
             "line": {
              "color": "#E5ECF6",
              "width": 0.5
             },
             "pattern": {
              "fillmode": "overlay",
              "size": 10,
              "solidity": 0.2
             }
            },
            "type": "barpolar"
           }
          ],
          "carpet": [
           {
            "aaxis": {
             "endlinecolor": "#2a3f5f",
             "gridcolor": "white",
             "linecolor": "white",
             "minorgridcolor": "white",
             "startlinecolor": "#2a3f5f"
            },
            "baxis": {
             "endlinecolor": "#2a3f5f",
             "gridcolor": "white",
             "linecolor": "white",
             "minorgridcolor": "white",
             "startlinecolor": "#2a3f5f"
            },
            "type": "carpet"
           }
          ],
          "choropleth": [
           {
            "colorbar": {
             "outlinewidth": 0,
             "ticks": ""
            },
            "type": "choropleth"
           }
          ],
          "contour": [
           {
            "colorbar": {
             "outlinewidth": 0,
             "ticks": ""
            },
            "colorscale": [
             [
              0,
              "#0d0887"
             ],
             [
              0.1111111111111111,
              "#46039f"
             ],
             [
              0.2222222222222222,
              "#7201a8"
             ],
             [
              0.3333333333333333,
              "#9c179e"
             ],
             [
              0.4444444444444444,
              "#bd3786"
             ],
             [
              0.5555555555555556,
              "#d8576b"
             ],
             [
              0.6666666666666666,
              "#ed7953"
             ],
             [
              0.7777777777777778,
              "#fb9f3a"
             ],
             [
              0.8888888888888888,
              "#fdca26"
             ],
             [
              1,
              "#f0f921"
             ]
            ],
            "type": "contour"
           }
          ],
          "contourcarpet": [
           {
            "colorbar": {
             "outlinewidth": 0,
             "ticks": ""
            },
            "type": "contourcarpet"
           }
          ],
          "heatmap": [
           {
            "colorbar": {
             "outlinewidth": 0,
             "ticks": ""
            },
            "colorscale": [
             [
              0,
              "#0d0887"
             ],
             [
              0.1111111111111111,
              "#46039f"
             ],
             [
              0.2222222222222222,
              "#7201a8"
             ],
             [
              0.3333333333333333,
              "#9c179e"
             ],
             [
              0.4444444444444444,
              "#bd3786"
             ],
             [
              0.5555555555555556,
              "#d8576b"
             ],
             [
              0.6666666666666666,
              "#ed7953"
             ],
             [
              0.7777777777777778,
              "#fb9f3a"
             ],
             [
              0.8888888888888888,
              "#fdca26"
             ],
             [
              1,
              "#f0f921"
             ]
            ],
            "type": "heatmap"
           }
          ],
          "heatmapgl": [
           {
            "colorbar": {
             "outlinewidth": 0,
             "ticks": ""
            },
            "colorscale": [
             [
              0,
              "#0d0887"
             ],
             [
              0.1111111111111111,
              "#46039f"
             ],
             [
              0.2222222222222222,
              "#7201a8"
             ],
             [
              0.3333333333333333,
              "#9c179e"
             ],
             [
              0.4444444444444444,
              "#bd3786"
             ],
             [
              0.5555555555555556,
              "#d8576b"
             ],
             [
              0.6666666666666666,
              "#ed7953"
             ],
             [
              0.7777777777777778,
              "#fb9f3a"
             ],
             [
              0.8888888888888888,
              "#fdca26"
             ],
             [
              1,
              "#f0f921"
             ]
            ],
            "type": "heatmapgl"
           }
          ],
          "histogram": [
           {
            "marker": {
             "pattern": {
              "fillmode": "overlay",
              "size": 10,
              "solidity": 0.2
             }
            },
            "type": "histogram"
           }
          ],
          "histogram2d": [
           {
            "colorbar": {
             "outlinewidth": 0,
             "ticks": ""
            },
            "colorscale": [
             [
              0,
              "#0d0887"
             ],
             [
              0.1111111111111111,
              "#46039f"
             ],
             [
              0.2222222222222222,
              "#7201a8"
             ],
             [
              0.3333333333333333,
              "#9c179e"
             ],
             [
              0.4444444444444444,
              "#bd3786"
             ],
             [
              0.5555555555555556,
              "#d8576b"
             ],
             [
              0.6666666666666666,
              "#ed7953"
             ],
             [
              0.7777777777777778,
              "#fb9f3a"
             ],
             [
              0.8888888888888888,
              "#fdca26"
             ],
             [
              1,
              "#f0f921"
             ]
            ],
            "type": "histogram2d"
           }
          ],
          "histogram2dcontour": [
           {
            "colorbar": {
             "outlinewidth": 0,
             "ticks": ""
            },
            "colorscale": [
             [
              0,
              "#0d0887"
             ],
             [
              0.1111111111111111,
              "#46039f"
             ],
             [
              0.2222222222222222,
              "#7201a8"
             ],
             [
              0.3333333333333333,
              "#9c179e"
             ],
             [
              0.4444444444444444,
              "#bd3786"
             ],
             [
              0.5555555555555556,
              "#d8576b"
             ],
             [
              0.6666666666666666,
              "#ed7953"
             ],
             [
              0.7777777777777778,
              "#fb9f3a"
             ],
             [
              0.8888888888888888,
              "#fdca26"
             ],
             [
              1,
              "#f0f921"
             ]
            ],
            "type": "histogram2dcontour"
           }
          ],
          "mesh3d": [
           {
            "colorbar": {
             "outlinewidth": 0,
             "ticks": ""
            },
            "type": "mesh3d"
           }
          ],
          "parcoords": [
           {
            "line": {
             "colorbar": {
              "outlinewidth": 0,
              "ticks": ""
             }
            },
            "type": "parcoords"
           }
          ],
          "pie": [
           {
            "automargin": true,
            "type": "pie"
           }
          ],
          "scatter": [
           {
            "fillpattern": {
             "fillmode": "overlay",
             "size": 10,
             "solidity": 0.2
            },
            "type": "scatter"
           }
          ],
          "scatter3d": [
           {
            "line": {
             "colorbar": {
              "outlinewidth": 0,
              "ticks": ""
             }
            },
            "marker": {
             "colorbar": {
              "outlinewidth": 0,
              "ticks": ""
             }
            },
            "type": "scatter3d"
           }
          ],
          "scattercarpet": [
           {
            "marker": {
             "colorbar": {
              "outlinewidth": 0,
              "ticks": ""
             }
            },
            "type": "scattercarpet"
           }
          ],
          "scattergeo": [
           {
            "marker": {
             "colorbar": {
              "outlinewidth": 0,
              "ticks": ""
             }
            },
            "type": "scattergeo"
           }
          ],
          "scattergl": [
           {
            "marker": {
             "colorbar": {
              "outlinewidth": 0,
              "ticks": ""
             }
            },
            "type": "scattergl"
           }
          ],
          "scattermapbox": [
           {
            "marker": {
             "colorbar": {
              "outlinewidth": 0,
              "ticks": ""
             }
            },
            "type": "scattermapbox"
           }
          ],
          "scatterpolar": [
           {
            "marker": {
             "colorbar": {
              "outlinewidth": 0,
              "ticks": ""
             }
            },
            "type": "scatterpolar"
           }
          ],
          "scatterpolargl": [
           {
            "marker": {
             "colorbar": {
              "outlinewidth": 0,
              "ticks": ""
             }
            },
            "type": "scatterpolargl"
           }
          ],
          "scatterternary": [
           {
            "marker": {
             "colorbar": {
              "outlinewidth": 0,
              "ticks": ""
             }
            },
            "type": "scatterternary"
           }
          ],
          "surface": [
           {
            "colorbar": {
             "outlinewidth": 0,
             "ticks": ""
            },
            "colorscale": [
             [
              0,
              "#0d0887"
             ],
             [
              0.1111111111111111,
              "#46039f"
             ],
             [
              0.2222222222222222,
              "#7201a8"
             ],
             [
              0.3333333333333333,
              "#9c179e"
             ],
             [
              0.4444444444444444,
              "#bd3786"
             ],
             [
              0.5555555555555556,
              "#d8576b"
             ],
             [
              0.6666666666666666,
              "#ed7953"
             ],
             [
              0.7777777777777778,
              "#fb9f3a"
             ],
             [
              0.8888888888888888,
              "#fdca26"
             ],
             [
              1,
              "#f0f921"
             ]
            ],
            "type": "surface"
           }
          ],
          "table": [
           {
            "cells": {
             "fill": {
              "color": "#EBF0F8"
             },
             "line": {
              "color": "white"
             }
            },
            "header": {
             "fill": {
              "color": "#C8D4E3"
             },
             "line": {
              "color": "white"
             }
            },
            "type": "table"
           }
          ]
         },
         "layout": {
          "annotationdefaults": {
           "arrowcolor": "#2a3f5f",
           "arrowhead": 0,
           "arrowwidth": 1
          },
          "autotypenumbers": "strict",
          "coloraxis": {
           "colorbar": {
            "outlinewidth": 0,
            "ticks": ""
           }
          },
          "colorscale": {
           "diverging": [
            [
             0,
             "#8e0152"
            ],
            [
             0.1,
             "#c51b7d"
            ],
            [
             0.2,
             "#de77ae"
            ],
            [
             0.3,
             "#f1b6da"
            ],
            [
             0.4,
             "#fde0ef"
            ],
            [
             0.5,
             "#f7f7f7"
            ],
            [
             0.6,
             "#e6f5d0"
            ],
            [
             0.7,
             "#b8e186"
            ],
            [
             0.8,
             "#7fbc41"
            ],
            [
             0.9,
             "#4d9221"
            ],
            [
             1,
             "#276419"
            ]
           ],
           "sequential": [
            [
             0,
             "#0d0887"
            ],
            [
             0.1111111111111111,
             "#46039f"
            ],
            [
             0.2222222222222222,
             "#7201a8"
            ],
            [
             0.3333333333333333,
             "#9c179e"
            ],
            [
             0.4444444444444444,
             "#bd3786"
            ],
            [
             0.5555555555555556,
             "#d8576b"
            ],
            [
             0.6666666666666666,
             "#ed7953"
            ],
            [
             0.7777777777777778,
             "#fb9f3a"
            ],
            [
             0.8888888888888888,
             "#fdca26"
            ],
            [
             1,
             "#f0f921"
            ]
           ],
           "sequentialminus": [
            [
             0,
             "#0d0887"
            ],
            [
             0.1111111111111111,
             "#46039f"
            ],
            [
             0.2222222222222222,
             "#7201a8"
            ],
            [
             0.3333333333333333,
             "#9c179e"
            ],
            [
             0.4444444444444444,
             "#bd3786"
            ],
            [
             0.5555555555555556,
             "#d8576b"
            ],
            [
             0.6666666666666666,
             "#ed7953"
            ],
            [
             0.7777777777777778,
             "#fb9f3a"
            ],
            [
             0.8888888888888888,
             "#fdca26"
            ],
            [
             1,
             "#f0f921"
            ]
           ]
          },
          "colorway": [
           "#636efa",
           "#EF553B",
           "#00cc96",
           "#ab63fa",
           "#FFA15A",
           "#19d3f3",
           "#FF6692",
           "#B6E880",
           "#FF97FF",
           "#FECB52"
          ],
          "font": {
           "color": "#2a3f5f"
          },
          "geo": {
           "bgcolor": "white",
           "lakecolor": "white",
           "landcolor": "#E5ECF6",
           "showlakes": true,
           "showland": true,
           "subunitcolor": "white"
          },
          "hoverlabel": {
           "align": "left"
          },
          "hovermode": "closest",
          "mapbox": {
           "style": "light"
          },
          "paper_bgcolor": "white",
          "plot_bgcolor": "#E5ECF6",
          "polar": {
           "angularaxis": {
            "gridcolor": "white",
            "linecolor": "white",
            "ticks": ""
           },
           "bgcolor": "#E5ECF6",
           "radialaxis": {
            "gridcolor": "white",
            "linecolor": "white",
            "ticks": ""
           }
          },
          "scene": {
           "xaxis": {
            "backgroundcolor": "#E5ECF6",
            "gridcolor": "white",
            "gridwidth": 2,
            "linecolor": "white",
            "showbackground": true,
            "ticks": "",
            "zerolinecolor": "white"
           },
           "yaxis": {
            "backgroundcolor": "#E5ECF6",
            "gridcolor": "white",
            "gridwidth": 2,
            "linecolor": "white",
            "showbackground": true,
            "ticks": "",
            "zerolinecolor": "white"
           },
           "zaxis": {
            "backgroundcolor": "#E5ECF6",
            "gridcolor": "white",
            "gridwidth": 2,
            "linecolor": "white",
            "showbackground": true,
            "ticks": "",
            "zerolinecolor": "white"
           }
          },
          "shapedefaults": {
           "line": {
            "color": "#2a3f5f"
           }
          },
          "ternary": {
           "aaxis": {
            "gridcolor": "white",
            "linecolor": "white",
            "ticks": ""
           },
           "baxis": {
            "gridcolor": "white",
            "linecolor": "white",
            "ticks": ""
           },
           "bgcolor": "#E5ECF6",
           "caxis": {
            "gridcolor": "white",
            "linecolor": "white",
            "ticks": ""
           }
          },
          "title": {
           "x": 0.05
          },
          "xaxis": {
           "automargin": true,
           "gridcolor": "white",
           "linecolor": "white",
           "ticks": "",
           "title": {
            "standoff": 15
           },
           "zerolinecolor": "white",
           "zerolinewidth": 2
          },
          "yaxis": {
           "automargin": true,
           "gridcolor": "white",
           "linecolor": "white",
           "ticks": "",
           "title": {
            "standoff": 15
           },
           "zerolinecolor": "white",
           "zerolinewidth": 2
          }
         }
        },
        "title": {
         "text": "Länder der Turniere, in denen Deutschland schlecht abgeschnitten hat."
        }
       }
      }
     },
     "metadata": {},
     "output_type": "display_data"
    }
   ],
   "source": [
    "\n",
    "fig = px.choropleth(df_filtered, locations=df_filtered[\"Land\"], color=\"Siegesquote\", range_color=[0,1], \n",
    "                    title=\"Länder der Turniere, in denen Deutschland schlecht abgeschnitten hat.\")\n",
    "fig.show()"
   ]
  },
  {
   "cell_type": "markdown",
   "metadata": {},
   "source": [
    "Man kann erkennen, dass Deutschland hauptsächlich im europäischen Raum schlecht abschneidet."
   ]
  },
  {
   "cell_type": "markdown",
   "metadata": {},
   "source": [
    "<br>"
   ]
  },
  {
   "cell_type": "markdown",
   "metadata": {},
   "source": [
    "### Top 5 Turniere, bei denen die Deutschen am besten abgeschnitten haben"
   ]
  },
  {
   "cell_type": "code",
   "execution_count": 10,
   "metadata": {},
   "outputs": [
    {
     "data": {
      "text/html": [
       "<div>\n",
       "<style scoped>\n",
       "    .dataframe tbody tr th:only-of-type {\n",
       "        vertical-align: middle;\n",
       "    }\n",
       "\n",
       "    .dataframe tbody tr th {\n",
       "        vertical-align: top;\n",
       "    }\n",
       "\n",
       "    .dataframe thead th {\n",
       "        text-align: right;\n",
       "    }\n",
       "</style>\n",
       "<table border=\"1\" class=\"dataframe\">\n",
       "  <thead>\n",
       "    <tr style=\"text-align: right;\">\n",
       "      <th></th>\n",
       "      <th>tourney_id</th>\n",
       "      <th>tourney_name</th>\n",
       "      <th>Siege</th>\n",
       "      <th>Niederlagen</th>\n",
       "      <th>Siegesquote</th>\n",
       "      <th>Land</th>\n",
       "    </tr>\n",
       "  </thead>\n",
       "  <tbody>\n",
       "    <tr>\n",
       "      <th>166036</th>\n",
       "      <td>1974-D020</td>\n",
       "      <td>Davis Cup EUR PR: FRG vs DEN</td>\n",
       "      <td>8</td>\n",
       "      <td>0</td>\n",
       "      <td>1.0</td>\n",
       "      <td>GBR</td>\n",
       "    </tr>\n",
       "    <tr>\n",
       "      <th>166040</th>\n",
       "      <td>1976-D021</td>\n",
       "      <td>Davis Cup EUR PR: FRG vs DEN</td>\n",
       "      <td>8</td>\n",
       "      <td>0</td>\n",
       "      <td>1.0</td>\n",
       "      <td>ARG</td>\n",
       "    </tr>\n",
       "    <tr>\n",
       "      <th>166047</th>\n",
       "      <td>1975-D031</td>\n",
       "      <td>Davis Cup EUR PR: FRG vs SUI</td>\n",
       "      <td>4</td>\n",
       "      <td>0</td>\n",
       "      <td>1.0</td>\n",
       "      <td>USA</td>\n",
       "    </tr>\n",
       "    <tr>\n",
       "      <th>166051</th>\n",
       "      <td>1978-D028</td>\n",
       "      <td>Davis Cup EUR PR: SUI vs FRG</td>\n",
       "      <td>4</td>\n",
       "      <td>0</td>\n",
       "      <td>1.0</td>\n",
       "      <td>CAN</td>\n",
       "    </tr>\n",
       "    <tr>\n",
       "      <th>166055</th>\n",
       "      <td>1983-D012</td>\n",
       "      <td>Davis Cup EUR QF: BEL vs FRG</td>\n",
       "      <td>4</td>\n",
       "      <td>0</td>\n",
       "      <td>1.0</td>\n",
       "      <td>AUS</td>\n",
       "    </tr>\n",
       "  </tbody>\n",
       "</table>\n",
       "</div>"
      ],
      "text/plain": [
       "       tourney_id                  tourney_name  Siege  Niederlagen  \\\n",
       "166036  1974-D020  Davis Cup EUR PR: FRG vs DEN      8            0   \n",
       "166040  1976-D021  Davis Cup EUR PR: FRG vs DEN      8            0   \n",
       "166047  1975-D031  Davis Cup EUR PR: FRG vs SUI      4            0   \n",
       "166051  1978-D028  Davis Cup EUR PR: SUI vs FRG      4            0   \n",
       "166055  1983-D012  Davis Cup EUR QF: BEL vs FRG      4            0   \n",
       "\n",
       "        Siegesquote Land  \n",
       "166036          1.0  GBR  \n",
       "166040          1.0  ARG  \n",
       "166047          1.0  USA  \n",
       "166051          1.0  CAN  \n",
       "166055          1.0  AUS  "
      ]
     },
     "execution_count": 10,
     "metadata": {},
     "output_type": "execute_result"
    }
   ],
   "source": [
    "df_filtered2 = df_merge.sort_values(by=[\"Siegesquote\", \"Siege\"], ascending=[False, False])\n",
    "df_filtered2 = df_filtered2[0:5]\n",
    "\n",
    "# Neue Spalte erstellen\n",
    "df_filtered2['Land'] = \"\"\n",
    "\n",
    "# Jedem Turnier das Land zuweisen\n",
    "df_filtered2['Land'] = [\"GBR\", \"ARG\", \"USA\", \"CAN\", \"AUS\"]\n",
    "df_filtered2"
   ]
  },
  {
   "cell_type": "code",
   "execution_count": 11,
   "metadata": {},
   "outputs": [
    {
     "data": {
      "application/vnd.plotly.v1+json": {
       "config": {
        "plotlyServerURL": "https://plot.ly"
       },
       "data": [
        {
         "coloraxis": "coloraxis",
         "geo": "geo",
         "hovertemplate": "Land=%{location}<br>Siegesquote=%{z}<extra></extra>",
         "locations": [
          "GBR",
          "ARG",
          "USA",
          "CAN",
          "AUS"
         ],
         "name": "",
         "type": "choropleth",
         "z": [
          1,
          1,
          1,
          1,
          1
         ]
        }
       ],
       "layout": {
        "coloraxis": {
         "cmax": 1,
         "cmin": 0,
         "colorbar": {
          "title": {
           "text": "Siegesquote"
          }
         },
         "colorscale": [
          [
           0,
           "#0d0887"
          ],
          [
           0.1111111111111111,
           "#46039f"
          ],
          [
           0.2222222222222222,
           "#7201a8"
          ],
          [
           0.3333333333333333,
           "#9c179e"
          ],
          [
           0.4444444444444444,
           "#bd3786"
          ],
          [
           0.5555555555555556,
           "#d8576b"
          ],
          [
           0.6666666666666666,
           "#ed7953"
          ],
          [
           0.7777777777777778,
           "#fb9f3a"
          ],
          [
           0.8888888888888888,
           "#fdca26"
          ],
          [
           1,
           "#f0f921"
          ]
         ]
        },
        "geo": {
         "center": {},
         "domain": {
          "x": [
           0,
           1
          ],
          "y": [
           0,
           1
          ]
         }
        },
        "legend": {
         "tracegroupgap": 0
        },
        "template": {
         "data": {
          "bar": [
           {
            "error_x": {
             "color": "#2a3f5f"
            },
            "error_y": {
             "color": "#2a3f5f"
            },
            "marker": {
             "line": {
              "color": "#E5ECF6",
              "width": 0.5
             },
             "pattern": {
              "fillmode": "overlay",
              "size": 10,
              "solidity": 0.2
             }
            },
            "type": "bar"
           }
          ],
          "barpolar": [
           {
            "marker": {
             "line": {
              "color": "#E5ECF6",
              "width": 0.5
             },
             "pattern": {
              "fillmode": "overlay",
              "size": 10,
              "solidity": 0.2
             }
            },
            "type": "barpolar"
           }
          ],
          "carpet": [
           {
            "aaxis": {
             "endlinecolor": "#2a3f5f",
             "gridcolor": "white",
             "linecolor": "white",
             "minorgridcolor": "white",
             "startlinecolor": "#2a3f5f"
            },
            "baxis": {
             "endlinecolor": "#2a3f5f",
             "gridcolor": "white",
             "linecolor": "white",
             "minorgridcolor": "white",
             "startlinecolor": "#2a3f5f"
            },
            "type": "carpet"
           }
          ],
          "choropleth": [
           {
            "colorbar": {
             "outlinewidth": 0,
             "ticks": ""
            },
            "type": "choropleth"
           }
          ],
          "contour": [
           {
            "colorbar": {
             "outlinewidth": 0,
             "ticks": ""
            },
            "colorscale": [
             [
              0,
              "#0d0887"
             ],
             [
              0.1111111111111111,
              "#46039f"
             ],
             [
              0.2222222222222222,
              "#7201a8"
             ],
             [
              0.3333333333333333,
              "#9c179e"
             ],
             [
              0.4444444444444444,
              "#bd3786"
             ],
             [
              0.5555555555555556,
              "#d8576b"
             ],
             [
              0.6666666666666666,
              "#ed7953"
             ],
             [
              0.7777777777777778,
              "#fb9f3a"
             ],
             [
              0.8888888888888888,
              "#fdca26"
             ],
             [
              1,
              "#f0f921"
             ]
            ],
            "type": "contour"
           }
          ],
          "contourcarpet": [
           {
            "colorbar": {
             "outlinewidth": 0,
             "ticks": ""
            },
            "type": "contourcarpet"
           }
          ],
          "heatmap": [
           {
            "colorbar": {
             "outlinewidth": 0,
             "ticks": ""
            },
            "colorscale": [
             [
              0,
              "#0d0887"
             ],
             [
              0.1111111111111111,
              "#46039f"
             ],
             [
              0.2222222222222222,
              "#7201a8"
             ],
             [
              0.3333333333333333,
              "#9c179e"
             ],
             [
              0.4444444444444444,
              "#bd3786"
             ],
             [
              0.5555555555555556,
              "#d8576b"
             ],
             [
              0.6666666666666666,
              "#ed7953"
             ],
             [
              0.7777777777777778,
              "#fb9f3a"
             ],
             [
              0.8888888888888888,
              "#fdca26"
             ],
             [
              1,
              "#f0f921"
             ]
            ],
            "type": "heatmap"
           }
          ],
          "heatmapgl": [
           {
            "colorbar": {
             "outlinewidth": 0,
             "ticks": ""
            },
            "colorscale": [
             [
              0,
              "#0d0887"
             ],
             [
              0.1111111111111111,
              "#46039f"
             ],
             [
              0.2222222222222222,
              "#7201a8"
             ],
             [
              0.3333333333333333,
              "#9c179e"
             ],
             [
              0.4444444444444444,
              "#bd3786"
             ],
             [
              0.5555555555555556,
              "#d8576b"
             ],
             [
              0.6666666666666666,
              "#ed7953"
             ],
             [
              0.7777777777777778,
              "#fb9f3a"
             ],
             [
              0.8888888888888888,
              "#fdca26"
             ],
             [
              1,
              "#f0f921"
             ]
            ],
            "type": "heatmapgl"
           }
          ],
          "histogram": [
           {
            "marker": {
             "pattern": {
              "fillmode": "overlay",
              "size": 10,
              "solidity": 0.2
             }
            },
            "type": "histogram"
           }
          ],
          "histogram2d": [
           {
            "colorbar": {
             "outlinewidth": 0,
             "ticks": ""
            },
            "colorscale": [
             [
              0,
              "#0d0887"
             ],
             [
              0.1111111111111111,
              "#46039f"
             ],
             [
              0.2222222222222222,
              "#7201a8"
             ],
             [
              0.3333333333333333,
              "#9c179e"
             ],
             [
              0.4444444444444444,
              "#bd3786"
             ],
             [
              0.5555555555555556,
              "#d8576b"
             ],
             [
              0.6666666666666666,
              "#ed7953"
             ],
             [
              0.7777777777777778,
              "#fb9f3a"
             ],
             [
              0.8888888888888888,
              "#fdca26"
             ],
             [
              1,
              "#f0f921"
             ]
            ],
            "type": "histogram2d"
           }
          ],
          "histogram2dcontour": [
           {
            "colorbar": {
             "outlinewidth": 0,
             "ticks": ""
            },
            "colorscale": [
             [
              0,
              "#0d0887"
             ],
             [
              0.1111111111111111,
              "#46039f"
             ],
             [
              0.2222222222222222,
              "#7201a8"
             ],
             [
              0.3333333333333333,
              "#9c179e"
             ],
             [
              0.4444444444444444,
              "#bd3786"
             ],
             [
              0.5555555555555556,
              "#d8576b"
             ],
             [
              0.6666666666666666,
              "#ed7953"
             ],
             [
              0.7777777777777778,
              "#fb9f3a"
             ],
             [
              0.8888888888888888,
              "#fdca26"
             ],
             [
              1,
              "#f0f921"
             ]
            ],
            "type": "histogram2dcontour"
           }
          ],
          "mesh3d": [
           {
            "colorbar": {
             "outlinewidth": 0,
             "ticks": ""
            },
            "type": "mesh3d"
           }
          ],
          "parcoords": [
           {
            "line": {
             "colorbar": {
              "outlinewidth": 0,
              "ticks": ""
             }
            },
            "type": "parcoords"
           }
          ],
          "pie": [
           {
            "automargin": true,
            "type": "pie"
           }
          ],
          "scatter": [
           {
            "fillpattern": {
             "fillmode": "overlay",
             "size": 10,
             "solidity": 0.2
            },
            "type": "scatter"
           }
          ],
          "scatter3d": [
           {
            "line": {
             "colorbar": {
              "outlinewidth": 0,
              "ticks": ""
             }
            },
            "marker": {
             "colorbar": {
              "outlinewidth": 0,
              "ticks": ""
             }
            },
            "type": "scatter3d"
           }
          ],
          "scattercarpet": [
           {
            "marker": {
             "colorbar": {
              "outlinewidth": 0,
              "ticks": ""
             }
            },
            "type": "scattercarpet"
           }
          ],
          "scattergeo": [
           {
            "marker": {
             "colorbar": {
              "outlinewidth": 0,
              "ticks": ""
             }
            },
            "type": "scattergeo"
           }
          ],
          "scattergl": [
           {
            "marker": {
             "colorbar": {
              "outlinewidth": 0,
              "ticks": ""
             }
            },
            "type": "scattergl"
           }
          ],
          "scattermapbox": [
           {
            "marker": {
             "colorbar": {
              "outlinewidth": 0,
              "ticks": ""
             }
            },
            "type": "scattermapbox"
           }
          ],
          "scatterpolar": [
           {
            "marker": {
             "colorbar": {
              "outlinewidth": 0,
              "ticks": ""
             }
            },
            "type": "scatterpolar"
           }
          ],
          "scatterpolargl": [
           {
            "marker": {
             "colorbar": {
              "outlinewidth": 0,
              "ticks": ""
             }
            },
            "type": "scatterpolargl"
           }
          ],
          "scatterternary": [
           {
            "marker": {
             "colorbar": {
              "outlinewidth": 0,
              "ticks": ""
             }
            },
            "type": "scatterternary"
           }
          ],
          "surface": [
           {
            "colorbar": {
             "outlinewidth": 0,
             "ticks": ""
            },
            "colorscale": [
             [
              0,
              "#0d0887"
             ],
             [
              0.1111111111111111,
              "#46039f"
             ],
             [
              0.2222222222222222,
              "#7201a8"
             ],
             [
              0.3333333333333333,
              "#9c179e"
             ],
             [
              0.4444444444444444,
              "#bd3786"
             ],
             [
              0.5555555555555556,
              "#d8576b"
             ],
             [
              0.6666666666666666,
              "#ed7953"
             ],
             [
              0.7777777777777778,
              "#fb9f3a"
             ],
             [
              0.8888888888888888,
              "#fdca26"
             ],
             [
              1,
              "#f0f921"
             ]
            ],
            "type": "surface"
           }
          ],
          "table": [
           {
            "cells": {
             "fill": {
              "color": "#EBF0F8"
             },
             "line": {
              "color": "white"
             }
            },
            "header": {
             "fill": {
              "color": "#C8D4E3"
             },
             "line": {
              "color": "white"
             }
            },
            "type": "table"
           }
          ]
         },
         "layout": {
          "annotationdefaults": {
           "arrowcolor": "#2a3f5f",
           "arrowhead": 0,
           "arrowwidth": 1
          },
          "autotypenumbers": "strict",
          "coloraxis": {
           "colorbar": {
            "outlinewidth": 0,
            "ticks": ""
           }
          },
          "colorscale": {
           "diverging": [
            [
             0,
             "#8e0152"
            ],
            [
             0.1,
             "#c51b7d"
            ],
            [
             0.2,
             "#de77ae"
            ],
            [
             0.3,
             "#f1b6da"
            ],
            [
             0.4,
             "#fde0ef"
            ],
            [
             0.5,
             "#f7f7f7"
            ],
            [
             0.6,
             "#e6f5d0"
            ],
            [
             0.7,
             "#b8e186"
            ],
            [
             0.8,
             "#7fbc41"
            ],
            [
             0.9,
             "#4d9221"
            ],
            [
             1,
             "#276419"
            ]
           ],
           "sequential": [
            [
             0,
             "#0d0887"
            ],
            [
             0.1111111111111111,
             "#46039f"
            ],
            [
             0.2222222222222222,
             "#7201a8"
            ],
            [
             0.3333333333333333,
             "#9c179e"
            ],
            [
             0.4444444444444444,
             "#bd3786"
            ],
            [
             0.5555555555555556,
             "#d8576b"
            ],
            [
             0.6666666666666666,
             "#ed7953"
            ],
            [
             0.7777777777777778,
             "#fb9f3a"
            ],
            [
             0.8888888888888888,
             "#fdca26"
            ],
            [
             1,
             "#f0f921"
            ]
           ],
           "sequentialminus": [
            [
             0,
             "#0d0887"
            ],
            [
             0.1111111111111111,
             "#46039f"
            ],
            [
             0.2222222222222222,
             "#7201a8"
            ],
            [
             0.3333333333333333,
             "#9c179e"
            ],
            [
             0.4444444444444444,
             "#bd3786"
            ],
            [
             0.5555555555555556,
             "#d8576b"
            ],
            [
             0.6666666666666666,
             "#ed7953"
            ],
            [
             0.7777777777777778,
             "#fb9f3a"
            ],
            [
             0.8888888888888888,
             "#fdca26"
            ],
            [
             1,
             "#f0f921"
            ]
           ]
          },
          "colorway": [
           "#636efa",
           "#EF553B",
           "#00cc96",
           "#ab63fa",
           "#FFA15A",
           "#19d3f3",
           "#FF6692",
           "#B6E880",
           "#FF97FF",
           "#FECB52"
          ],
          "font": {
           "color": "#2a3f5f"
          },
          "geo": {
           "bgcolor": "white",
           "lakecolor": "white",
           "landcolor": "#E5ECF6",
           "showlakes": true,
           "showland": true,
           "subunitcolor": "white"
          },
          "hoverlabel": {
           "align": "left"
          },
          "hovermode": "closest",
          "mapbox": {
           "style": "light"
          },
          "paper_bgcolor": "white",
          "plot_bgcolor": "#E5ECF6",
          "polar": {
           "angularaxis": {
            "gridcolor": "white",
            "linecolor": "white",
            "ticks": ""
           },
           "bgcolor": "#E5ECF6",
           "radialaxis": {
            "gridcolor": "white",
            "linecolor": "white",
            "ticks": ""
           }
          },
          "scene": {
           "xaxis": {
            "backgroundcolor": "#E5ECF6",
            "gridcolor": "white",
            "gridwidth": 2,
            "linecolor": "white",
            "showbackground": true,
            "ticks": "",
            "zerolinecolor": "white"
           },
           "yaxis": {
            "backgroundcolor": "#E5ECF6",
            "gridcolor": "white",
            "gridwidth": 2,
            "linecolor": "white",
            "showbackground": true,
            "ticks": "",
            "zerolinecolor": "white"
           },
           "zaxis": {
            "backgroundcolor": "#E5ECF6",
            "gridcolor": "white",
            "gridwidth": 2,
            "linecolor": "white",
            "showbackground": true,
            "ticks": "",
            "zerolinecolor": "white"
           }
          },
          "shapedefaults": {
           "line": {
            "color": "#2a3f5f"
           }
          },
          "ternary": {
           "aaxis": {
            "gridcolor": "white",
            "linecolor": "white",
            "ticks": ""
           },
           "baxis": {
            "gridcolor": "white",
            "linecolor": "white",
            "ticks": ""
           },
           "bgcolor": "#E5ECF6",
           "caxis": {
            "gridcolor": "white",
            "linecolor": "white",
            "ticks": ""
           }
          },
          "title": {
           "x": 0.05
          },
          "xaxis": {
           "automargin": true,
           "gridcolor": "white",
           "linecolor": "white",
           "ticks": "",
           "title": {
            "standoff": 15
           },
           "zerolinecolor": "white",
           "zerolinewidth": 2
          },
          "yaxis": {
           "automargin": true,
           "gridcolor": "white",
           "linecolor": "white",
           "ticks": "",
           "title": {
            "standoff": 15
           },
           "zerolinecolor": "white",
           "zerolinewidth": 2
          }
         }
        },
        "title": {
         "text": "Länder der Turniere, in denen Deutschland gut abgeschnitten hat."
        }
       }
      }
     },
     "metadata": {},
     "output_type": "display_data"
    }
   ],
   "source": [
    "fig = px.choropleth(df_filtered2, locations=df_filtered2[\"Land\"], color=\"Siegesquote\", range_color=[0,1], title=\"Länder der Turniere, in denen Deutschland gut abgeschnitten hat.\")\n",
    "fig.show()"
   ]
  },
  {
   "cell_type": "markdown",
   "metadata": {},
   "source": [
    "Man kann erkennen, dass Deutschland vorallem auf Turnieren im englischsprachigen Raum gut abschneidet."
   ]
  }
 ],
 "metadata": {
  "kernelspec": {
   "display_name": "Python 3",
   "language": "python",
   "name": "python3"
  },
  "language_info": {
   "codemirror_mode": {
    "name": "ipython",
    "version": 3
   },
   "file_extension": ".py",
   "mimetype": "text/x-python",
   "name": "python",
   "nbconvert_exporter": "python",
   "pygments_lexer": "ipython3",
   "version": "3.9.13"
  }
 },
 "nbformat": 4,
 "nbformat_minor": 2
}
