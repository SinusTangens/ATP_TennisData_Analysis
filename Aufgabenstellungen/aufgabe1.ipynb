{
 "cells": [
  {
   "cell_type": "markdown",
   "metadata": {},
   "source": [
    "# Imports"
   ]
  },
  {
   "cell_type": "code",
   "execution_count": 1,
   "metadata": {},
   "outputs": [],
   "source": [
    "import pandas as pd\n",
    "import numpy as np\n",
    "import plotly.express as px\n",
    "\n",
    "pd.set_option('display.max_columns', None)"
   ]
  },
  {
   "cell_type": "markdown",
   "metadata": {},
   "source": [
    "# Datensätze"
   ]
  },
  {
   "cell_type": "code",
   "execution_count": 2,
   "metadata": {},
   "outputs": [],
   "source": [
    "df_matches = pd.read_csv(\"Datensätze/atp_matches_till_2022.csv\")\n",
    "df_players = pd.read_csv(\"Datensätze/atp_players_till_2022.csv\")\n",
    "df_rankings = pd.read_csv(\"Datensätze/atp_rankings_till_2022.csv\")"
   ]
  },
  {
   "cell_type": "markdown",
   "metadata": {},
   "source": [
    "# Hilfsfunktion(en)"
   ]
  },
  {
   "cell_type": "code",
   "execution_count": 3,
   "metadata": {},
   "outputs": [],
   "source": [
    "def fillna_0_astype_int64(dataframe:pd.DataFrame, columns:list=[\"Siege\", \"Niederlagen\"]):\n",
    "\n",
    "    for column in columns:\n",
    "        dataframe[column] = dataframe[column].fillna(0).astype(\"int64\")\n",
    "    \n",
    "    return dataframe"
   ]
  },
  {
   "cell_type": "code",
   "execution_count": 4,
   "metadata": {},
   "outputs": [],
   "source": [
    "def siegesquote_funktion(dataframe:pd.DataFrame):\n",
    "\n",
    "    dataframe[\"Siegesquote\"] = dataframe[\"Siege\"] / (dataframe[\"Siege\"]+ dataframe[\"Niederlagen\"])\n",
    "\n",
    "    return dataframe"
   ]
  },
  {
   "cell_type": "markdown",
   "metadata": {},
   "source": [
    "<br>"
   ]
  },
  {
   "cell_type": "markdown",
   "metadata": {},
   "source": [
    "## Fragestellungen\n",
    "\n",
    "1. Gibt es „Angstgegner“-Nationen, gegen die die deutschen Spieler besonders schlecht abschneiden? Lässt sich das einfach durch die generelle Spielstärke der Spieler dieser Nationen erklären, oder gibt es Nationen, gegen die gerade deutsche Spieler schlecht abschneiden? Gibt es analog „Lieblingsgegner“-Nationen?\n",
    "2. Gibt es „Angstgegner“ einzelner deutscher Spieler, d.h. Paarungen, bei denen der deutsche Spieler schlechter abschneidet, als es aufgrund der allgemeinen Spielstärke beider Spieler zu erwarten ist? Gibt es analog „Lieblingsgegner“ einzelner deutscher Spieler?\n",
    "3. Gibt es Turniere, bei denen die Deutschen besonders gut oder besonders schlecht abschneiden? Wenn ja, ist ein regionales Muster oder eine andere Ursache zu erkennen?\n",
    "4. Wie entwickelt sich der sportliche Erfolg mit dem Alter? Gilt das für die Spielstatistiken gleichermaßen wie für die Platzierung auf der Rangliste?\n",
    "5. Sinkt die Wahrscheinlichkeit zu siegen, wenn das vorhergehende Spiel eines Spielers besonders lange gedauert hat?\n",
    "6. Gibt es einen Zusammenhang dazwischen, wie man zuletzt gegen einen bestimmten Gegner gespielt hat, und wie das nächste Spiel gegen diesen Gegner ausgehen wird?\n",
    "7. Wie gut lässt sich das Ergebnis eines Matches vorhersagen? Welches sind die wichtigsten Features für eine solche Prognose?"
   ]
  },
  {
   "cell_type": "markdown",
   "metadata": {},
   "source": [
    "<br>"
   ]
  },
  {
   "cell_type": "markdown",
   "metadata": {},
   "source": [
    "## Fragestellung 1:\n",
    "Gibt es „Angstgegner“-Nationen, gegen die die deutschen Spieler besonders schlecht abschneiden? Lässt sich das einfach durch die generelle Spielstärke der Spieler dieser Nationen erklären, oder gibt es Nationen, gegen die gerade deutsche Spieler schlecht abschneiden? Gibt es analog „Lieblingsgegner“-Nationen?"
   ]
  },
  {
   "cell_type": "code",
   "execution_count": 5,
   "metadata": {},
   "outputs": [
    {
     "data": {
      "text/html": [
       "<div>\n",
       "<style scoped>\n",
       "    .dataframe tbody tr th:only-of-type {\n",
       "        vertical-align: middle;\n",
       "    }\n",
       "\n",
       "    .dataframe tbody tr th {\n",
       "        vertical-align: top;\n",
       "    }\n",
       "\n",
       "    .dataframe thead th {\n",
       "        text-align: right;\n",
       "    }\n",
       "</style>\n",
       "<table border=\"1\" class=\"dataframe\">\n",
       "  <thead>\n",
       "    <tr style=\"text-align: right;\">\n",
       "      <th></th>\n",
       "      <th>tourney_id</th>\n",
       "      <th>tourney_name</th>\n",
       "      <th>surface</th>\n",
       "      <th>draw_size</th>\n",
       "      <th>tourney_level</th>\n",
       "      <th>tourney_date</th>\n",
       "      <th>match_num</th>\n",
       "      <th>winner_id</th>\n",
       "      <th>winner_seed</th>\n",
       "      <th>winner_entry</th>\n",
       "      <th>winner_name</th>\n",
       "      <th>winner_hand</th>\n",
       "      <th>winner_ht</th>\n",
       "      <th>winner_ioc</th>\n",
       "      <th>winner_age</th>\n",
       "      <th>loser_id</th>\n",
       "      <th>loser_seed</th>\n",
       "      <th>loser_entry</th>\n",
       "      <th>loser_name</th>\n",
       "      <th>loser_hand</th>\n",
       "      <th>loser_ht</th>\n",
       "      <th>loser_ioc</th>\n",
       "      <th>loser_age</th>\n",
       "      <th>score</th>\n",
       "      <th>best_of</th>\n",
       "      <th>round</th>\n",
       "      <th>minutes</th>\n",
       "      <th>w_ace</th>\n",
       "      <th>w_df</th>\n",
       "      <th>w_svpt</th>\n",
       "      <th>w_1stIn</th>\n",
       "      <th>w_1stWon</th>\n",
       "      <th>w_2ndWon</th>\n",
       "      <th>w_SvGms</th>\n",
       "      <th>w_bpSaved</th>\n",
       "      <th>w_bpFaced</th>\n",
       "      <th>l_ace</th>\n",
       "      <th>l_df</th>\n",
       "      <th>l_svpt</th>\n",
       "      <th>l_1stIn</th>\n",
       "      <th>l_1stWon</th>\n",
       "      <th>l_2ndWon</th>\n",
       "      <th>l_SvGms</th>\n",
       "      <th>l_bpSaved</th>\n",
       "      <th>l_bpFaced</th>\n",
       "      <th>winner_rank</th>\n",
       "      <th>winner_rank_points</th>\n",
       "      <th>loser_rank</th>\n",
       "      <th>loser_rank_points</th>\n",
       "    </tr>\n",
       "  </thead>\n",
       "  <tbody>\n",
       "    <tr>\n",
       "      <th>0</th>\n",
       "      <td>1968-2029</td>\n",
       "      <td>Dublin</td>\n",
       "      <td>Grass</td>\n",
       "      <td>32</td>\n",
       "      <td>A</td>\n",
       "      <td>19680708</td>\n",
       "      <td>270</td>\n",
       "      <td>112411</td>\n",
       "      <td>NaN</td>\n",
       "      <td>NaN</td>\n",
       "      <td>Douglas Smith</td>\n",
       "      <td>U</td>\n",
       "      <td>NaN</td>\n",
       "      <td>AUS</td>\n",
       "      <td>NaN</td>\n",
       "      <td>110196</td>\n",
       "      <td>NaN</td>\n",
       "      <td>NaN</td>\n",
       "      <td>Peter Ledbetter</td>\n",
       "      <td>U</td>\n",
       "      <td>NaN</td>\n",
       "      <td>UNK</td>\n",
       "      <td>24.0</td>\n",
       "      <td>6-1 7-5</td>\n",
       "      <td>3</td>\n",
       "      <td>R32</td>\n",
       "      <td>NaN</td>\n",
       "      <td>NaN</td>\n",
       "      <td>NaN</td>\n",
       "      <td>NaN</td>\n",
       "      <td>NaN</td>\n",
       "      <td>NaN</td>\n",
       "      <td>NaN</td>\n",
       "      <td>NaN</td>\n",
       "      <td>NaN</td>\n",
       "      <td>NaN</td>\n",
       "      <td>NaN</td>\n",
       "      <td>NaN</td>\n",
       "      <td>NaN</td>\n",
       "      <td>NaN</td>\n",
       "      <td>NaN</td>\n",
       "      <td>NaN</td>\n",
       "      <td>NaN</td>\n",
       "      <td>NaN</td>\n",
       "      <td>NaN</td>\n",
       "      <td>NaN</td>\n",
       "      <td>NaN</td>\n",
       "      <td>NaN</td>\n",
       "      <td>NaN</td>\n",
       "    </tr>\n",
       "    <tr>\n",
       "      <th>1</th>\n",
       "      <td>1968-2029</td>\n",
       "      <td>Dublin</td>\n",
       "      <td>Grass</td>\n",
       "      <td>32</td>\n",
       "      <td>A</td>\n",
       "      <td>19680708</td>\n",
       "      <td>271</td>\n",
       "      <td>126914</td>\n",
       "      <td>NaN</td>\n",
       "      <td>NaN</td>\n",
       "      <td>Louis Pretorius</td>\n",
       "      <td>R</td>\n",
       "      <td>NaN</td>\n",
       "      <td>RSA</td>\n",
       "      <td>NaN</td>\n",
       "      <td>209536</td>\n",
       "      <td>NaN</td>\n",
       "      <td>NaN</td>\n",
       "      <td>Maurice Pollock</td>\n",
       "      <td>U</td>\n",
       "      <td>NaN</td>\n",
       "      <td>IRL</td>\n",
       "      <td>NaN</td>\n",
       "      <td>6-1 6-1</td>\n",
       "      <td>3</td>\n",
       "      <td>R32</td>\n",
       "      <td>NaN</td>\n",
       "      <td>NaN</td>\n",
       "      <td>NaN</td>\n",
       "      <td>NaN</td>\n",
       "      <td>NaN</td>\n",
       "      <td>NaN</td>\n",
       "      <td>NaN</td>\n",
       "      <td>NaN</td>\n",
       "      <td>NaN</td>\n",
       "      <td>NaN</td>\n",
       "      <td>NaN</td>\n",
       "      <td>NaN</td>\n",
       "      <td>NaN</td>\n",
       "      <td>NaN</td>\n",
       "      <td>NaN</td>\n",
       "      <td>NaN</td>\n",
       "      <td>NaN</td>\n",
       "      <td>NaN</td>\n",
       "      <td>NaN</td>\n",
       "      <td>NaN</td>\n",
       "      <td>NaN</td>\n",
       "      <td>NaN</td>\n",
       "      <td>NaN</td>\n",
       "    </tr>\n",
       "    <tr>\n",
       "      <th>2</th>\n",
       "      <td>1968-2029</td>\n",
       "      <td>Dublin</td>\n",
       "      <td>Grass</td>\n",
       "      <td>32</td>\n",
       "      <td>A</td>\n",
       "      <td>19680708</td>\n",
       "      <td>272</td>\n",
       "      <td>209523</td>\n",
       "      <td>NaN</td>\n",
       "      <td>NaN</td>\n",
       "      <td>Cecil Pedlow</td>\n",
       "      <td>U</td>\n",
       "      <td>NaN</td>\n",
       "      <td>IRL</td>\n",
       "      <td>NaN</td>\n",
       "      <td>209535</td>\n",
       "      <td>NaN</td>\n",
       "      <td>NaN</td>\n",
       "      <td>John Mulvey</td>\n",
       "      <td>U</td>\n",
       "      <td>NaN</td>\n",
       "      <td>IRL</td>\n",
       "      <td>NaN</td>\n",
       "      <td>6-2 6-2</td>\n",
       "      <td>3</td>\n",
       "      <td>R32</td>\n",
       "      <td>NaN</td>\n",
       "      <td>NaN</td>\n",
       "      <td>NaN</td>\n",
       "      <td>NaN</td>\n",
       "      <td>NaN</td>\n",
       "      <td>NaN</td>\n",
       "      <td>NaN</td>\n",
       "      <td>NaN</td>\n",
       "      <td>NaN</td>\n",
       "      <td>NaN</td>\n",
       "      <td>NaN</td>\n",
       "      <td>NaN</td>\n",
       "      <td>NaN</td>\n",
       "      <td>NaN</td>\n",
       "      <td>NaN</td>\n",
       "      <td>NaN</td>\n",
       "      <td>NaN</td>\n",
       "      <td>NaN</td>\n",
       "      <td>NaN</td>\n",
       "      <td>NaN</td>\n",
       "      <td>NaN</td>\n",
       "      <td>NaN</td>\n",
       "      <td>NaN</td>\n",
       "    </tr>\n",
       "    <tr>\n",
       "      <th>3</th>\n",
       "      <td>1968-2029</td>\n",
       "      <td>Dublin</td>\n",
       "      <td>Grass</td>\n",
       "      <td>32</td>\n",
       "      <td>A</td>\n",
       "      <td>19680708</td>\n",
       "      <td>273</td>\n",
       "      <td>100084</td>\n",
       "      <td>NaN</td>\n",
       "      <td>NaN</td>\n",
       "      <td>Tom Okker</td>\n",
       "      <td>R</td>\n",
       "      <td>178.0</td>\n",
       "      <td>NED</td>\n",
       "      <td>24.3</td>\n",
       "      <td>209534</td>\n",
       "      <td>NaN</td>\n",
       "      <td>NaN</td>\n",
       "      <td>Unknown Fearmon</td>\n",
       "      <td>U</td>\n",
       "      <td>NaN</td>\n",
       "      <td>NaN</td>\n",
       "      <td>NaN</td>\n",
       "      <td>6-1 6-1</td>\n",
       "      <td>3</td>\n",
       "      <td>R32</td>\n",
       "      <td>NaN</td>\n",
       "      <td>NaN</td>\n",
       "      <td>NaN</td>\n",
       "      <td>NaN</td>\n",
       "      <td>NaN</td>\n",
       "      <td>NaN</td>\n",
       "      <td>NaN</td>\n",
       "      <td>NaN</td>\n",
       "      <td>NaN</td>\n",
       "      <td>NaN</td>\n",
       "      <td>NaN</td>\n",
       "      <td>NaN</td>\n",
       "      <td>NaN</td>\n",
       "      <td>NaN</td>\n",
       "      <td>NaN</td>\n",
       "      <td>NaN</td>\n",
       "      <td>NaN</td>\n",
       "      <td>NaN</td>\n",
       "      <td>NaN</td>\n",
       "      <td>NaN</td>\n",
       "      <td>NaN</td>\n",
       "      <td>NaN</td>\n",
       "      <td>NaN</td>\n",
       "    </tr>\n",
       "    <tr>\n",
       "      <th>4</th>\n",
       "      <td>1968-2029</td>\n",
       "      <td>Dublin</td>\n",
       "      <td>Grass</td>\n",
       "      <td>32</td>\n",
       "      <td>A</td>\n",
       "      <td>19680708</td>\n",
       "      <td>274</td>\n",
       "      <td>100132</td>\n",
       "      <td>NaN</td>\n",
       "      <td>NaN</td>\n",
       "      <td>Armistead Neely</td>\n",
       "      <td>R</td>\n",
       "      <td>NaN</td>\n",
       "      <td>USA</td>\n",
       "      <td>21.3</td>\n",
       "      <td>209533</td>\n",
       "      <td>NaN</td>\n",
       "      <td>NaN</td>\n",
       "      <td>Harry Sheridan</td>\n",
       "      <td>U</td>\n",
       "      <td>NaN</td>\n",
       "      <td>IRL</td>\n",
       "      <td>NaN</td>\n",
       "      <td>6-2 6-4</td>\n",
       "      <td>3</td>\n",
       "      <td>R32</td>\n",
       "      <td>NaN</td>\n",
       "      <td>NaN</td>\n",
       "      <td>NaN</td>\n",
       "      <td>NaN</td>\n",
       "      <td>NaN</td>\n",
       "      <td>NaN</td>\n",
       "      <td>NaN</td>\n",
       "      <td>NaN</td>\n",
       "      <td>NaN</td>\n",
       "      <td>NaN</td>\n",
       "      <td>NaN</td>\n",
       "      <td>NaN</td>\n",
       "      <td>NaN</td>\n",
       "      <td>NaN</td>\n",
       "      <td>NaN</td>\n",
       "      <td>NaN</td>\n",
       "      <td>NaN</td>\n",
       "      <td>NaN</td>\n",
       "      <td>NaN</td>\n",
       "      <td>NaN</td>\n",
       "      <td>NaN</td>\n",
       "      <td>NaN</td>\n",
       "      <td>NaN</td>\n",
       "    </tr>\n",
       "    <tr>\n",
       "      <th>...</th>\n",
       "      <td>...</td>\n",
       "      <td>...</td>\n",
       "      <td>...</td>\n",
       "      <td>...</td>\n",
       "      <td>...</td>\n",
       "      <td>...</td>\n",
       "      <td>...</td>\n",
       "      <td>...</td>\n",
       "      <td>...</td>\n",
       "      <td>...</td>\n",
       "      <td>...</td>\n",
       "      <td>...</td>\n",
       "      <td>...</td>\n",
       "      <td>...</td>\n",
       "      <td>...</td>\n",
       "      <td>...</td>\n",
       "      <td>...</td>\n",
       "      <td>...</td>\n",
       "      <td>...</td>\n",
       "      <td>...</td>\n",
       "      <td>...</td>\n",
       "      <td>...</td>\n",
       "      <td>...</td>\n",
       "      <td>...</td>\n",
       "      <td>...</td>\n",
       "      <td>...</td>\n",
       "      <td>...</td>\n",
       "      <td>...</td>\n",
       "      <td>...</td>\n",
       "      <td>...</td>\n",
       "      <td>...</td>\n",
       "      <td>...</td>\n",
       "      <td>...</td>\n",
       "      <td>...</td>\n",
       "      <td>...</td>\n",
       "      <td>...</td>\n",
       "      <td>...</td>\n",
       "      <td>...</td>\n",
       "      <td>...</td>\n",
       "      <td>...</td>\n",
       "      <td>...</td>\n",
       "      <td>...</td>\n",
       "      <td>...</td>\n",
       "      <td>...</td>\n",
       "      <td>...</td>\n",
       "      <td>...</td>\n",
       "      <td>...</td>\n",
       "      <td>...</td>\n",
       "      <td>...</td>\n",
       "    </tr>\n",
       "    <tr>\n",
       "      <th>188156</th>\n",
       "      <td>2022-M-DC-2022-WG2-PO-GRE-JAM-01</td>\n",
       "      <td>Davis Cup WG2 PO: GRE vs JAM</td>\n",
       "      <td>Clay</td>\n",
       "      <td>4</td>\n",
       "      <td>D</td>\n",
       "      <td>20220304</td>\n",
       "      <td>4</td>\n",
       "      <td>209362</td>\n",
       "      <td>NaN</td>\n",
       "      <td>NaN</td>\n",
       "      <td>Aristotelis Thanos</td>\n",
       "      <td>R</td>\n",
       "      <td>NaN</td>\n",
       "      <td>GRE</td>\n",
       "      <td>20.8</td>\n",
       "      <td>209080</td>\n",
       "      <td>NaN</td>\n",
       "      <td>NaN</td>\n",
       "      <td>Blaise Bicknell</td>\n",
       "      <td>R</td>\n",
       "      <td>188.0</td>\n",
       "      <td>USA</td>\n",
       "      <td>20.2</td>\n",
       "      <td>6-4 6-4</td>\n",
       "      <td>3</td>\n",
       "      <td>RR</td>\n",
       "      <td>115.0</td>\n",
       "      <td>0.0</td>\n",
       "      <td>4.0</td>\n",
       "      <td>70.0</td>\n",
       "      <td>48.0</td>\n",
       "      <td>35.0</td>\n",
       "      <td>12.0</td>\n",
       "      <td>10.0</td>\n",
       "      <td>5.0</td>\n",
       "      <td>5.0</td>\n",
       "      <td>1.0</td>\n",
       "      <td>3.0</td>\n",
       "      <td>96.0</td>\n",
       "      <td>68.0</td>\n",
       "      <td>42.0</td>\n",
       "      <td>12.0</td>\n",
       "      <td>10.0</td>\n",
       "      <td>11.0</td>\n",
       "      <td>13.0</td>\n",
       "      <td>1103.0</td>\n",
       "      <td>9.0</td>\n",
       "      <td>1130.0</td>\n",
       "      <td>8.0</td>\n",
       "    </tr>\n",
       "    <tr>\n",
       "      <th>188157</th>\n",
       "      <td>2022-M-DC-2022-WG2-PO-GRE-JAM-01</td>\n",
       "      <td>Davis Cup WG2 PO: GRE vs JAM</td>\n",
       "      <td>Clay</td>\n",
       "      <td>4</td>\n",
       "      <td>D</td>\n",
       "      <td>20220304</td>\n",
       "      <td>5</td>\n",
       "      <td>202065</td>\n",
       "      <td>NaN</td>\n",
       "      <td>NaN</td>\n",
       "      <td>Petros Tsitsipas</td>\n",
       "      <td>U</td>\n",
       "      <td>185.0</td>\n",
       "      <td>GRE</td>\n",
       "      <td>21.5</td>\n",
       "      <td>202120</td>\n",
       "      <td>NaN</td>\n",
       "      <td>NaN</td>\n",
       "      <td>Rowland Phillips</td>\n",
       "      <td>R</td>\n",
       "      <td>NaN</td>\n",
       "      <td>JAM</td>\n",
       "      <td>28.0</td>\n",
       "      <td>4-6 6-4 6-4</td>\n",
       "      <td>3</td>\n",
       "      <td>RR</td>\n",
       "      <td>161.0</td>\n",
       "      <td>7.0</td>\n",
       "      <td>2.0</td>\n",
       "      <td>94.0</td>\n",
       "      <td>55.0</td>\n",
       "      <td>37.0</td>\n",
       "      <td>23.0</td>\n",
       "      <td>15.0</td>\n",
       "      <td>9.0</td>\n",
       "      <td>12.0</td>\n",
       "      <td>1.0</td>\n",
       "      <td>1.0</td>\n",
       "      <td>94.0</td>\n",
       "      <td>56.0</td>\n",
       "      <td>40.0</td>\n",
       "      <td>20.0</td>\n",
       "      <td>15.0</td>\n",
       "      <td>4.0</td>\n",
       "      <td>8.0</td>\n",
       "      <td>808.0</td>\n",
       "      <td>23.0</td>\n",
       "      <td>1390.0</td>\n",
       "      <td>4.0</td>\n",
       "    </tr>\n",
       "    <tr>\n",
       "      <th>188158</th>\n",
       "      <td>2022-M-DC-2022-WG2-PO-HKG-BEN-01</td>\n",
       "      <td>Davis Cup WG2 PO: HKG vs BEN</td>\n",
       "      <td>Hard</td>\n",
       "      <td>4</td>\n",
       "      <td>D</td>\n",
       "      <td>20220304</td>\n",
       "      <td>1</td>\n",
       "      <td>138846</td>\n",
       "      <td>NaN</td>\n",
       "      <td>NaN</td>\n",
       "      <td>Hong Kit Jack Wong</td>\n",
       "      <td>R</td>\n",
       "      <td>NaN</td>\n",
       "      <td>HKG</td>\n",
       "      <td>23.4</td>\n",
       "      <td>105278</td>\n",
       "      <td>NaN</td>\n",
       "      <td>NaN</td>\n",
       "      <td>Alexis Klegou</td>\n",
       "      <td>U</td>\n",
       "      <td>NaN</td>\n",
       "      <td>BEN</td>\n",
       "      <td>33.0</td>\n",
       "      <td>1-6 6-4 4-1 RET</td>\n",
       "      <td>3</td>\n",
       "      <td>RR</td>\n",
       "      <td>250.0</td>\n",
       "      <td>4.0</td>\n",
       "      <td>8.0</td>\n",
       "      <td>56.0</td>\n",
       "      <td>33.0</td>\n",
       "      <td>20.0</td>\n",
       "      <td>13.0</td>\n",
       "      <td>11.0</td>\n",
       "      <td>3.0</td>\n",
       "      <td>7.0</td>\n",
       "      <td>0.0</td>\n",
       "      <td>3.0</td>\n",
       "      <td>72.0</td>\n",
       "      <td>54.0</td>\n",
       "      <td>29.0</td>\n",
       "      <td>8.0</td>\n",
       "      <td>11.0</td>\n",
       "      <td>6.0</td>\n",
       "      <td>10.0</td>\n",
       "      <td>1059.0</td>\n",
       "      <td>10.0</td>\n",
       "      <td>1881.0</td>\n",
       "      <td>1.0</td>\n",
       "    </tr>\n",
       "    <tr>\n",
       "      <th>188159</th>\n",
       "      <td>2022-M-DC-2022-WG2-PO-HKG-BEN-01</td>\n",
       "      <td>Davis Cup WG2 PO: HKG vs BEN</td>\n",
       "      <td>Hard</td>\n",
       "      <td>4</td>\n",
       "      <td>D</td>\n",
       "      <td>20220304</td>\n",
       "      <td>2</td>\n",
       "      <td>209409</td>\n",
       "      <td>NaN</td>\n",
       "      <td>NaN</td>\n",
       "      <td>Coleman Wong</td>\n",
       "      <td>R</td>\n",
       "      <td>NaN</td>\n",
       "      <td>HKG</td>\n",
       "      <td>17.7</td>\n",
       "      <td>200583</td>\n",
       "      <td>NaN</td>\n",
       "      <td>NaN</td>\n",
       "      <td>Delmas Ntcha</td>\n",
       "      <td>R</td>\n",
       "      <td>NaN</td>\n",
       "      <td>BEN</td>\n",
       "      <td>21.7</td>\n",
       "      <td>6-4 6-4</td>\n",
       "      <td>3</td>\n",
       "      <td>RR</td>\n",
       "      <td>98.0</td>\n",
       "      <td>2.0</td>\n",
       "      <td>2.0</td>\n",
       "      <td>68.0</td>\n",
       "      <td>38.0</td>\n",
       "      <td>24.0</td>\n",
       "      <td>18.0</td>\n",
       "      <td>10.0</td>\n",
       "      <td>6.0</td>\n",
       "      <td>8.0</td>\n",
       "      <td>1.0</td>\n",
       "      <td>5.0</td>\n",
       "      <td>58.0</td>\n",
       "      <td>39.0</td>\n",
       "      <td>24.0</td>\n",
       "      <td>7.0</td>\n",
       "      <td>10.0</td>\n",
       "      <td>5.0</td>\n",
       "      <td>9.0</td>\n",
       "      <td>NaN</td>\n",
       "      <td>NaN</td>\n",
       "      <td>NaN</td>\n",
       "      <td>NaN</td>\n",
       "    </tr>\n",
       "    <tr>\n",
       "      <th>188160</th>\n",
       "      <td>2022-M-DC-2022-WG2-PO-HKG-BEN-01</td>\n",
       "      <td>Davis Cup WG2 PO: HKG vs BEN</td>\n",
       "      <td>Hard</td>\n",
       "      <td>4</td>\n",
       "      <td>D</td>\n",
       "      <td>20220304</td>\n",
       "      <td>4</td>\n",
       "      <td>208414</td>\n",
       "      <td>NaN</td>\n",
       "      <td>NaN</td>\n",
       "      <td>Sylvestre Monnou</td>\n",
       "      <td>R</td>\n",
       "      <td>NaN</td>\n",
       "      <td>BEN</td>\n",
       "      <td>19.2</td>\n",
       "      <td>207132</td>\n",
       "      <td>NaN</td>\n",
       "      <td>NaN</td>\n",
       "      <td>Ki Lung Ng</td>\n",
       "      <td>R</td>\n",
       "      <td>NaN</td>\n",
       "      <td>HKG</td>\n",
       "      <td>NaN</td>\n",
       "      <td>6-4 6-4</td>\n",
       "      <td>3</td>\n",
       "      <td>RR</td>\n",
       "      <td>92.0</td>\n",
       "      <td>5.0</td>\n",
       "      <td>5.0</td>\n",
       "      <td>70.0</td>\n",
       "      <td>32.0</td>\n",
       "      <td>28.0</td>\n",
       "      <td>17.0</td>\n",
       "      <td>10.0</td>\n",
       "      <td>4.0</td>\n",
       "      <td>5.0</td>\n",
       "      <td>6.0</td>\n",
       "      <td>2.0</td>\n",
       "      <td>60.0</td>\n",
       "      <td>34.0</td>\n",
       "      <td>24.0</td>\n",
       "      <td>13.0</td>\n",
       "      <td>10.0</td>\n",
       "      <td>5.0</td>\n",
       "      <td>8.0</td>\n",
       "      <td>NaN</td>\n",
       "      <td>NaN</td>\n",
       "      <td>NaN</td>\n",
       "      <td>NaN</td>\n",
       "    </tr>\n",
       "  </tbody>\n",
       "</table>\n",
       "<p>188161 rows × 49 columns</p>\n",
       "</div>"
      ],
      "text/plain": [
       "                              tourney_id                  tourney_name  \\\n",
       "0                              1968-2029                        Dublin   \n",
       "1                              1968-2029                        Dublin   \n",
       "2                              1968-2029                        Dublin   \n",
       "3                              1968-2029                        Dublin   \n",
       "4                              1968-2029                        Dublin   \n",
       "...                                  ...                           ...   \n",
       "188156  2022-M-DC-2022-WG2-PO-GRE-JAM-01  Davis Cup WG2 PO: GRE vs JAM   \n",
       "188157  2022-M-DC-2022-WG2-PO-GRE-JAM-01  Davis Cup WG2 PO: GRE vs JAM   \n",
       "188158  2022-M-DC-2022-WG2-PO-HKG-BEN-01  Davis Cup WG2 PO: HKG vs BEN   \n",
       "188159  2022-M-DC-2022-WG2-PO-HKG-BEN-01  Davis Cup WG2 PO: HKG vs BEN   \n",
       "188160  2022-M-DC-2022-WG2-PO-HKG-BEN-01  Davis Cup WG2 PO: HKG vs BEN   \n",
       "\n",
       "       surface  draw_size tourney_level  tourney_date  match_num  winner_id  \\\n",
       "0        Grass         32             A      19680708        270     112411   \n",
       "1        Grass         32             A      19680708        271     126914   \n",
       "2        Grass         32             A      19680708        272     209523   \n",
       "3        Grass         32             A      19680708        273     100084   \n",
       "4        Grass         32             A      19680708        274     100132   \n",
       "...        ...        ...           ...           ...        ...        ...   \n",
       "188156    Clay          4             D      20220304          4     209362   \n",
       "188157    Clay          4             D      20220304          5     202065   \n",
       "188158    Hard          4             D      20220304          1     138846   \n",
       "188159    Hard          4             D      20220304          2     209409   \n",
       "188160    Hard          4             D      20220304          4     208414   \n",
       "\n",
       "        winner_seed winner_entry         winner_name winner_hand  winner_ht  \\\n",
       "0               NaN          NaN       Douglas Smith           U        NaN   \n",
       "1               NaN          NaN     Louis Pretorius           R        NaN   \n",
       "2               NaN          NaN        Cecil Pedlow           U        NaN   \n",
       "3               NaN          NaN           Tom Okker           R      178.0   \n",
       "4               NaN          NaN     Armistead Neely           R        NaN   \n",
       "...             ...          ...                 ...         ...        ...   \n",
       "188156          NaN          NaN  Aristotelis Thanos           R        NaN   \n",
       "188157          NaN          NaN    Petros Tsitsipas           U      185.0   \n",
       "188158          NaN          NaN  Hong Kit Jack Wong           R        NaN   \n",
       "188159          NaN          NaN        Coleman Wong           R        NaN   \n",
       "188160          NaN          NaN    Sylvestre Monnou           R        NaN   \n",
       "\n",
       "       winner_ioc  winner_age  loser_id  loser_seed loser_entry  \\\n",
       "0             AUS         NaN    110196         NaN         NaN   \n",
       "1             RSA         NaN    209536         NaN         NaN   \n",
       "2             IRL         NaN    209535         NaN         NaN   \n",
       "3             NED        24.3    209534         NaN         NaN   \n",
       "4             USA        21.3    209533         NaN         NaN   \n",
       "...           ...         ...       ...         ...         ...   \n",
       "188156        GRE        20.8    209080         NaN         NaN   \n",
       "188157        GRE        21.5    202120         NaN         NaN   \n",
       "188158        HKG        23.4    105278         NaN         NaN   \n",
       "188159        HKG        17.7    200583         NaN         NaN   \n",
       "188160        BEN        19.2    207132         NaN         NaN   \n",
       "\n",
       "              loser_name loser_hand  loser_ht loser_ioc  loser_age  \\\n",
       "0        Peter Ledbetter          U       NaN       UNK       24.0   \n",
       "1        Maurice Pollock          U       NaN       IRL        NaN   \n",
       "2            John Mulvey          U       NaN       IRL        NaN   \n",
       "3        Unknown Fearmon          U       NaN       NaN        NaN   \n",
       "4         Harry Sheridan          U       NaN       IRL        NaN   \n",
       "...                  ...        ...       ...       ...        ...   \n",
       "188156   Blaise Bicknell          R     188.0       USA       20.2   \n",
       "188157  Rowland Phillips          R       NaN       JAM       28.0   \n",
       "188158     Alexis Klegou          U       NaN       BEN       33.0   \n",
       "188159      Delmas Ntcha          R       NaN       BEN       21.7   \n",
       "188160        Ki Lung Ng          R       NaN       HKG        NaN   \n",
       "\n",
       "                  score  best_of round  minutes  w_ace  w_df  w_svpt  w_1stIn  \\\n",
       "0               6-1 7-5        3   R32      NaN    NaN   NaN     NaN      NaN   \n",
       "1               6-1 6-1        3   R32      NaN    NaN   NaN     NaN      NaN   \n",
       "2               6-2 6-2        3   R32      NaN    NaN   NaN     NaN      NaN   \n",
       "3               6-1 6-1        3   R32      NaN    NaN   NaN     NaN      NaN   \n",
       "4               6-2 6-4        3   R32      NaN    NaN   NaN     NaN      NaN   \n",
       "...                 ...      ...   ...      ...    ...   ...     ...      ...   \n",
       "188156          6-4 6-4        3    RR    115.0    0.0   4.0    70.0     48.0   \n",
       "188157      4-6 6-4 6-4        3    RR    161.0    7.0   2.0    94.0     55.0   \n",
       "188158  1-6 6-4 4-1 RET        3    RR    250.0    4.0   8.0    56.0     33.0   \n",
       "188159          6-4 6-4        3    RR     98.0    2.0   2.0    68.0     38.0   \n",
       "188160          6-4 6-4        3    RR     92.0    5.0   5.0    70.0     32.0   \n",
       "\n",
       "        w_1stWon  w_2ndWon  w_SvGms  w_bpSaved  w_bpFaced  l_ace  l_df  \\\n",
       "0            NaN       NaN      NaN        NaN        NaN    NaN   NaN   \n",
       "1            NaN       NaN      NaN        NaN        NaN    NaN   NaN   \n",
       "2            NaN       NaN      NaN        NaN        NaN    NaN   NaN   \n",
       "3            NaN       NaN      NaN        NaN        NaN    NaN   NaN   \n",
       "4            NaN       NaN      NaN        NaN        NaN    NaN   NaN   \n",
       "...          ...       ...      ...        ...        ...    ...   ...   \n",
       "188156      35.0      12.0     10.0        5.0        5.0    1.0   3.0   \n",
       "188157      37.0      23.0     15.0        9.0       12.0    1.0   1.0   \n",
       "188158      20.0      13.0     11.0        3.0        7.0    0.0   3.0   \n",
       "188159      24.0      18.0     10.0        6.0        8.0    1.0   5.0   \n",
       "188160      28.0      17.0     10.0        4.0        5.0    6.0   2.0   \n",
       "\n",
       "        l_svpt  l_1stIn  l_1stWon  l_2ndWon  l_SvGms  l_bpSaved  l_bpFaced  \\\n",
       "0          NaN      NaN       NaN       NaN      NaN        NaN        NaN   \n",
       "1          NaN      NaN       NaN       NaN      NaN        NaN        NaN   \n",
       "2          NaN      NaN       NaN       NaN      NaN        NaN        NaN   \n",
       "3          NaN      NaN       NaN       NaN      NaN        NaN        NaN   \n",
       "4          NaN      NaN       NaN       NaN      NaN        NaN        NaN   \n",
       "...        ...      ...       ...       ...      ...        ...        ...   \n",
       "188156    96.0     68.0      42.0      12.0     10.0       11.0       13.0   \n",
       "188157    94.0     56.0      40.0      20.0     15.0        4.0        8.0   \n",
       "188158    72.0     54.0      29.0       8.0     11.0        6.0       10.0   \n",
       "188159    58.0     39.0      24.0       7.0     10.0        5.0        9.0   \n",
       "188160    60.0     34.0      24.0      13.0     10.0        5.0        8.0   \n",
       "\n",
       "        winner_rank  winner_rank_points  loser_rank  loser_rank_points  \n",
       "0               NaN                 NaN         NaN                NaN  \n",
       "1               NaN                 NaN         NaN                NaN  \n",
       "2               NaN                 NaN         NaN                NaN  \n",
       "3               NaN                 NaN         NaN                NaN  \n",
       "4               NaN                 NaN         NaN                NaN  \n",
       "...             ...                 ...         ...                ...  \n",
       "188156       1103.0                 9.0      1130.0                8.0  \n",
       "188157        808.0                23.0      1390.0                4.0  \n",
       "188158       1059.0                10.0      1881.0                1.0  \n",
       "188159          NaN                 NaN         NaN                NaN  \n",
       "188160          NaN                 NaN         NaN                NaN  \n",
       "\n",
       "[188161 rows x 49 columns]"
      ]
     },
     "execution_count": 5,
     "metadata": {},
     "output_type": "execute_result"
    }
   ],
   "source": [
    "df_matches"
   ]
  },
  {
   "cell_type": "markdown",
   "metadata": {},
   "source": [
    "<br>"
   ]
  },
  {
   "cell_type": "markdown",
   "metadata": {},
   "source": [
    "## Sieges- und Niederlagentabelle der Deutschen"
   ]
  },
  {
   "cell_type": "code",
   "execution_count": 6,
   "metadata": {},
   "outputs": [],
   "source": [
    "#Dataframe für die Anzhal der Matches, bei denen Deutschland gegen die jeweilige Nation verloren hat\n",
    "df_GER_loser = df_matches[df_matches.loser_ioc == \"GER\"].groupby([\"loser_ioc\", \"winner_ioc\"]).size().reset_index(name=\"loses_count\")\n",
    "\n",
    "#Dataframe für die Anzhal der Matches, bei denen Deutschland gegen die jeweilige Nation gewonnen hat\n",
    "df_GER_winner = df_matches[df_matches.winner_ioc == \"GER\"].groupby([\"loser_ioc\",\"winner_ioc\"]).size().reset_index(name=\"wins_count\")"
   ]
  },
  {
   "cell_type": "code",
   "execution_count": 7,
   "metadata": {},
   "outputs": [
    {
     "data": {
      "text/html": [
       "<div>\n",
       "<style scoped>\n",
       "    .dataframe tbody tr th:only-of-type {\n",
       "        vertical-align: middle;\n",
       "    }\n",
       "\n",
       "    .dataframe tbody tr th {\n",
       "        vertical-align: top;\n",
       "    }\n",
       "\n",
       "    .dataframe thead th {\n",
       "        text-align: right;\n",
       "    }\n",
       "</style>\n",
       "<table border=\"1\" class=\"dataframe\">\n",
       "  <thead>\n",
       "    <tr style=\"text-align: right;\">\n",
       "      <th></th>\n",
       "      <th>loser_ioc</th>\n",
       "      <th>winner_ioc</th>\n",
       "      <th>wins_count</th>\n",
       "    </tr>\n",
       "  </thead>\n",
       "  <tbody>\n",
       "    <tr>\n",
       "      <th>0</th>\n",
       "      <td>ALG</td>\n",
       "      <td>GER</td>\n",
       "      <td>5</td>\n",
       "    </tr>\n",
       "    <tr>\n",
       "      <th>1</th>\n",
       "      <td>ARG</td>\n",
       "      <td>GER</td>\n",
       "      <td>358</td>\n",
       "    </tr>\n",
       "    <tr>\n",
       "      <th>2</th>\n",
       "      <td>ARM</td>\n",
       "      <td>GER</td>\n",
       "      <td>10</td>\n",
       "    </tr>\n",
       "    <tr>\n",
       "      <th>3</th>\n",
       "      <td>AUS</td>\n",
       "      <td>GER</td>\n",
       "      <td>532</td>\n",
       "    </tr>\n",
       "    <tr>\n",
       "      <th>4</th>\n",
       "      <td>AUT</td>\n",
       "      <td>GER</td>\n",
       "      <td>201</td>\n",
       "    </tr>\n",
       "    <tr>\n",
       "      <th>...</th>\n",
       "      <td>...</td>\n",
       "      <td>...</td>\n",
       "      <td>...</td>\n",
       "    </tr>\n",
       "    <tr>\n",
       "      <th>87</th>\n",
       "      <td>UZB</td>\n",
       "      <td>GER</td>\n",
       "      <td>11</td>\n",
       "    </tr>\n",
       "    <tr>\n",
       "      <th>88</th>\n",
       "      <td>VEN</td>\n",
       "      <td>GER</td>\n",
       "      <td>20</td>\n",
       "    </tr>\n",
       "    <tr>\n",
       "      <th>89</th>\n",
       "      <td>VIE</td>\n",
       "      <td>GER</td>\n",
       "      <td>1</td>\n",
       "    </tr>\n",
       "    <tr>\n",
       "      <th>90</th>\n",
       "      <td>YUG</td>\n",
       "      <td>GER</td>\n",
       "      <td>13</td>\n",
       "    </tr>\n",
       "    <tr>\n",
       "      <th>91</th>\n",
       "      <td>ZIM</td>\n",
       "      <td>GER</td>\n",
       "      <td>18</td>\n",
       "    </tr>\n",
       "  </tbody>\n",
       "</table>\n",
       "<p>92 rows × 3 columns</p>\n",
       "</div>"
      ],
      "text/plain": [
       "   loser_ioc winner_ioc  wins_count\n",
       "0        ALG        GER           5\n",
       "1        ARG        GER         358\n",
       "2        ARM        GER          10\n",
       "3        AUS        GER         532\n",
       "4        AUT        GER         201\n",
       "..       ...        ...         ...\n",
       "87       UZB        GER          11\n",
       "88       VEN        GER          20\n",
       "89       VIE        GER           1\n",
       "90       YUG        GER          13\n",
       "91       ZIM        GER          18\n",
       "\n",
       "[92 rows x 3 columns]"
      ]
     },
     "execution_count": 7,
     "metadata": {},
     "output_type": "execute_result"
    }
   ],
   "source": [
    "df_GER_winner"
   ]
  },
  {
   "cell_type": "code",
   "execution_count": 8,
   "metadata": {},
   "outputs": [
    {
     "data": {
      "text/html": [
       "<div>\n",
       "<style scoped>\n",
       "    .dataframe tbody tr th:only-of-type {\n",
       "        vertical-align: middle;\n",
       "    }\n",
       "\n",
       "    .dataframe tbody tr th {\n",
       "        vertical-align: top;\n",
       "    }\n",
       "\n",
       "    .dataframe thead th {\n",
       "        text-align: right;\n",
       "    }\n",
       "</style>\n",
       "<table border=\"1\" class=\"dataframe\">\n",
       "  <thead>\n",
       "    <tr style=\"text-align: right;\">\n",
       "      <th></th>\n",
       "      <th>loser_ioc</th>\n",
       "      <th>winner_ioc</th>\n",
       "      <th>loses_count</th>\n",
       "    </tr>\n",
       "  </thead>\n",
       "  <tbody>\n",
       "    <tr>\n",
       "      <th>0</th>\n",
       "      <td>GER</td>\n",
       "      <td>ALG</td>\n",
       "      <td>1</td>\n",
       "    </tr>\n",
       "    <tr>\n",
       "      <th>1</th>\n",
       "      <td>GER</td>\n",
       "      <td>ARG</td>\n",
       "      <td>478</td>\n",
       "    </tr>\n",
       "    <tr>\n",
       "      <th>2</th>\n",
       "      <td>GER</td>\n",
       "      <td>ARM</td>\n",
       "      <td>6</td>\n",
       "    </tr>\n",
       "    <tr>\n",
       "      <th>3</th>\n",
       "      <td>GER</td>\n",
       "      <td>AUS</td>\n",
       "      <td>543</td>\n",
       "    </tr>\n",
       "    <tr>\n",
       "      <th>4</th>\n",
       "      <td>GER</td>\n",
       "      <td>AUT</td>\n",
       "      <td>186</td>\n",
       "    </tr>\n",
       "    <tr>\n",
       "      <th>...</th>\n",
       "      <td>...</td>\n",
       "      <td>...</td>\n",
       "      <td>...</td>\n",
       "    </tr>\n",
       "    <tr>\n",
       "      <th>77</th>\n",
       "      <td>GER</td>\n",
       "      <td>USA</td>\n",
       "      <td>1464</td>\n",
       "    </tr>\n",
       "    <tr>\n",
       "      <th>78</th>\n",
       "      <td>GER</td>\n",
       "      <td>UZB</td>\n",
       "      <td>31</td>\n",
       "    </tr>\n",
       "    <tr>\n",
       "      <th>79</th>\n",
       "      <td>GER</td>\n",
       "      <td>VEN</td>\n",
       "      <td>3</td>\n",
       "    </tr>\n",
       "    <tr>\n",
       "      <th>80</th>\n",
       "      <td>GER</td>\n",
       "      <td>YUG</td>\n",
       "      <td>8</td>\n",
       "    </tr>\n",
       "    <tr>\n",
       "      <th>81</th>\n",
       "      <td>GER</td>\n",
       "      <td>ZIM</td>\n",
       "      <td>30</td>\n",
       "    </tr>\n",
       "  </tbody>\n",
       "</table>\n",
       "<p>82 rows × 3 columns</p>\n",
       "</div>"
      ],
      "text/plain": [
       "   loser_ioc winner_ioc  loses_count\n",
       "0        GER        ALG            1\n",
       "1        GER        ARG          478\n",
       "2        GER        ARM            6\n",
       "3        GER        AUS          543\n",
       "4        GER        AUT          186\n",
       "..       ...        ...          ...\n",
       "77       GER        USA         1464\n",
       "78       GER        UZB           31\n",
       "79       GER        VEN            3\n",
       "80       GER        YUG            8\n",
       "81       GER        ZIM           30\n",
       "\n",
       "[82 rows x 3 columns]"
      ]
     },
     "execution_count": 8,
     "metadata": {},
     "output_type": "execute_result"
    }
   ],
   "source": [
    "df_GER_loser"
   ]
  },
  {
   "cell_type": "code",
   "execution_count": 9,
   "metadata": {},
   "outputs": [
    {
     "data": {
      "text/html": [
       "<div>\n",
       "<style scoped>\n",
       "    .dataframe tbody tr th:only-of-type {\n",
       "        vertical-align: middle;\n",
       "    }\n",
       "\n",
       "    .dataframe tbody tr th {\n",
       "        vertical-align: top;\n",
       "    }\n",
       "\n",
       "    .dataframe thead th {\n",
       "        text-align: right;\n",
       "    }\n",
       "</style>\n",
       "<table border=\"1\" class=\"dataframe\">\n",
       "  <thead>\n",
       "    <tr style=\"text-align: right;\">\n",
       "      <th></th>\n",
       "      <th>Siege</th>\n",
       "      <th>Niederlagen</th>\n",
       "      <th>Deutschland</th>\n",
       "      <th>Gegnernation</th>\n",
       "    </tr>\n",
       "  </thead>\n",
       "  <tbody>\n",
       "    <tr>\n",
       "      <th>0</th>\n",
       "      <td>5</td>\n",
       "      <td>1</td>\n",
       "      <td>GER</td>\n",
       "      <td>ALG</td>\n",
       "    </tr>\n",
       "    <tr>\n",
       "      <th>1</th>\n",
       "      <td>358</td>\n",
       "      <td>478</td>\n",
       "      <td>GER</td>\n",
       "      <td>ARG</td>\n",
       "    </tr>\n",
       "    <tr>\n",
       "      <th>2</th>\n",
       "      <td>10</td>\n",
       "      <td>6</td>\n",
       "      <td>GER</td>\n",
       "      <td>ARM</td>\n",
       "    </tr>\n",
       "    <tr>\n",
       "      <th>3</th>\n",
       "      <td>532</td>\n",
       "      <td>543</td>\n",
       "      <td>GER</td>\n",
       "      <td>AUS</td>\n",
       "    </tr>\n",
       "    <tr>\n",
       "      <th>4</th>\n",
       "      <td>201</td>\n",
       "      <td>186</td>\n",
       "      <td>GER</td>\n",
       "      <td>AUT</td>\n",
       "    </tr>\n",
       "    <tr>\n",
       "      <th>...</th>\n",
       "      <td>...</td>\n",
       "      <td>...</td>\n",
       "      <td>...</td>\n",
       "      <td>...</td>\n",
       "    </tr>\n",
       "    <tr>\n",
       "      <th>88</th>\n",
       "      <td>20</td>\n",
       "      <td>3</td>\n",
       "      <td>GER</td>\n",
       "      <td>VEN</td>\n",
       "    </tr>\n",
       "    <tr>\n",
       "      <th>89</th>\n",
       "      <td>1</td>\n",
       "      <td>0</td>\n",
       "      <td>GER</td>\n",
       "      <td>VIE</td>\n",
       "    </tr>\n",
       "    <tr>\n",
       "      <th>90</th>\n",
       "      <td>13</td>\n",
       "      <td>8</td>\n",
       "      <td>GER</td>\n",
       "      <td>YUG</td>\n",
       "    </tr>\n",
       "    <tr>\n",
       "      <th>91</th>\n",
       "      <td>18</td>\n",
       "      <td>30</td>\n",
       "      <td>GER</td>\n",
       "      <td>ZIM</td>\n",
       "    </tr>\n",
       "    <tr>\n",
       "      <th>92</th>\n",
       "      <td>0</td>\n",
       "      <td>1</td>\n",
       "      <td>GER</td>\n",
       "      <td>ESA</td>\n",
       "    </tr>\n",
       "  </tbody>\n",
       "</table>\n",
       "<p>93 rows × 4 columns</p>\n",
       "</div>"
      ],
      "text/plain": [
       "    Siege  Niederlagen Deutschland Gegnernation\n",
       "0       5            1         GER          ALG\n",
       "1     358          478         GER          ARG\n",
       "2      10            6         GER          ARM\n",
       "3     532          543         GER          AUS\n",
       "4     201          186         GER          AUT\n",
       "..    ...          ...         ...          ...\n",
       "88     20            3         GER          VEN\n",
       "89      1            0         GER          VIE\n",
       "90     13            8         GER          YUG\n",
       "91     18           30         GER          ZIM\n",
       "92      0            1         GER          ESA\n",
       "\n",
       "[93 rows x 4 columns]"
      ]
     },
     "execution_count": 9,
     "metadata": {},
     "output_type": "execute_result"
    }
   ],
   "source": [
    "#Tabellen joinen\n",
    "df_merge = pd.merge(df_GER_winner, df_GER_loser, how=\"outer\", left_on=\"loser_ioc\", right_on=\"winner_ioc\")  \n",
    "\n",
    "#Die Spalten zu einer kombinieren, die wegen des joins doppelt vorkommen \n",
    "df_merge['Deutschland'] = df_merge['winner_ioc_x'].combine_first(df_merge['loser_ioc_y'])\n",
    "df_merge[\"Gegnernation\"] = df_merge[\"loser_ioc_x\"].combine_first(df_merge[\"winner_ioc_y\"])\n",
    "\n",
    "#Spalten umbenennen\n",
    "df_merge.rename(columns={\"wins_count\": \"Siege\", \"loses_count\": \"Niederlagen\"}, inplace=True)\n",
    "\n",
    "#Spalten entfernen, die nicht relevant sind\n",
    "df_merge.drop([\"winner_ioc_x\", \"winner_ioc_y\",'loser_ioc_x', 'loser_ioc_y'], axis=1, inplace=True)\n",
    "\n",
    "#NaN-Werte der Spalte \"Niederlagen\" und \"Siege\" durch 0 ersetzen und Datentyp zu \"int\" ändern\n",
    "fillna_0_astype_int64(df_merge)\n",
    "\n",
    "df_merge"
   ]
  },
  {
   "cell_type": "markdown",
   "metadata": {},
   "source": [
    "<br>"
   ]
  },
  {
   "cell_type": "markdown",
   "metadata": {},
   "source": [
    "## Gibt es Angstgegner Nationen?"
   ]
  },
  {
   "cell_type": "code",
   "execution_count": 10,
   "metadata": {},
   "outputs": [
    {
     "data": {
      "text/html": [
       "<div>\n",
       "<style scoped>\n",
       "    .dataframe tbody tr th:only-of-type {\n",
       "        vertical-align: middle;\n",
       "    }\n",
       "\n",
       "    .dataframe tbody tr th {\n",
       "        vertical-align: top;\n",
       "    }\n",
       "\n",
       "    .dataframe thead th {\n",
       "        text-align: right;\n",
       "    }\n",
       "</style>\n",
       "<table border=\"1\" class=\"dataframe\">\n",
       "  <thead>\n",
       "    <tr style=\"text-align: right;\">\n",
       "      <th></th>\n",
       "      <th>Siege</th>\n",
       "      <th>Niederlagen</th>\n",
       "      <th>Deutschland</th>\n",
       "      <th>Gegnernation</th>\n",
       "      <th>Siegesquote</th>\n",
       "    </tr>\n",
       "  </thead>\n",
       "  <tbody>\n",
       "    <tr>\n",
       "      <th>20</th>\n",
       "      <td>12</td>\n",
       "      <td>36</td>\n",
       "      <td>GER</td>\n",
       "      <td>CYP</td>\n",
       "      <td>0.250000</td>\n",
       "    </tr>\n",
       "    <tr>\n",
       "      <th>87</th>\n",
       "      <td>11</td>\n",
       "      <td>31</td>\n",
       "      <td>GER</td>\n",
       "      <td>UZB</td>\n",
       "      <td>0.261905</td>\n",
       "    </tr>\n",
       "    <tr>\n",
       "      <th>49</th>\n",
       "      <td>7</td>\n",
       "      <td>15</td>\n",
       "      <td>GER</td>\n",
       "      <td>LTU</td>\n",
       "      <td>0.318182</td>\n",
       "    </tr>\n",
       "    <tr>\n",
       "      <th>51</th>\n",
       "      <td>25</td>\n",
       "      <td>43</td>\n",
       "      <td>GER</td>\n",
       "      <td>MAR</td>\n",
       "      <td>0.367647</td>\n",
       "    </tr>\n",
       "    <tr>\n",
       "      <th>91</th>\n",
       "      <td>18</td>\n",
       "      <td>30</td>\n",
       "      <td>GER</td>\n",
       "      <td>ZIM</td>\n",
       "      <td>0.375000</td>\n",
       "    </tr>\n",
       "    <tr>\n",
       "      <th>61</th>\n",
       "      <td>17</td>\n",
       "      <td>26</td>\n",
       "      <td>GER</td>\n",
       "      <td>PAR</td>\n",
       "      <td>0.395349</td>\n",
       "    </tr>\n",
       "    <tr>\n",
       "      <th>13</th>\n",
       "      <td>14</td>\n",
       "      <td>21</td>\n",
       "      <td>GER</td>\n",
       "      <td>BUL</td>\n",
       "      <td>0.400000</td>\n",
       "    </tr>\n",
       "    <tr>\n",
       "      <th>74</th>\n",
       "      <td>169</td>\n",
       "      <td>245</td>\n",
       "      <td>GER</td>\n",
       "      <td>SUI</td>\n",
       "      <td>0.408213</td>\n",
       "    </tr>\n",
       "    <tr>\n",
       "      <th>15</th>\n",
       "      <td>87</td>\n",
       "      <td>122</td>\n",
       "      <td>GER</td>\n",
       "      <td>CHI</td>\n",
       "      <td>0.416268</td>\n",
       "    </tr>\n",
       "    <tr>\n",
       "      <th>72</th>\n",
       "      <td>95</td>\n",
       "      <td>133</td>\n",
       "      <td>GER</td>\n",
       "      <td>SRB</td>\n",
       "      <td>0.416667</td>\n",
       "    </tr>\n",
       "    <tr>\n",
       "      <th>62</th>\n",
       "      <td>21</td>\n",
       "      <td>29</td>\n",
       "      <td>GER</td>\n",
       "      <td>PER</td>\n",
       "      <td>0.420000</td>\n",
       "    </tr>\n",
       "    <tr>\n",
       "      <th>26</th>\n",
       "      <td>691</td>\n",
       "      <td>945</td>\n",
       "      <td>GER</td>\n",
       "      <td>ESP</td>\n",
       "      <td>0.422372</td>\n",
       "    </tr>\n",
       "    <tr>\n",
       "      <th>1</th>\n",
       "      <td>358</td>\n",
       "      <td>478</td>\n",
       "      <td>GER</td>\n",
       "      <td>ARG</td>\n",
       "      <td>0.428230</td>\n",
       "    </tr>\n",
       "    <tr>\n",
       "      <th>64</th>\n",
       "      <td>40</td>\n",
       "      <td>53</td>\n",
       "      <td>GER</td>\n",
       "      <td>POL</td>\n",
       "      <td>0.430108</td>\n",
       "    </tr>\n",
       "    <tr>\n",
       "      <th>19</th>\n",
       "      <td>189</td>\n",
       "      <td>248</td>\n",
       "      <td>GER</td>\n",
       "      <td>CRO</td>\n",
       "      <td>0.432494</td>\n",
       "    </tr>\n",
       "    <tr>\n",
       "      <th>69</th>\n",
       "      <td>307</td>\n",
       "      <td>392</td>\n",
       "      <td>GER</td>\n",
       "      <td>RUS</td>\n",
       "      <td>0.439199</td>\n",
       "    </tr>\n",
       "    <tr>\n",
       "      <th>58</th>\n",
       "      <td>58</td>\n",
       "      <td>74</td>\n",
       "      <td>GER</td>\n",
       "      <td>NZL</td>\n",
       "      <td>0.439394</td>\n",
       "    </tr>\n",
       "    <tr>\n",
       "      <th>85</th>\n",
       "      <td>23</td>\n",
       "      <td>29</td>\n",
       "      <td>GER</td>\n",
       "      <td>URU</td>\n",
       "      <td>0.442308</td>\n",
       "    </tr>\n",
       "    <tr>\n",
       "      <th>21</th>\n",
       "      <td>373</td>\n",
       "      <td>457</td>\n",
       "      <td>GER</td>\n",
       "      <td>CZE</td>\n",
       "      <td>0.449398</td>\n",
       "    </tr>\n",
       "    <tr>\n",
       "      <th>82</th>\n",
       "      <td>45</td>\n",
       "      <td>55</td>\n",
       "      <td>GER</td>\n",
       "      <td>UKR</td>\n",
       "      <td>0.450000</td>\n",
       "    </tr>\n",
       "    <tr>\n",
       "      <th>28</th>\n",
       "      <td>46</td>\n",
       "      <td>56</td>\n",
       "      <td>GER</td>\n",
       "      <td>FIN</td>\n",
       "      <td>0.450980</td>\n",
       "    </tr>\n",
       "    <tr>\n",
       "      <th>24</th>\n",
       "      <td>33</td>\n",
       "      <td>40</td>\n",
       "      <td>GER</td>\n",
       "      <td>ECU</td>\n",
       "      <td>0.452055</td>\n",
       "    </tr>\n",
       "    <tr>\n",
       "      <th>76</th>\n",
       "      <td>474</td>\n",
       "      <td>570</td>\n",
       "      <td>GER</td>\n",
       "      <td>SWE</td>\n",
       "      <td>0.454023</td>\n",
       "    </tr>\n",
       "    <tr>\n",
       "      <th>30</th>\n",
       "      <td>185</td>\n",
       "      <td>222</td>\n",
       "      <td>GER</td>\n",
       "      <td>GBR</td>\n",
       "      <td>0.454545</td>\n",
       "    </tr>\n",
       "    <tr>\n",
       "      <th>81</th>\n",
       "      <td>5</td>\n",
       "      <td>6</td>\n",
       "      <td>GER</td>\n",
       "      <td>TUR</td>\n",
       "      <td>0.454545</td>\n",
       "    </tr>\n",
       "    <tr>\n",
       "      <th>86</th>\n",
       "      <td>1256</td>\n",
       "      <td>1464</td>\n",
       "      <td>GER</td>\n",
       "      <td>USA</td>\n",
       "      <td>0.461765</td>\n",
       "    </tr>\n",
       "    <tr>\n",
       "      <th>55</th>\n",
       "      <td>223</td>\n",
       "      <td>249</td>\n",
       "      <td>GER</td>\n",
       "      <td>NED</td>\n",
       "      <td>0.472458</td>\n",
       "    </tr>\n",
       "    <tr>\n",
       "      <th>67</th>\n",
       "      <td>107</td>\n",
       "      <td>119</td>\n",
       "      <td>GER</td>\n",
       "      <td>ROU</td>\n",
       "      <td>0.473451</td>\n",
       "    </tr>\n",
       "    <tr>\n",
       "      <th>50</th>\n",
       "      <td>9</td>\n",
       "      <td>10</td>\n",
       "      <td>GER</td>\n",
       "      <td>LUX</td>\n",
       "      <td>0.473684</td>\n",
       "    </tr>\n",
       "    <tr>\n",
       "      <th>75</th>\n",
       "      <td>93</td>\n",
       "      <td>101</td>\n",
       "      <td>GER</td>\n",
       "      <td>SVK</td>\n",
       "      <td>0.479381</td>\n",
       "    </tr>\n",
       "    <tr>\n",
       "      <th>9</th>\n",
       "      <td>12</td>\n",
       "      <td>13</td>\n",
       "      <td>GER</td>\n",
       "      <td>BIH</td>\n",
       "      <td>0.480000</td>\n",
       "    </tr>\n",
       "    <tr>\n",
       "      <th>31</th>\n",
       "      <td>12</td>\n",
       "      <td>13</td>\n",
       "      <td>GER</td>\n",
       "      <td>GEO</td>\n",
       "      <td>0.480000</td>\n",
       "    </tr>\n",
       "    <tr>\n",
       "      <th>29</th>\n",
       "      <td>780</td>\n",
       "      <td>816</td>\n",
       "      <td>GER</td>\n",
       "      <td>FRA</td>\n",
       "      <td>0.488722</td>\n",
       "    </tr>\n",
       "    <tr>\n",
       "      <th>3</th>\n",
       "      <td>532</td>\n",
       "      <td>543</td>\n",
       "      <td>GER</td>\n",
       "      <td>AUS</td>\n",
       "      <td>0.494884</td>\n",
       "    </tr>\n",
       "    <tr>\n",
       "      <th>35</th>\n",
       "      <td>60</td>\n",
       "      <td>61</td>\n",
       "      <td>GER</td>\n",
       "      <td>HUN</td>\n",
       "      <td>0.495868</td>\n",
       "    </tr>\n",
       "  </tbody>\n",
       "</table>\n",
       "</div>"
      ],
      "text/plain": [
       "    Siege  Niederlagen Deutschland Gegnernation  Siegesquote\n",
       "20     12           36         GER          CYP     0.250000\n",
       "87     11           31         GER          UZB     0.261905\n",
       "49      7           15         GER          LTU     0.318182\n",
       "51     25           43         GER          MAR     0.367647\n",
       "91     18           30         GER          ZIM     0.375000\n",
       "61     17           26         GER          PAR     0.395349\n",
       "13     14           21         GER          BUL     0.400000\n",
       "74    169          245         GER          SUI     0.408213\n",
       "15     87          122         GER          CHI     0.416268\n",
       "72     95          133         GER          SRB     0.416667\n",
       "62     21           29         GER          PER     0.420000\n",
       "26    691          945         GER          ESP     0.422372\n",
       "1     358          478         GER          ARG     0.428230\n",
       "64     40           53         GER          POL     0.430108\n",
       "19    189          248         GER          CRO     0.432494\n",
       "69    307          392         GER          RUS     0.439199\n",
       "58     58           74         GER          NZL     0.439394\n",
       "85     23           29         GER          URU     0.442308\n",
       "21    373          457         GER          CZE     0.449398\n",
       "82     45           55         GER          UKR     0.450000\n",
       "28     46           56         GER          FIN     0.450980\n",
       "24     33           40         GER          ECU     0.452055\n",
       "76    474          570         GER          SWE     0.454023\n",
       "30    185          222         GER          GBR     0.454545\n",
       "81      5            6         GER          TUR     0.454545\n",
       "86   1256         1464         GER          USA     0.461765\n",
       "55    223          249         GER          NED     0.472458\n",
       "67    107          119         GER          ROU     0.473451\n",
       "50      9           10         GER          LUX     0.473684\n",
       "75     93          101         GER          SVK     0.479381\n",
       "9      12           13         GER          BIH     0.480000\n",
       "31     12           13         GER          GEO     0.480000\n",
       "29    780          816         GER          FRA     0.488722\n",
       "3     532          543         GER          AUS     0.494884\n",
       "35     60           61         GER          HUN     0.495868"
      ]
     },
     "execution_count": 10,
     "metadata": {},
     "output_type": "execute_result"
    }
   ],
   "source": [
    "#Sigesquote von Deutschland als Spalte hinzufügen\n",
    "siegesquote_funktion(df_merge)\n",
    "\n",
    "#Zeilen rausfiltern, bei denen Deutschland insgesamt mehr als 10 Mal gegen die jeweilige Gegnernation gespielt hat.\n",
    "#Damit können z.B. Sigesquoten von 100% ausgeschlossen werden, bei denen nur sehr wenige Matches satttgefunden haben\n",
    "df_filtered = df_merge[(df_merge.Siege + df_merge.Niederlagen)>10]\n",
    "\n",
    "#Zeilen, bei denen die Siegesquote von Deutschland < 50% ist\n",
    "df_filtered = df_filtered[df_filtered[\"Siegesquote\"] < 0.5].sort_values(by = \"Siegesquote\", ascending=True)\n",
    "df_filtered\n"
   ]
  },
  {
   "cell_type": "code",
   "execution_count": 11,
   "metadata": {},
   "outputs": [
    {
     "data": {
      "text/plain": [
       "20    CYP\n",
       "87    UZB\n",
       "49    LTU\n",
       "51    MAR\n",
       "91    ZIM\n",
       "Name: Gegnernation, dtype: object"
      ]
     },
     "execution_count": 11,
     "metadata": {},
     "output_type": "execute_result"
    }
   ],
   "source": [
    "#Die 5 geführchtetsten Gegnernationen\n",
    "df_filtered.iloc[0:5][\"Gegnernation\"]"
   ]
  },
  {
   "cell_type": "markdown",
   "metadata": {},
   "source": [
    "<br>"
   ]
  },
  {
   "cell_type": "markdown",
   "metadata": {},
   "source": [
    "### Visualisierung der Angstgegnernationen"
   ]
  },
  {
   "cell_type": "code",
   "execution_count": 12,
   "metadata": {},
   "outputs": [
    {
     "data": {
      "application/vnd.plotly.v1+json": {
       "config": {
        "plotlyServerURL": "https://plot.ly"
       },
       "data": [
        {
         "alignmentgroup": "True",
         "hovertemplate": "Gegnernation=%{x}<br>Siegesquote Deutschland=%{marker.color}<extra></extra>",
         "legendgroup": "",
         "marker": {
          "color": [
           0.25,
           0.2619047619047619,
           0.3181818181818182,
           0.36764705882352944,
           0.375,
           0.3953488372093023,
           0.4,
           0.4082125603864734,
           0.41626794258373206,
           0.4166666666666667,
           0.42,
           0.4223716381418093,
           0.42822966507177035,
           0.43010752688172044,
           0.43249427917620137,
           0.43919885550786836,
           0.4393939393939394,
           0.4423076923076923,
           0.4493975903614458,
           0.45,
           0.45098039215686275,
           0.4520547945205479,
           0.4540229885057471,
           0.45454545454545453,
           0.45454545454545453,
           0.46176470588235297,
           0.4724576271186441,
           0.47345132743362833,
           0.47368421052631576,
           0.4793814432989691,
           0.48,
           0.48,
           0.48872180451127817,
           0.4948837209302326,
           0.49586776859504134
          ],
          "coloraxis": "coloraxis",
          "pattern": {
           "shape": ""
          }
         },
         "name": "",
         "offsetgroup": "",
         "orientation": "v",
         "showlegend": false,
         "textposition": "auto",
         "type": "bar",
         "x": [
          "CYP",
          "UZB",
          "LTU",
          "MAR",
          "ZIM",
          "PAR",
          "BUL",
          "SUI",
          "CHI",
          "SRB",
          "PER",
          "ESP",
          "ARG",
          "POL",
          "CRO",
          "RUS",
          "NZL",
          "URU",
          "CZE",
          "UKR",
          "FIN",
          "ECU",
          "SWE",
          "GBR",
          "TUR",
          "USA",
          "NED",
          "ROU",
          "LUX",
          "SVK",
          "BIH",
          "GEO",
          "FRA",
          "AUS",
          "HUN"
         ],
         "xaxis": "x",
         "y": [
          0.25,
          0.2619047619047619,
          0.3181818181818182,
          0.36764705882352944,
          0.375,
          0.3953488372093023,
          0.4,
          0.4082125603864734,
          0.41626794258373206,
          0.4166666666666667,
          0.42,
          0.4223716381418093,
          0.42822966507177035,
          0.43010752688172044,
          0.43249427917620137,
          0.43919885550786836,
          0.4393939393939394,
          0.4423076923076923,
          0.4493975903614458,
          0.45,
          0.45098039215686275,
          0.4520547945205479,
          0.4540229885057471,
          0.45454545454545453,
          0.45454545454545453,
          0.46176470588235297,
          0.4724576271186441,
          0.47345132743362833,
          0.47368421052631576,
          0.4793814432989691,
          0.48,
          0.48,
          0.48872180451127817,
          0.4948837209302326,
          0.49586776859504134
         ],
         "yaxis": "y"
        }
       ],
       "layout": {
        "barmode": "relative",
        "coloraxis": {
         "colorbar": {
          "title": {
           "text": "Siegesquote Deutschland"
          }
         },
         "colorscale": [
          [
           0,
           "#0d0887"
          ],
          [
           0.1111111111111111,
           "#46039f"
          ],
          [
           0.2222222222222222,
           "#7201a8"
          ],
          [
           0.3333333333333333,
           "#9c179e"
          ],
          [
           0.4444444444444444,
           "#bd3786"
          ],
          [
           0.5555555555555556,
           "#d8576b"
          ],
          [
           0.6666666666666666,
           "#ed7953"
          ],
          [
           0.7777777777777778,
           "#fb9f3a"
          ],
          [
           0.8888888888888888,
           "#fdca26"
          ],
          [
           1,
           "#f0f921"
          ]
         ]
        },
        "legend": {
         "tracegroupgap": 0
        },
        "template": {
         "data": {
          "bar": [
           {
            "error_x": {
             "color": "#2a3f5f"
            },
            "error_y": {
             "color": "#2a3f5f"
            },
            "marker": {
             "line": {
              "color": "#E5ECF6",
              "width": 0.5
             },
             "pattern": {
              "fillmode": "overlay",
              "size": 10,
              "solidity": 0.2
             }
            },
            "type": "bar"
           }
          ],
          "barpolar": [
           {
            "marker": {
             "line": {
              "color": "#E5ECF6",
              "width": 0.5
             },
             "pattern": {
              "fillmode": "overlay",
              "size": 10,
              "solidity": 0.2
             }
            },
            "type": "barpolar"
           }
          ],
          "carpet": [
           {
            "aaxis": {
             "endlinecolor": "#2a3f5f",
             "gridcolor": "white",
             "linecolor": "white",
             "minorgridcolor": "white",
             "startlinecolor": "#2a3f5f"
            },
            "baxis": {
             "endlinecolor": "#2a3f5f",
             "gridcolor": "white",
             "linecolor": "white",
             "minorgridcolor": "white",
             "startlinecolor": "#2a3f5f"
            },
            "type": "carpet"
           }
          ],
          "choropleth": [
           {
            "colorbar": {
             "outlinewidth": 0,
             "ticks": ""
            },
            "type": "choropleth"
           }
          ],
          "contour": [
           {
            "colorbar": {
             "outlinewidth": 0,
             "ticks": ""
            },
            "colorscale": [
             [
              0,
              "#0d0887"
             ],
             [
              0.1111111111111111,
              "#46039f"
             ],
             [
              0.2222222222222222,
              "#7201a8"
             ],
             [
              0.3333333333333333,
              "#9c179e"
             ],
             [
              0.4444444444444444,
              "#bd3786"
             ],
             [
              0.5555555555555556,
              "#d8576b"
             ],
             [
              0.6666666666666666,
              "#ed7953"
             ],
             [
              0.7777777777777778,
              "#fb9f3a"
             ],
             [
              0.8888888888888888,
              "#fdca26"
             ],
             [
              1,
              "#f0f921"
             ]
            ],
            "type": "contour"
           }
          ],
          "contourcarpet": [
           {
            "colorbar": {
             "outlinewidth": 0,
             "ticks": ""
            },
            "type": "contourcarpet"
           }
          ],
          "heatmap": [
           {
            "colorbar": {
             "outlinewidth": 0,
             "ticks": ""
            },
            "colorscale": [
             [
              0,
              "#0d0887"
             ],
             [
              0.1111111111111111,
              "#46039f"
             ],
             [
              0.2222222222222222,
              "#7201a8"
             ],
             [
              0.3333333333333333,
              "#9c179e"
             ],
             [
              0.4444444444444444,
              "#bd3786"
             ],
             [
              0.5555555555555556,
              "#d8576b"
             ],
             [
              0.6666666666666666,
              "#ed7953"
             ],
             [
              0.7777777777777778,
              "#fb9f3a"
             ],
             [
              0.8888888888888888,
              "#fdca26"
             ],
             [
              1,
              "#f0f921"
             ]
            ],
            "type": "heatmap"
           }
          ],
          "heatmapgl": [
           {
            "colorbar": {
             "outlinewidth": 0,
             "ticks": ""
            },
            "colorscale": [
             [
              0,
              "#0d0887"
             ],
             [
              0.1111111111111111,
              "#46039f"
             ],
             [
              0.2222222222222222,
              "#7201a8"
             ],
             [
              0.3333333333333333,
              "#9c179e"
             ],
             [
              0.4444444444444444,
              "#bd3786"
             ],
             [
              0.5555555555555556,
              "#d8576b"
             ],
             [
              0.6666666666666666,
              "#ed7953"
             ],
             [
              0.7777777777777778,
              "#fb9f3a"
             ],
             [
              0.8888888888888888,
              "#fdca26"
             ],
             [
              1,
              "#f0f921"
             ]
            ],
            "type": "heatmapgl"
           }
          ],
          "histogram": [
           {
            "marker": {
             "pattern": {
              "fillmode": "overlay",
              "size": 10,
              "solidity": 0.2
             }
            },
            "type": "histogram"
           }
          ],
          "histogram2d": [
           {
            "colorbar": {
             "outlinewidth": 0,
             "ticks": ""
            },
            "colorscale": [
             [
              0,
              "#0d0887"
             ],
             [
              0.1111111111111111,
              "#46039f"
             ],
             [
              0.2222222222222222,
              "#7201a8"
             ],
             [
              0.3333333333333333,
              "#9c179e"
             ],
             [
              0.4444444444444444,
              "#bd3786"
             ],
             [
              0.5555555555555556,
              "#d8576b"
             ],
             [
              0.6666666666666666,
              "#ed7953"
             ],
             [
              0.7777777777777778,
              "#fb9f3a"
             ],
             [
              0.8888888888888888,
              "#fdca26"
             ],
             [
              1,
              "#f0f921"
             ]
            ],
            "type": "histogram2d"
           }
          ],
          "histogram2dcontour": [
           {
            "colorbar": {
             "outlinewidth": 0,
             "ticks": ""
            },
            "colorscale": [
             [
              0,
              "#0d0887"
             ],
             [
              0.1111111111111111,
              "#46039f"
             ],
             [
              0.2222222222222222,
              "#7201a8"
             ],
             [
              0.3333333333333333,
              "#9c179e"
             ],
             [
              0.4444444444444444,
              "#bd3786"
             ],
             [
              0.5555555555555556,
              "#d8576b"
             ],
             [
              0.6666666666666666,
              "#ed7953"
             ],
             [
              0.7777777777777778,
              "#fb9f3a"
             ],
             [
              0.8888888888888888,
              "#fdca26"
             ],
             [
              1,
              "#f0f921"
             ]
            ],
            "type": "histogram2dcontour"
           }
          ],
          "mesh3d": [
           {
            "colorbar": {
             "outlinewidth": 0,
             "ticks": ""
            },
            "type": "mesh3d"
           }
          ],
          "parcoords": [
           {
            "line": {
             "colorbar": {
              "outlinewidth": 0,
              "ticks": ""
             }
            },
            "type": "parcoords"
           }
          ],
          "pie": [
           {
            "automargin": true,
            "type": "pie"
           }
          ],
          "scatter": [
           {
            "fillpattern": {
             "fillmode": "overlay",
             "size": 10,
             "solidity": 0.2
            },
            "type": "scatter"
           }
          ],
          "scatter3d": [
           {
            "line": {
             "colorbar": {
              "outlinewidth": 0,
              "ticks": ""
             }
            },
            "marker": {
             "colorbar": {
              "outlinewidth": 0,
              "ticks": ""
             }
            },
            "type": "scatter3d"
           }
          ],
          "scattercarpet": [
           {
            "marker": {
             "colorbar": {
              "outlinewidth": 0,
              "ticks": ""
             }
            },
            "type": "scattercarpet"
           }
          ],
          "scattergeo": [
           {
            "marker": {
             "colorbar": {
              "outlinewidth": 0,
              "ticks": ""
             }
            },
            "type": "scattergeo"
           }
          ],
          "scattergl": [
           {
            "marker": {
             "colorbar": {
              "outlinewidth": 0,
              "ticks": ""
             }
            },
            "type": "scattergl"
           }
          ],
          "scattermapbox": [
           {
            "marker": {
             "colorbar": {
              "outlinewidth": 0,
              "ticks": ""
             }
            },
            "type": "scattermapbox"
           }
          ],
          "scatterpolar": [
           {
            "marker": {
             "colorbar": {
              "outlinewidth": 0,
              "ticks": ""
             }
            },
            "type": "scatterpolar"
           }
          ],
          "scatterpolargl": [
           {
            "marker": {
             "colorbar": {
              "outlinewidth": 0,
              "ticks": ""
             }
            },
            "type": "scatterpolargl"
           }
          ],
          "scatterternary": [
           {
            "marker": {
             "colorbar": {
              "outlinewidth": 0,
              "ticks": ""
             }
            },
            "type": "scatterternary"
           }
          ],
          "surface": [
           {
            "colorbar": {
             "outlinewidth": 0,
             "ticks": ""
            },
            "colorscale": [
             [
              0,
              "#0d0887"
             ],
             [
              0.1111111111111111,
              "#46039f"
             ],
             [
              0.2222222222222222,
              "#7201a8"
             ],
             [
              0.3333333333333333,
              "#9c179e"
             ],
             [
              0.4444444444444444,
              "#bd3786"
             ],
             [
              0.5555555555555556,
              "#d8576b"
             ],
             [
              0.6666666666666666,
              "#ed7953"
             ],
             [
              0.7777777777777778,
              "#fb9f3a"
             ],
             [
              0.8888888888888888,
              "#fdca26"
             ],
             [
              1,
              "#f0f921"
             ]
            ],
            "type": "surface"
           }
          ],
          "table": [
           {
            "cells": {
             "fill": {
              "color": "#EBF0F8"
             },
             "line": {
              "color": "white"
             }
            },
            "header": {
             "fill": {
              "color": "#C8D4E3"
             },
             "line": {
              "color": "white"
             }
            },
            "type": "table"
           }
          ]
         },
         "layout": {
          "annotationdefaults": {
           "arrowcolor": "#2a3f5f",
           "arrowhead": 0,
           "arrowwidth": 1
          },
          "autotypenumbers": "strict",
          "coloraxis": {
           "colorbar": {
            "outlinewidth": 0,
            "ticks": ""
           }
          },
          "colorscale": {
           "diverging": [
            [
             0,
             "#8e0152"
            ],
            [
             0.1,
             "#c51b7d"
            ],
            [
             0.2,
             "#de77ae"
            ],
            [
             0.3,
             "#f1b6da"
            ],
            [
             0.4,
             "#fde0ef"
            ],
            [
             0.5,
             "#f7f7f7"
            ],
            [
             0.6,
             "#e6f5d0"
            ],
            [
             0.7,
             "#b8e186"
            ],
            [
             0.8,
             "#7fbc41"
            ],
            [
             0.9,
             "#4d9221"
            ],
            [
             1,
             "#276419"
            ]
           ],
           "sequential": [
            [
             0,
             "#0d0887"
            ],
            [
             0.1111111111111111,
             "#46039f"
            ],
            [
             0.2222222222222222,
             "#7201a8"
            ],
            [
             0.3333333333333333,
             "#9c179e"
            ],
            [
             0.4444444444444444,
             "#bd3786"
            ],
            [
             0.5555555555555556,
             "#d8576b"
            ],
            [
             0.6666666666666666,
             "#ed7953"
            ],
            [
             0.7777777777777778,
             "#fb9f3a"
            ],
            [
             0.8888888888888888,
             "#fdca26"
            ],
            [
             1,
             "#f0f921"
            ]
           ],
           "sequentialminus": [
            [
             0,
             "#0d0887"
            ],
            [
             0.1111111111111111,
             "#46039f"
            ],
            [
             0.2222222222222222,
             "#7201a8"
            ],
            [
             0.3333333333333333,
             "#9c179e"
            ],
            [
             0.4444444444444444,
             "#bd3786"
            ],
            [
             0.5555555555555556,
             "#d8576b"
            ],
            [
             0.6666666666666666,
             "#ed7953"
            ],
            [
             0.7777777777777778,
             "#fb9f3a"
            ],
            [
             0.8888888888888888,
             "#fdca26"
            ],
            [
             1,
             "#f0f921"
            ]
           ]
          },
          "colorway": [
           "#636efa",
           "#EF553B",
           "#00cc96",
           "#ab63fa",
           "#FFA15A",
           "#19d3f3",
           "#FF6692",
           "#B6E880",
           "#FF97FF",
           "#FECB52"
          ],
          "font": {
           "color": "#2a3f5f"
          },
          "geo": {
           "bgcolor": "white",
           "lakecolor": "white",
           "landcolor": "#E5ECF6",
           "showlakes": true,
           "showland": true,
           "subunitcolor": "white"
          },
          "hoverlabel": {
           "align": "left"
          },
          "hovermode": "closest",
          "mapbox": {
           "style": "light"
          },
          "paper_bgcolor": "white",
          "plot_bgcolor": "#E5ECF6",
          "polar": {
           "angularaxis": {
            "gridcolor": "white",
            "linecolor": "white",
            "ticks": ""
           },
           "bgcolor": "#E5ECF6",
           "radialaxis": {
            "gridcolor": "white",
            "linecolor": "white",
            "ticks": ""
           }
          },
          "scene": {
           "xaxis": {
            "backgroundcolor": "#E5ECF6",
            "gridcolor": "white",
            "gridwidth": 2,
            "linecolor": "white",
            "showbackground": true,
            "ticks": "",
            "zerolinecolor": "white"
           },
           "yaxis": {
            "backgroundcolor": "#E5ECF6",
            "gridcolor": "white",
            "gridwidth": 2,
            "linecolor": "white",
            "showbackground": true,
            "ticks": "",
            "zerolinecolor": "white"
           },
           "zaxis": {
            "backgroundcolor": "#E5ECF6",
            "gridcolor": "white",
            "gridwidth": 2,
            "linecolor": "white",
            "showbackground": true,
            "ticks": "",
            "zerolinecolor": "white"
           }
          },
          "shapedefaults": {
           "line": {
            "color": "#2a3f5f"
           }
          },
          "ternary": {
           "aaxis": {
            "gridcolor": "white",
            "linecolor": "white",
            "ticks": ""
           },
           "baxis": {
            "gridcolor": "white",
            "linecolor": "white",
            "ticks": ""
           },
           "bgcolor": "#E5ECF6",
           "caxis": {
            "gridcolor": "white",
            "linecolor": "white",
            "ticks": ""
           }
          },
          "title": {
           "x": 0.05
          },
          "xaxis": {
           "automargin": true,
           "gridcolor": "white",
           "linecolor": "white",
           "ticks": "",
           "title": {
            "standoff": 15
           },
           "zerolinecolor": "white",
           "zerolinewidth": 2
          },
          "yaxis": {
           "automargin": true,
           "gridcolor": "white",
           "linecolor": "white",
           "ticks": "",
           "title": {
            "standoff": 15
           },
           "zerolinecolor": "white",
           "zerolinewidth": 2
          }
         }
        },
        "title": {
         "text": "Gegner, gegen die Deutschland eine Siegesquote von unter 50% hat"
        },
        "xaxis": {
         "anchor": "y",
         "domain": [
          0,
          1
         ],
         "title": {
          "text": "Gegnernation"
         }
        },
        "yaxis": {
         "anchor": "x",
         "domain": [
          0,
          1
         ],
         "title": {
          "text": "Siegesquote Deutschland"
         }
        }
       }
      }
     },
     "metadata": {},
     "output_type": "display_data"
    }
   ],
   "source": [
    "fig = px.bar(df_filtered, x='Gegnernation', y='Siegesquote',\n",
    "             title=\"Gegner, gegen die Deutschland eine Siegesquote von unter 50% hat\",\n",
    "             color='Siegesquote',\n",
    "             color_continuous_scale='plasma',  \n",
    "             labels={'Siegesquote': 'Siegesquote Deutschland'})\n",
    "fig.show()"
   ]
  },
  {
   "cell_type": "markdown",
   "metadata": {},
   "source": [
    "<br>"
   ]
  },
  {
   "cell_type": "markdown",
   "metadata": {},
   "source": [
    "## Liegen die teilweise geringen Siegesquoten der Deutschan an der generellen Spielstärke der Gegnernation?"
   ]
  },
  {
   "cell_type": "markdown",
   "metadata": {},
   "source": [
    "<br>"
   ]
  },
  {
   "cell_type": "markdown",
   "metadata": {},
   "source": [
    "### Allgemeine Sigesquote aller Nationen"
   ]
  },
  {
   "cell_type": "code",
   "execution_count": 13,
   "metadata": {},
   "outputs": [],
   "source": [
    "#Dataframe der Gewinnernationen\n",
    "df_loser = df_matches.groupby([\"loser_ioc\", \"winner_ioc\"]).size().reset_index(name =\"loses_count\")\n",
    "\n",
    "#Dataframe der Verlierernationen\n",
    "df_winner = df_matches.groupby([\"winner_ioc\", \"loser_ioc\"]).size().reset_index(name=\"wins_count\")"
   ]
  },
  {
   "cell_type": "code",
   "execution_count": 14,
   "metadata": {},
   "outputs": [
    {
     "data": {
      "text/html": [
       "<div>\n",
       "<style scoped>\n",
       "    .dataframe tbody tr th:only-of-type {\n",
       "        vertical-align: middle;\n",
       "    }\n",
       "\n",
       "    .dataframe tbody tr th {\n",
       "        vertical-align: top;\n",
       "    }\n",
       "\n",
       "    .dataframe thead th {\n",
       "        text-align: right;\n",
       "    }\n",
       "</style>\n",
       "<table border=\"1\" class=\"dataframe\">\n",
       "  <thead>\n",
       "    <tr style=\"text-align: right;\">\n",
       "      <th></th>\n",
       "      <th>loser_ioc</th>\n",
       "      <th>winner_ioc</th>\n",
       "      <th>loses_count</th>\n",
       "    </tr>\n",
       "  </thead>\n",
       "  <tbody>\n",
       "    <tr>\n",
       "      <th>0</th>\n",
       "      <td>AHO</td>\n",
       "      <td>BAH</td>\n",
       "      <td>1</td>\n",
       "    </tr>\n",
       "    <tr>\n",
       "      <th>1</th>\n",
       "      <td>AHO</td>\n",
       "      <td>BOL</td>\n",
       "      <td>2</td>\n",
       "    </tr>\n",
       "    <tr>\n",
       "      <th>2</th>\n",
       "      <td>AHO</td>\n",
       "      <td>BRA</td>\n",
       "      <td>4</td>\n",
       "    </tr>\n",
       "    <tr>\n",
       "      <th>3</th>\n",
       "      <td>AHO</td>\n",
       "      <td>CRC</td>\n",
       "      <td>2</td>\n",
       "    </tr>\n",
       "    <tr>\n",
       "      <th>4</th>\n",
       "      <td>AHO</td>\n",
       "      <td>DOM</td>\n",
       "      <td>2</td>\n",
       "    </tr>\n",
       "    <tr>\n",
       "      <th>...</th>\n",
       "      <td>...</td>\n",
       "      <td>...</td>\n",
       "      <td>...</td>\n",
       "    </tr>\n",
       "    <tr>\n",
       "      <th>5410</th>\n",
       "      <td>ZIM</td>\n",
       "      <td>UNK</td>\n",
       "      <td>1</td>\n",
       "    </tr>\n",
       "    <tr>\n",
       "      <th>5411</th>\n",
       "      <td>ZIM</td>\n",
       "      <td>URU</td>\n",
       "      <td>2</td>\n",
       "    </tr>\n",
       "    <tr>\n",
       "      <th>5412</th>\n",
       "      <td>ZIM</td>\n",
       "      <td>USA</td>\n",
       "      <td>113</td>\n",
       "    </tr>\n",
       "    <tr>\n",
       "      <th>5413</th>\n",
       "      <td>ZIM</td>\n",
       "      <td>ZAM</td>\n",
       "      <td>1</td>\n",
       "    </tr>\n",
       "    <tr>\n",
       "      <th>5414</th>\n",
       "      <td>ZIM</td>\n",
       "      <td>ZIM</td>\n",
       "      <td>5</td>\n",
       "    </tr>\n",
       "  </tbody>\n",
       "</table>\n",
       "<p>5415 rows × 3 columns</p>\n",
       "</div>"
      ],
      "text/plain": [
       "     loser_ioc winner_ioc  loses_count\n",
       "0          AHO        BAH            1\n",
       "1          AHO        BOL            2\n",
       "2          AHO        BRA            4\n",
       "3          AHO        CRC            2\n",
       "4          AHO        DOM            2\n",
       "...        ...        ...          ...\n",
       "5410       ZIM        UNK            1\n",
       "5411       ZIM        URU            2\n",
       "5412       ZIM        USA          113\n",
       "5413       ZIM        ZAM            1\n",
       "5414       ZIM        ZIM            5\n",
       "\n",
       "[5415 rows x 3 columns]"
      ]
     },
     "execution_count": 14,
     "metadata": {},
     "output_type": "execute_result"
    }
   ],
   "source": [
    "df_loser"
   ]
  },
  {
   "cell_type": "code",
   "execution_count": 15,
   "metadata": {},
   "outputs": [
    {
     "data": {
      "text/html": [
       "<div>\n",
       "<style scoped>\n",
       "    .dataframe tbody tr th:only-of-type {\n",
       "        vertical-align: middle;\n",
       "    }\n",
       "\n",
       "    .dataframe tbody tr th {\n",
       "        vertical-align: top;\n",
       "    }\n",
       "\n",
       "    .dataframe thead th {\n",
       "        text-align: right;\n",
       "    }\n",
       "</style>\n",
       "<table border=\"1\" class=\"dataframe\">\n",
       "  <thead>\n",
       "    <tr style=\"text-align: right;\">\n",
       "      <th></th>\n",
       "      <th>winner_ioc</th>\n",
       "      <th>loser_ioc</th>\n",
       "      <th>wins_count</th>\n",
       "    </tr>\n",
       "  </thead>\n",
       "  <tbody>\n",
       "    <tr>\n",
       "      <th>0</th>\n",
       "      <td>AHO</td>\n",
       "      <td>BAH</td>\n",
       "      <td>2</td>\n",
       "    </tr>\n",
       "    <tr>\n",
       "      <th>1</th>\n",
       "      <td>AHO</td>\n",
       "      <td>BOL</td>\n",
       "      <td>2</td>\n",
       "    </tr>\n",
       "    <tr>\n",
       "      <th>2</th>\n",
       "      <td>AHO</td>\n",
       "      <td>CRC</td>\n",
       "      <td>2</td>\n",
       "    </tr>\n",
       "    <tr>\n",
       "      <th>3</th>\n",
       "      <td>AHO</td>\n",
       "      <td>DOM</td>\n",
       "      <td>2</td>\n",
       "    </tr>\n",
       "    <tr>\n",
       "      <th>4</th>\n",
       "      <td>AHO</td>\n",
       "      <td>ECU</td>\n",
       "      <td>1</td>\n",
       "    </tr>\n",
       "    <tr>\n",
       "      <th>...</th>\n",
       "      <td>...</td>\n",
       "      <td>...</td>\n",
       "      <td>...</td>\n",
       "    </tr>\n",
       "    <tr>\n",
       "      <th>5410</th>\n",
       "      <td>ZIM</td>\n",
       "      <td>UNK</td>\n",
       "      <td>3</td>\n",
       "    </tr>\n",
       "    <tr>\n",
       "      <th>5411</th>\n",
       "      <td>ZIM</td>\n",
       "      <td>USA</td>\n",
       "      <td>72</td>\n",
       "    </tr>\n",
       "    <tr>\n",
       "      <th>5412</th>\n",
       "      <td>ZIM</td>\n",
       "      <td>VEN</td>\n",
       "      <td>2</td>\n",
       "    </tr>\n",
       "    <tr>\n",
       "      <th>5413</th>\n",
       "      <td>ZIM</td>\n",
       "      <td>ZAM</td>\n",
       "      <td>3</td>\n",
       "    </tr>\n",
       "    <tr>\n",
       "      <th>5414</th>\n",
       "      <td>ZIM</td>\n",
       "      <td>ZIM</td>\n",
       "      <td>5</td>\n",
       "    </tr>\n",
       "  </tbody>\n",
       "</table>\n",
       "<p>5415 rows × 3 columns</p>\n",
       "</div>"
      ],
      "text/plain": [
       "     winner_ioc loser_ioc  wins_count\n",
       "0           AHO       BAH           2\n",
       "1           AHO       BOL           2\n",
       "2           AHO       CRC           2\n",
       "3           AHO       DOM           2\n",
       "4           AHO       ECU           1\n",
       "...         ...       ...         ...\n",
       "5410        ZIM       UNK           3\n",
       "5411        ZIM       USA          72\n",
       "5412        ZIM       VEN           2\n",
       "5413        ZIM       ZAM           3\n",
       "5414        ZIM       ZIM           5\n",
       "\n",
       "[5415 rows x 3 columns]"
      ]
     },
     "execution_count": 15,
     "metadata": {},
     "output_type": "execute_result"
    }
   ],
   "source": [
    "df_winner"
   ]
  },
  {
   "cell_type": "code",
   "execution_count": 16,
   "metadata": {},
   "outputs": [
    {
     "data": {
      "text/html": [
       "<div>\n",
       "<style scoped>\n",
       "    .dataframe tbody tr th:only-of-type {\n",
       "        vertical-align: middle;\n",
       "    }\n",
       "\n",
       "    .dataframe tbody tr th {\n",
       "        vertical-align: top;\n",
       "    }\n",
       "\n",
       "    .dataframe thead th {\n",
       "        text-align: right;\n",
       "    }\n",
       "</style>\n",
       "<table border=\"1\" class=\"dataframe\">\n",
       "  <thead>\n",
       "    <tr style=\"text-align: right;\">\n",
       "      <th></th>\n",
       "      <th>winner_ioc</th>\n",
       "      <th>wins_count</th>\n",
       "    </tr>\n",
       "  </thead>\n",
       "  <tbody>\n",
       "    <tr>\n",
       "      <th>0</th>\n",
       "      <td>AHO</td>\n",
       "      <td>29</td>\n",
       "    </tr>\n",
       "    <tr>\n",
       "      <th>1</th>\n",
       "      <td>ALG</td>\n",
       "      <td>50</td>\n",
       "    </tr>\n",
       "    <tr>\n",
       "      <th>2</th>\n",
       "      <td>AND</td>\n",
       "      <td>3</td>\n",
       "    </tr>\n",
       "    <tr>\n",
       "      <th>3</th>\n",
       "      <td>ARG</td>\n",
       "      <td>8185</td>\n",
       "    </tr>\n",
       "    <tr>\n",
       "      <th>4</th>\n",
       "      <td>ARM</td>\n",
       "      <td>158</td>\n",
       "    </tr>\n",
       "    <tr>\n",
       "      <th>...</th>\n",
       "      <td>...</td>\n",
       "      <td>...</td>\n",
       "    </tr>\n",
       "    <tr>\n",
       "      <th>123</th>\n",
       "      <td>VEN</td>\n",
       "      <td>335</td>\n",
       "    </tr>\n",
       "    <tr>\n",
       "      <th>124</th>\n",
       "      <td>VIE</td>\n",
       "      <td>27</td>\n",
       "    </tr>\n",
       "    <tr>\n",
       "      <th>125</th>\n",
       "      <td>YUG</td>\n",
       "      <td>163</td>\n",
       "    </tr>\n",
       "    <tr>\n",
       "      <th>126</th>\n",
       "      <td>ZAM</td>\n",
       "      <td>7</td>\n",
       "    </tr>\n",
       "    <tr>\n",
       "      <th>127</th>\n",
       "      <td>ZIM</td>\n",
       "      <td>491</td>\n",
       "    </tr>\n",
       "  </tbody>\n",
       "</table>\n",
       "<p>128 rows × 2 columns</p>\n",
       "</div>"
      ],
      "text/plain": [
       "    winner_ioc  wins_count\n",
       "0          AHO          29\n",
       "1          ALG          50\n",
       "2          AND           3\n",
       "3          ARG        8185\n",
       "4          ARM         158\n",
       "..         ...         ...\n",
       "123        VEN         335\n",
       "124        VIE          27\n",
       "125        YUG         163\n",
       "126        ZAM           7\n",
       "127        ZIM         491\n",
       "\n",
       "[128 rows x 2 columns]"
      ]
     },
     "execution_count": 16,
     "metadata": {},
     "output_type": "execute_result"
    }
   ],
   "source": [
    "#Summe der Siege pro Nation\n",
    "df_winner = df_winner.groupby(\"winner_ioc\")[\"wins_count\"].sum().reset_index()\n",
    "df_winner\n"
   ]
  },
  {
   "cell_type": "code",
   "execution_count": 17,
   "metadata": {},
   "outputs": [
    {
     "data": {
      "text/html": [
       "<div>\n",
       "<style scoped>\n",
       "    .dataframe tbody tr th:only-of-type {\n",
       "        vertical-align: middle;\n",
       "    }\n",
       "\n",
       "    .dataframe tbody tr th {\n",
       "        vertical-align: top;\n",
       "    }\n",
       "\n",
       "    .dataframe thead th {\n",
       "        text-align: right;\n",
       "    }\n",
       "</style>\n",
       "<table border=\"1\" class=\"dataframe\">\n",
       "  <thead>\n",
       "    <tr style=\"text-align: right;\">\n",
       "      <th></th>\n",
       "      <th>loser_ioc</th>\n",
       "      <th>loses_count</th>\n",
       "    </tr>\n",
       "  </thead>\n",
       "  <tbody>\n",
       "    <tr>\n",
       "      <th>0</th>\n",
       "      <td>AHO</td>\n",
       "      <td>51</td>\n",
       "    </tr>\n",
       "    <tr>\n",
       "      <th>1</th>\n",
       "      <td>ALG</td>\n",
       "      <td>110</td>\n",
       "    </tr>\n",
       "    <tr>\n",
       "      <th>2</th>\n",
       "      <td>AND</td>\n",
       "      <td>5</td>\n",
       "    </tr>\n",
       "    <tr>\n",
       "      <th>3</th>\n",
       "      <td>ARG</td>\n",
       "      <td>7462</td>\n",
       "    </tr>\n",
       "    <tr>\n",
       "      <th>4</th>\n",
       "      <td>ARM</td>\n",
       "      <td>220</td>\n",
       "    </tr>\n",
       "    <tr>\n",
       "      <th>...</th>\n",
       "      <td>...</td>\n",
       "      <td>...</td>\n",
       "    </tr>\n",
       "    <tr>\n",
       "      <th>136</th>\n",
       "      <td>VEN</td>\n",
       "      <td>554</td>\n",
       "    </tr>\n",
       "    <tr>\n",
       "      <th>137</th>\n",
       "      <td>VIE</td>\n",
       "      <td>35</td>\n",
       "    </tr>\n",
       "    <tr>\n",
       "      <th>138</th>\n",
       "      <td>YUG</td>\n",
       "      <td>159</td>\n",
       "    </tr>\n",
       "    <tr>\n",
       "      <th>139</th>\n",
       "      <td>ZAM</td>\n",
       "      <td>13</td>\n",
       "    </tr>\n",
       "    <tr>\n",
       "      <th>140</th>\n",
       "      <td>ZIM</td>\n",
       "      <td>584</td>\n",
       "    </tr>\n",
       "  </tbody>\n",
       "</table>\n",
       "<p>141 rows × 2 columns</p>\n",
       "</div>"
      ],
      "text/plain": [
       "    loser_ioc  loses_count\n",
       "0         AHO           51\n",
       "1         ALG          110\n",
       "2         AND            5\n",
       "3         ARG         7462\n",
       "4         ARM          220\n",
       "..        ...          ...\n",
       "136       VEN          554\n",
       "137       VIE           35\n",
       "138       YUG          159\n",
       "139       ZAM           13\n",
       "140       ZIM          584\n",
       "\n",
       "[141 rows x 2 columns]"
      ]
     },
     "execution_count": 17,
     "metadata": {},
     "output_type": "execute_result"
    }
   ],
   "source": [
    "#Summe der Niederlagen pro Nation \n",
    "df_loser = df_loser.groupby(\"loser_ioc\")[\"loses_count\"].sum().reset_index()\n",
    "df_loser"
   ]
  },
  {
   "cell_type": "code",
   "execution_count": 18,
   "metadata": {},
   "outputs": [
    {
     "data": {
      "text/html": [
       "<div>\n",
       "<style scoped>\n",
       "    .dataframe tbody tr th:only-of-type {\n",
       "        vertical-align: middle;\n",
       "    }\n",
       "\n",
       "    .dataframe tbody tr th {\n",
       "        vertical-align: top;\n",
       "    }\n",
       "\n",
       "    .dataframe thead th {\n",
       "        text-align: right;\n",
       "    }\n",
       "</style>\n",
       "<table border=\"1\" class=\"dataframe\">\n",
       "  <thead>\n",
       "    <tr style=\"text-align: right;\">\n",
       "      <th></th>\n",
       "      <th>Siege</th>\n",
       "      <th>Niederlagen</th>\n",
       "      <th>Nation</th>\n",
       "      <th>Siegesquote</th>\n",
       "    </tr>\n",
       "  </thead>\n",
       "  <tbody>\n",
       "    <tr>\n",
       "      <th>0</th>\n",
       "      <td>29</td>\n",
       "      <td>51</td>\n",
       "      <td>AHO</td>\n",
       "      <td>0.362500</td>\n",
       "    </tr>\n",
       "    <tr>\n",
       "      <th>1</th>\n",
       "      <td>50</td>\n",
       "      <td>110</td>\n",
       "      <td>ALG</td>\n",
       "      <td>0.312500</td>\n",
       "    </tr>\n",
       "    <tr>\n",
       "      <th>2</th>\n",
       "      <td>3</td>\n",
       "      <td>5</td>\n",
       "      <td>AND</td>\n",
       "      <td>0.375000</td>\n",
       "    </tr>\n",
       "    <tr>\n",
       "      <th>3</th>\n",
       "      <td>8185</td>\n",
       "      <td>7462</td>\n",
       "      <td>ARG</td>\n",
       "      <td>0.523103</td>\n",
       "    </tr>\n",
       "    <tr>\n",
       "      <th>4</th>\n",
       "      <td>158</td>\n",
       "      <td>220</td>\n",
       "      <td>ARM</td>\n",
       "      <td>0.417989</td>\n",
       "    </tr>\n",
       "    <tr>\n",
       "      <th>...</th>\n",
       "      <td>...</td>\n",
       "      <td>...</td>\n",
       "      <td>...</td>\n",
       "      <td>...</td>\n",
       "    </tr>\n",
       "    <tr>\n",
       "      <th>137</th>\n",
       "      <td>0</td>\n",
       "      <td>4</td>\n",
       "      <td>PNG</td>\n",
       "      <td>0.000000</td>\n",
       "    </tr>\n",
       "    <tr>\n",
       "      <th>138</th>\n",
       "      <td>0</td>\n",
       "      <td>6</td>\n",
       "      <td>SUD</td>\n",
       "      <td>0.000000</td>\n",
       "    </tr>\n",
       "    <tr>\n",
       "      <th>139</th>\n",
       "      <td>0</td>\n",
       "      <td>1</td>\n",
       "      <td>SUR</td>\n",
       "      <td>0.000000</td>\n",
       "    </tr>\n",
       "    <tr>\n",
       "      <th>140</th>\n",
       "      <td>0</td>\n",
       "      <td>16</td>\n",
       "      <td>TRI</td>\n",
       "      <td>0.000000</td>\n",
       "    </tr>\n",
       "    <tr>\n",
       "      <th>141</th>\n",
       "      <td>0</td>\n",
       "      <td>10</td>\n",
       "      <td>VAN</td>\n",
       "      <td>0.000000</td>\n",
       "    </tr>\n",
       "  </tbody>\n",
       "</table>\n",
       "<p>142 rows × 4 columns</p>\n",
       "</div>"
      ],
      "text/plain": [
       "     Siege  Niederlagen Nation  Siegesquote\n",
       "0       29           51    AHO     0.362500\n",
       "1       50          110    ALG     0.312500\n",
       "2        3            5    AND     0.375000\n",
       "3     8185         7462    ARG     0.523103\n",
       "4      158          220    ARM     0.417989\n",
       "..     ...          ...    ...          ...\n",
       "137      0            4    PNG     0.000000\n",
       "138      0            6    SUD     0.000000\n",
       "139      0            1    SUR     0.000000\n",
       "140      0           16    TRI     0.000000\n",
       "141      0           10    VAN     0.000000\n",
       "\n",
       "[142 rows x 4 columns]"
      ]
     },
     "execution_count": 18,
     "metadata": {},
     "output_type": "execute_result"
    }
   ],
   "source": [
    "#Tabellen joinen\n",
    "df_merge2 = pd.merge(df_winner, df_loser , how=\"outer\", left_on=\"winner_ioc\", right_on=\"loser_ioc\")   \n",
    "\n",
    "#winner_ioc und loser_ioc zu einert Spalte vereinen, um alle Nationen in einer Spalte abzudecken\n",
    "df_merge2['Nation'] = df_merge2['loser_ioc'].combine_first(df_merge2['winner_ioc'])\n",
    "\n",
    "#Spalten umbenennen\n",
    "df_merge2.rename(columns={\"wins_count\": \"Siege\", \"loses_count\": \"Niederlagen\"}, inplace=True)\n",
    "\n",
    "#Spalten entfernen, die nicht relevant sind\n",
    "df_merge2.drop([\"winner_ioc\", \"loser_ioc\"], axis=1, inplace=True)\n",
    "\n",
    "#NaN-Werte der Spalte \"Niederlagen\" durch 0 ersetzen und Datentyp zu \"int\" ändern\n",
    "fillna_0_astype_int64(df_merge2)\n",
    "\n",
    "#Siegesquote bestimmen\n",
    "siegesquote_funktion(df_merge2)\n",
    "\n",
    "df_merge2"
   ]
  },
  {
   "cell_type": "markdown",
   "metadata": {},
   "source": [
    "<br>"
   ]
  },
  {
   "cell_type": "markdown",
   "metadata": {},
   "source": [
    "## Prüfen, ob die geringe Siegesquote Deutschlands an der generellen Spielspärke der Gegnernation liegt"
   ]
  },
  {
   "cell_type": "code",
   "execution_count": 19,
   "metadata": {},
   "outputs": [
    {
     "data": {
      "text/html": [
       "<div>\n",
       "<style scoped>\n",
       "    .dataframe tbody tr th:only-of-type {\n",
       "        vertical-align: middle;\n",
       "    }\n",
       "\n",
       "    .dataframe tbody tr th {\n",
       "        vertical-align: top;\n",
       "    }\n",
       "\n",
       "    .dataframe thead th {\n",
       "        text-align: right;\n",
       "    }\n",
       "</style>\n",
       "<table border=\"1\" class=\"dataframe\">\n",
       "  <thead>\n",
       "    <tr style=\"text-align: right;\">\n",
       "      <th></th>\n",
       "      <th>Siege_Deutschland</th>\n",
       "      <th>Niederlagen_Deutschland</th>\n",
       "      <th>Siegesquote_Deutschland_Gegnernation</th>\n",
       "      <th>Gegnernation</th>\n",
       "      <th>Siege_Gegnernation_allgemein</th>\n",
       "      <th>Niederlagen_Gegnernation_allgemein</th>\n",
       "      <th>Siegesquote_Gegnernation_allgemein</th>\n",
       "    </tr>\n",
       "  </thead>\n",
       "  <tbody>\n",
       "    <tr>\n",
       "      <th>92</th>\n",
       "      <td>0</td>\n",
       "      <td>1</td>\n",
       "      <td>0.000000</td>\n",
       "      <td>ESA</td>\n",
       "      <td>48</td>\n",
       "      <td>72</td>\n",
       "      <td>0.400000</td>\n",
       "    </tr>\n",
       "    <tr>\n",
       "      <th>20</th>\n",
       "      <td>12</td>\n",
       "      <td>36</td>\n",
       "      <td>0.250000</td>\n",
       "      <td>CYP</td>\n",
       "      <td>358</td>\n",
       "      <td>379</td>\n",
       "      <td>0.485753</td>\n",
       "    </tr>\n",
       "    <tr>\n",
       "      <th>87</th>\n",
       "      <td>11</td>\n",
       "      <td>31</td>\n",
       "      <td>0.261905</td>\n",
       "      <td>UZB</td>\n",
       "      <td>323</td>\n",
       "      <td>410</td>\n",
       "      <td>0.440655</td>\n",
       "    </tr>\n",
       "    <tr>\n",
       "      <th>49</th>\n",
       "      <td>7</td>\n",
       "      <td>15</td>\n",
       "      <td>0.318182</td>\n",
       "      <td>LTU</td>\n",
       "      <td>163</td>\n",
       "      <td>216</td>\n",
       "      <td>0.430079</td>\n",
       "    </tr>\n",
       "    <tr>\n",
       "      <th>59</th>\n",
       "      <td>3</td>\n",
       "      <td>6</td>\n",
       "      <td>0.333333</td>\n",
       "      <td>PAK</td>\n",
       "      <td>345</td>\n",
       "      <td>397</td>\n",
       "      <td>0.464960</td>\n",
       "    </tr>\n",
       "    <tr>\n",
       "      <th>...</th>\n",
       "      <td>...</td>\n",
       "      <td>...</td>\n",
       "      <td>...</td>\n",
       "      <td>...</td>\n",
       "      <td>...</td>\n",
       "      <td>...</td>\n",
       "      <td>...</td>\n",
       "    </tr>\n",
       "    <tr>\n",
       "      <th>137</th>\n",
       "      <td>0</td>\n",
       "      <td>0</td>\n",
       "      <td>NaN</td>\n",
       "      <td>LBA</td>\n",
       "      <td>0</td>\n",
       "      <td>8</td>\n",
       "      <td>0.000000</td>\n",
       "    </tr>\n",
       "    <tr>\n",
       "      <th>138</th>\n",
       "      <td>0</td>\n",
       "      <td>0</td>\n",
       "      <td>NaN</td>\n",
       "      <td>PNG</td>\n",
       "      <td>0</td>\n",
       "      <td>4</td>\n",
       "      <td>0.000000</td>\n",
       "    </tr>\n",
       "    <tr>\n",
       "      <th>139</th>\n",
       "      <td>0</td>\n",
       "      <td>0</td>\n",
       "      <td>NaN</td>\n",
       "      <td>SUR</td>\n",
       "      <td>0</td>\n",
       "      <td>1</td>\n",
       "      <td>0.000000</td>\n",
       "    </tr>\n",
       "    <tr>\n",
       "      <th>140</th>\n",
       "      <td>0</td>\n",
       "      <td>0</td>\n",
       "      <td>NaN</td>\n",
       "      <td>TRI</td>\n",
       "      <td>0</td>\n",
       "      <td>16</td>\n",
       "      <td>0.000000</td>\n",
       "    </tr>\n",
       "    <tr>\n",
       "      <th>141</th>\n",
       "      <td>0</td>\n",
       "      <td>0</td>\n",
       "      <td>NaN</td>\n",
       "      <td>VAN</td>\n",
       "      <td>0</td>\n",
       "      <td>10</td>\n",
       "      <td>0.000000</td>\n",
       "    </tr>\n",
       "  </tbody>\n",
       "</table>\n",
       "<p>142 rows × 7 columns</p>\n",
       "</div>"
      ],
      "text/plain": [
       "     Siege_Deutschland  Niederlagen_Deutschland  \\\n",
       "92                   0                        1   \n",
       "20                  12                       36   \n",
       "87                  11                       31   \n",
       "49                   7                       15   \n",
       "59                   3                        6   \n",
       "..                 ...                      ...   \n",
       "137                  0                        0   \n",
       "138                  0                        0   \n",
       "139                  0                        0   \n",
       "140                  0                        0   \n",
       "141                  0                        0   \n",
       "\n",
       "     Siegesquote_Deutschland_Gegnernation Gegnernation  \\\n",
       "92                               0.000000          ESA   \n",
       "20                               0.250000          CYP   \n",
       "87                               0.261905          UZB   \n",
       "49                               0.318182          LTU   \n",
       "59                               0.333333          PAK   \n",
       "..                                    ...          ...   \n",
       "137                                   NaN          LBA   \n",
       "138                                   NaN          PNG   \n",
       "139                                   NaN          SUR   \n",
       "140                                   NaN          TRI   \n",
       "141                                   NaN          VAN   \n",
       "\n",
       "     Siege_Gegnernation_allgemein  Niederlagen_Gegnernation_allgemein  \\\n",
       "92                             48                                  72   \n",
       "20                            358                                 379   \n",
       "87                            323                                 410   \n",
       "49                            163                                 216   \n",
       "59                            345                                 397   \n",
       "..                            ...                                 ...   \n",
       "137                             0                                   8   \n",
       "138                             0                                   4   \n",
       "139                             0                                   1   \n",
       "140                             0                                  16   \n",
       "141                             0                                  10   \n",
       "\n",
       "     Siegesquote_Gegnernation_allgemein  \n",
       "92                             0.400000  \n",
       "20                             0.485753  \n",
       "87                             0.440655  \n",
       "49                             0.430079  \n",
       "59                             0.464960  \n",
       "..                                  ...  \n",
       "137                            0.000000  \n",
       "138                            0.000000  \n",
       "139                            0.000000  \n",
       "140                            0.000000  \n",
       "141                            0.000000  \n",
       "\n",
       "[142 rows x 7 columns]"
      ]
     },
     "execution_count": 19,
     "metadata": {},
     "output_type": "execute_result"
    }
   ],
   "source": [
    "#Tabellen joinen, um generelle Sigesquote der Gegenernationen der Sigesquote von Deutschland gegen diese Nation gegenüberzustellen\n",
    "df_merge3 = pd.merge(df_merge, df_merge2, how=\"outer\", left_on=\"Gegnernation\", right_on=\"Nation\")\n",
    "\n",
    "#Unnötige Spalten löschen\n",
    "df_merge3.drop([\"Deutschland\",\"Gegnernation\"], axis=1, inplace=True)\n",
    "\n",
    "#Spalten umbennen\n",
    "df_merge3.rename(columns={\"Nation\": \"Gegnernation\",\"Siege_y\":\"Siege_Gegnernation_allgemein\", \"Niederlagen_y\":\"Niederlagen_Gegnernation_allgemein\",\"Siege_x\": \"Siege_Deutschland\", \"Niederlagen_x\":\"Niederlagen_Deutschland\",\"Siegesquote_x\": \"Siegesquote_Deutschland_Gegnernation\", \"Siegesquote_y\": \"Siegesquote_Gegnernation_allgemein\"}  ,inplace=True)\n",
    "\n",
    "#Spaltenreihenfolge zur besseren Veranschaulichung ändern\n",
    "df_merge3 = df_merge3[['Siege_Deutschland', 'Niederlagen_Deutschland', 'Siegesquote_Deutschland_Gegnernation', 'Gegnernation','Siege_Gegnernation_allgemein', 'Niederlagen_Gegnernation_allgemein', 'Siegesquote_Gegnernation_allgemein']]\n",
    "\n",
    "#Spalte löschen bei der \"Deutschland gegen Deuthschland spielt\"\n",
    "df_merge3.drop(df_merge3[df_merge3['Gegnernation'] == \"GER\"].index)\n",
    "\n",
    "#Aufsteigend nach \"Siegesquote_Deutschland_Gegnernation\" und absteigend nach \"Niederlagen_Deutschland\" sortiert\t\n",
    "df_merge3 = df_merge3.sort_values(by=[\"Siegesquote_Deutschland_Gegnernation\", \"Niederlagen_Deutschland\"], ascending=[True, False])\n",
    "\n",
    "#NaN-Werte der Spalte \"Niederlagen\" durch 0 ersetzen und Datentyp zu \"int\" ändern\n",
    "fillna_0_astype_int64(df_merge3, [\"Niederlagen_Deutschland\", \"Siege_Deutschland\"])\n"
   ]
  },
  {
   "cell_type": "code",
   "execution_count": 20,
   "metadata": {},
   "outputs": [
    {
     "data": {
      "text/html": [
       "<div>\n",
       "<style scoped>\n",
       "    .dataframe tbody tr th:only-of-type {\n",
       "        vertical-align: middle;\n",
       "    }\n",
       "\n",
       "    .dataframe tbody tr th {\n",
       "        vertical-align: top;\n",
       "    }\n",
       "\n",
       "    .dataframe thead th {\n",
       "        text-align: right;\n",
       "    }\n",
       "</style>\n",
       "<table border=\"1\" class=\"dataframe\">\n",
       "  <thead>\n",
       "    <tr style=\"text-align: right;\">\n",
       "      <th></th>\n",
       "      <th>Siege_Deutschland</th>\n",
       "      <th>Niederlagen_Deutschland</th>\n",
       "      <th>Siegesquote_Deutschland_Gegnernation</th>\n",
       "      <th>Gegnernation</th>\n",
       "      <th>Siege_Gegnernation_allgemein</th>\n",
       "      <th>Niederlagen_Gegnernation_allgemein</th>\n",
       "      <th>Siegesquote_Gegnernation_allgemein</th>\n",
       "    </tr>\n",
       "  </thead>\n",
       "  <tbody>\n",
       "    <tr>\n",
       "      <th>20</th>\n",
       "      <td>12</td>\n",
       "      <td>36</td>\n",
       "      <td>0.250000</td>\n",
       "      <td>CYP</td>\n",
       "      <td>358</td>\n",
       "      <td>379</td>\n",
       "      <td>0.485753</td>\n",
       "    </tr>\n",
       "    <tr>\n",
       "      <th>87</th>\n",
       "      <td>11</td>\n",
       "      <td>31</td>\n",
       "      <td>0.261905</td>\n",
       "      <td>UZB</td>\n",
       "      <td>323</td>\n",
       "      <td>410</td>\n",
       "      <td>0.440655</td>\n",
       "    </tr>\n",
       "    <tr>\n",
       "      <th>49</th>\n",
       "      <td>7</td>\n",
       "      <td>15</td>\n",
       "      <td>0.318182</td>\n",
       "      <td>LTU</td>\n",
       "      <td>163</td>\n",
       "      <td>216</td>\n",
       "      <td>0.430079</td>\n",
       "    </tr>\n",
       "    <tr>\n",
       "      <th>59</th>\n",
       "      <td>3</td>\n",
       "      <td>6</td>\n",
       "      <td>0.333333</td>\n",
       "      <td>PAK</td>\n",
       "      <td>345</td>\n",
       "      <td>397</td>\n",
       "      <td>0.464960</td>\n",
       "    </tr>\n",
       "    <tr>\n",
       "      <th>51</th>\n",
       "      <td>25</td>\n",
       "      <td>43</td>\n",
       "      <td>0.367647</td>\n",
       "      <td>MAR</td>\n",
       "      <td>743</td>\n",
       "      <td>810</td>\n",
       "      <td>0.478429</td>\n",
       "    </tr>\n",
       "  </tbody>\n",
       "</table>\n",
       "</div>"
      ],
      "text/plain": [
       "    Siege_Deutschland  Niederlagen_Deutschland  \\\n",
       "20                 12                       36   \n",
       "87                 11                       31   \n",
       "49                  7                       15   \n",
       "59                  3                        6   \n",
       "51                 25                       43   \n",
       "\n",
       "    Siegesquote_Deutschland_Gegnernation Gegnernation  \\\n",
       "20                              0.250000          CYP   \n",
       "87                              0.261905          UZB   \n",
       "49                              0.318182          LTU   \n",
       "59                              0.333333          PAK   \n",
       "51                              0.367647          MAR   \n",
       "\n",
       "    Siege_Gegnernation_allgemein  Niederlagen_Gegnernation_allgemein  \\\n",
       "20                           358                                 379   \n",
       "87                           323                                 410   \n",
       "49                           163                                 216   \n",
       "59                           345                                 397   \n",
       "51                           743                                 810   \n",
       "\n",
       "    Siegesquote_Gegnernation_allgemein  \n",
       "20                            0.485753  \n",
       "87                            0.440655  \n",
       "49                            0.430079  \n",
       "59                            0.464960  \n",
       "51                            0.478429  "
      ]
     },
     "execution_count": 20,
     "metadata": {},
     "output_type": "execute_result"
    }
   ],
   "source": [
    "#Filterung der Zeilen, bei denen Deutschland mehr als 5 Mal gegen diese Nation gespielt und die Gegenernation allgemein mehr 20 Spiele gespielt hat.\n",
    "#Damit können z.B. Sigesquoten von 100% ausgeschlossen werden, bei denen nur sehr wenige Matches satttgefunden haben\n",
    "\n",
    "df_filtered2 = df_merge3[((df_merge3.Siege_Deutschland + df_merge3.Niederlagen_Deutschland)>5) & ((df_merge3.Siege_Gegnernation_allgemein + df_merge3.Niederlagen_Gegnernation_allgemein)>20)]\n",
    "\n",
    "#Top 5 Angstgegner von Deutschland\n",
    "df_filtered2[0:5]"
   ]
  },
  {
   "cell_type": "markdown",
   "metadata": {},
   "source": [
    "### df_filtered2 als csv-Datei für Power BI abspeichern"
   ]
  },
  {
   "cell_type": "code",
   "execution_count": 21,
   "metadata": {},
   "outputs": [],
   "source": [
    "df_filtered2.to_csv('PowerBI/Siegesquote_DEvsGEGNER.csv', index=False)"
   ]
  },
  {
   "cell_type": "markdown",
   "metadata": {},
   "source": [
    "<br>"
   ]
  },
  {
   "cell_type": "markdown",
   "metadata": {},
   "source": [
    "### Visualisierung der allgemeinen Siegesquote der \"Angstgegner-Nationen\""
   ]
  },
  {
   "cell_type": "code",
   "execution_count": 22,
   "metadata": {},
   "outputs": [
    {
     "data": {
      "text/plain": [
       "42    0.476651\n",
       "Name: Siegesquote, dtype: float64"
      ]
     },
     "execution_count": 22,
     "metadata": {},
     "output_type": "execute_result"
    }
   ],
   "source": [
    "#Allgemeine Siegesquote von Deutschland\n",
    "df_merge2[df_merge2.Nation == \"GER\"][\"Siegesquote\"]"
   ]
  },
  {
   "cell_type": "code",
   "execution_count": 23,
   "metadata": {},
   "outputs": [
    {
     "data": {
      "application/vnd.plotly.v1+json": {
       "config": {
        "plotlyServerURL": "https://plot.ly"
       },
       "data": [
        {
         "alignmentgroup": "True",
         "hovertemplate": "Quelle=Siegesquote_Deutschland_Gegnernation<br>Gegnernation=%{x}<br>Siegesquote=%{y}<extra></extra>",
         "legendgroup": "Siegesquote_Deutschland_Gegnernation",
         "marker": {
          "color": "#636efa",
          "pattern": {
           "shape": ""
          }
         },
         "name": "Siegesquote_Deutschland_Gegnernation",
         "offsetgroup": "Siegesquote_Deutschland_Gegnernation",
         "orientation": "v",
         "showlegend": true,
         "textposition": "auto",
         "type": "bar",
         "x": [
          "CYP",
          "UZB",
          "LTU",
          "PAK",
          "MAR"
         ],
         "xaxis": "x",
         "y": [
          0.25,
          0.2619047619047619,
          0.3181818181818182,
          0.3333333333333333,
          0.36764705882352944
         ],
         "yaxis": "y"
        },
        {
         "alignmentgroup": "True",
         "hovertemplate": "Quelle=Siegesquote_Gegnernation_allgemein<br>Gegnernation=%{x}<br>Siegesquote=%{y}<extra></extra>",
         "legendgroup": "Siegesquote_Gegnernation_allgemein",
         "marker": {
          "color": "#EF553B",
          "pattern": {
           "shape": ""
          }
         },
         "name": "Siegesquote_Gegnernation_allgemein",
         "offsetgroup": "Siegesquote_Gegnernation_allgemein",
         "orientation": "v",
         "showlegend": true,
         "textposition": "auto",
         "type": "bar",
         "x": [
          "CYP",
          "UZB",
          "LTU",
          "PAK",
          "MAR"
         ],
         "xaxis": "x",
         "y": [
          0.48575305291723203,
          0.4406548431105048,
          0.43007915567282323,
          0.46495956873315364,
          0.47842884739214425
         ],
         "yaxis": "y"
        }
       ],
       "layout": {
        "barmode": "group",
        "legend": {
         "title": {
          "text": "Quelle"
         },
         "tracegroupgap": 0
        },
        "template": {
         "data": {
          "bar": [
           {
            "error_x": {
             "color": "#2a3f5f"
            },
            "error_y": {
             "color": "#2a3f5f"
            },
            "marker": {
             "line": {
              "color": "#E5ECF6",
              "width": 0.5
             },
             "pattern": {
              "fillmode": "overlay",
              "size": 10,
              "solidity": 0.2
             }
            },
            "type": "bar"
           }
          ],
          "barpolar": [
           {
            "marker": {
             "line": {
              "color": "#E5ECF6",
              "width": 0.5
             },
             "pattern": {
              "fillmode": "overlay",
              "size": 10,
              "solidity": 0.2
             }
            },
            "type": "barpolar"
           }
          ],
          "carpet": [
           {
            "aaxis": {
             "endlinecolor": "#2a3f5f",
             "gridcolor": "white",
             "linecolor": "white",
             "minorgridcolor": "white",
             "startlinecolor": "#2a3f5f"
            },
            "baxis": {
             "endlinecolor": "#2a3f5f",
             "gridcolor": "white",
             "linecolor": "white",
             "minorgridcolor": "white",
             "startlinecolor": "#2a3f5f"
            },
            "type": "carpet"
           }
          ],
          "choropleth": [
           {
            "colorbar": {
             "outlinewidth": 0,
             "ticks": ""
            },
            "type": "choropleth"
           }
          ],
          "contour": [
           {
            "colorbar": {
             "outlinewidth": 0,
             "ticks": ""
            },
            "colorscale": [
             [
              0,
              "#0d0887"
             ],
             [
              0.1111111111111111,
              "#46039f"
             ],
             [
              0.2222222222222222,
              "#7201a8"
             ],
             [
              0.3333333333333333,
              "#9c179e"
             ],
             [
              0.4444444444444444,
              "#bd3786"
             ],
             [
              0.5555555555555556,
              "#d8576b"
             ],
             [
              0.6666666666666666,
              "#ed7953"
             ],
             [
              0.7777777777777778,
              "#fb9f3a"
             ],
             [
              0.8888888888888888,
              "#fdca26"
             ],
             [
              1,
              "#f0f921"
             ]
            ],
            "type": "contour"
           }
          ],
          "contourcarpet": [
           {
            "colorbar": {
             "outlinewidth": 0,
             "ticks": ""
            },
            "type": "contourcarpet"
           }
          ],
          "heatmap": [
           {
            "colorbar": {
             "outlinewidth": 0,
             "ticks": ""
            },
            "colorscale": [
             [
              0,
              "#0d0887"
             ],
             [
              0.1111111111111111,
              "#46039f"
             ],
             [
              0.2222222222222222,
              "#7201a8"
             ],
             [
              0.3333333333333333,
              "#9c179e"
             ],
             [
              0.4444444444444444,
              "#bd3786"
             ],
             [
              0.5555555555555556,
              "#d8576b"
             ],
             [
              0.6666666666666666,
              "#ed7953"
             ],
             [
              0.7777777777777778,
              "#fb9f3a"
             ],
             [
              0.8888888888888888,
              "#fdca26"
             ],
             [
              1,
              "#f0f921"
             ]
            ],
            "type": "heatmap"
           }
          ],
          "heatmapgl": [
           {
            "colorbar": {
             "outlinewidth": 0,
             "ticks": ""
            },
            "colorscale": [
             [
              0,
              "#0d0887"
             ],
             [
              0.1111111111111111,
              "#46039f"
             ],
             [
              0.2222222222222222,
              "#7201a8"
             ],
             [
              0.3333333333333333,
              "#9c179e"
             ],
             [
              0.4444444444444444,
              "#bd3786"
             ],
             [
              0.5555555555555556,
              "#d8576b"
             ],
             [
              0.6666666666666666,
              "#ed7953"
             ],
             [
              0.7777777777777778,
              "#fb9f3a"
             ],
             [
              0.8888888888888888,
              "#fdca26"
             ],
             [
              1,
              "#f0f921"
             ]
            ],
            "type": "heatmapgl"
           }
          ],
          "histogram": [
           {
            "marker": {
             "pattern": {
              "fillmode": "overlay",
              "size": 10,
              "solidity": 0.2
             }
            },
            "type": "histogram"
           }
          ],
          "histogram2d": [
           {
            "colorbar": {
             "outlinewidth": 0,
             "ticks": ""
            },
            "colorscale": [
             [
              0,
              "#0d0887"
             ],
             [
              0.1111111111111111,
              "#46039f"
             ],
             [
              0.2222222222222222,
              "#7201a8"
             ],
             [
              0.3333333333333333,
              "#9c179e"
             ],
             [
              0.4444444444444444,
              "#bd3786"
             ],
             [
              0.5555555555555556,
              "#d8576b"
             ],
             [
              0.6666666666666666,
              "#ed7953"
             ],
             [
              0.7777777777777778,
              "#fb9f3a"
             ],
             [
              0.8888888888888888,
              "#fdca26"
             ],
             [
              1,
              "#f0f921"
             ]
            ],
            "type": "histogram2d"
           }
          ],
          "histogram2dcontour": [
           {
            "colorbar": {
             "outlinewidth": 0,
             "ticks": ""
            },
            "colorscale": [
             [
              0,
              "#0d0887"
             ],
             [
              0.1111111111111111,
              "#46039f"
             ],
             [
              0.2222222222222222,
              "#7201a8"
             ],
             [
              0.3333333333333333,
              "#9c179e"
             ],
             [
              0.4444444444444444,
              "#bd3786"
             ],
             [
              0.5555555555555556,
              "#d8576b"
             ],
             [
              0.6666666666666666,
              "#ed7953"
             ],
             [
              0.7777777777777778,
              "#fb9f3a"
             ],
             [
              0.8888888888888888,
              "#fdca26"
             ],
             [
              1,
              "#f0f921"
             ]
            ],
            "type": "histogram2dcontour"
           }
          ],
          "mesh3d": [
           {
            "colorbar": {
             "outlinewidth": 0,
             "ticks": ""
            },
            "type": "mesh3d"
           }
          ],
          "parcoords": [
           {
            "line": {
             "colorbar": {
              "outlinewidth": 0,
              "ticks": ""
             }
            },
            "type": "parcoords"
           }
          ],
          "pie": [
           {
            "automargin": true,
            "type": "pie"
           }
          ],
          "scatter": [
           {
            "fillpattern": {
             "fillmode": "overlay",
             "size": 10,
             "solidity": 0.2
            },
            "type": "scatter"
           }
          ],
          "scatter3d": [
           {
            "line": {
             "colorbar": {
              "outlinewidth": 0,
              "ticks": ""
             }
            },
            "marker": {
             "colorbar": {
              "outlinewidth": 0,
              "ticks": ""
             }
            },
            "type": "scatter3d"
           }
          ],
          "scattercarpet": [
           {
            "marker": {
             "colorbar": {
              "outlinewidth": 0,
              "ticks": ""
             }
            },
            "type": "scattercarpet"
           }
          ],
          "scattergeo": [
           {
            "marker": {
             "colorbar": {
              "outlinewidth": 0,
              "ticks": ""
             }
            },
            "type": "scattergeo"
           }
          ],
          "scattergl": [
           {
            "marker": {
             "colorbar": {
              "outlinewidth": 0,
              "ticks": ""
             }
            },
            "type": "scattergl"
           }
          ],
          "scattermapbox": [
           {
            "marker": {
             "colorbar": {
              "outlinewidth": 0,
              "ticks": ""
             }
            },
            "type": "scattermapbox"
           }
          ],
          "scatterpolar": [
           {
            "marker": {
             "colorbar": {
              "outlinewidth": 0,
              "ticks": ""
             }
            },
            "type": "scatterpolar"
           }
          ],
          "scatterpolargl": [
           {
            "marker": {
             "colorbar": {
              "outlinewidth": 0,
              "ticks": ""
             }
            },
            "type": "scatterpolargl"
           }
          ],
          "scatterternary": [
           {
            "marker": {
             "colorbar": {
              "outlinewidth": 0,
              "ticks": ""
             }
            },
            "type": "scatterternary"
           }
          ],
          "surface": [
           {
            "colorbar": {
             "outlinewidth": 0,
             "ticks": ""
            },
            "colorscale": [
             [
              0,
              "#0d0887"
             ],
             [
              0.1111111111111111,
              "#46039f"
             ],
             [
              0.2222222222222222,
              "#7201a8"
             ],
             [
              0.3333333333333333,
              "#9c179e"
             ],
             [
              0.4444444444444444,
              "#bd3786"
             ],
             [
              0.5555555555555556,
              "#d8576b"
             ],
             [
              0.6666666666666666,
              "#ed7953"
             ],
             [
              0.7777777777777778,
              "#fb9f3a"
             ],
             [
              0.8888888888888888,
              "#fdca26"
             ],
             [
              1,
              "#f0f921"
             ]
            ],
            "type": "surface"
           }
          ],
          "table": [
           {
            "cells": {
             "fill": {
              "color": "#EBF0F8"
             },
             "line": {
              "color": "white"
             }
            },
            "header": {
             "fill": {
              "color": "#C8D4E3"
             },
             "line": {
              "color": "white"
             }
            },
            "type": "table"
           }
          ]
         },
         "layout": {
          "annotationdefaults": {
           "arrowcolor": "#2a3f5f",
           "arrowhead": 0,
           "arrowwidth": 1
          },
          "autotypenumbers": "strict",
          "coloraxis": {
           "colorbar": {
            "outlinewidth": 0,
            "ticks": ""
           }
          },
          "colorscale": {
           "diverging": [
            [
             0,
             "#8e0152"
            ],
            [
             0.1,
             "#c51b7d"
            ],
            [
             0.2,
             "#de77ae"
            ],
            [
             0.3,
             "#f1b6da"
            ],
            [
             0.4,
             "#fde0ef"
            ],
            [
             0.5,
             "#f7f7f7"
            ],
            [
             0.6,
             "#e6f5d0"
            ],
            [
             0.7,
             "#b8e186"
            ],
            [
             0.8,
             "#7fbc41"
            ],
            [
             0.9,
             "#4d9221"
            ],
            [
             1,
             "#276419"
            ]
           ],
           "sequential": [
            [
             0,
             "#0d0887"
            ],
            [
             0.1111111111111111,
             "#46039f"
            ],
            [
             0.2222222222222222,
             "#7201a8"
            ],
            [
             0.3333333333333333,
             "#9c179e"
            ],
            [
             0.4444444444444444,
             "#bd3786"
            ],
            [
             0.5555555555555556,
             "#d8576b"
            ],
            [
             0.6666666666666666,
             "#ed7953"
            ],
            [
             0.7777777777777778,
             "#fb9f3a"
            ],
            [
             0.8888888888888888,
             "#fdca26"
            ],
            [
             1,
             "#f0f921"
            ]
           ],
           "sequentialminus": [
            [
             0,
             "#0d0887"
            ],
            [
             0.1111111111111111,
             "#46039f"
            ],
            [
             0.2222222222222222,
             "#7201a8"
            ],
            [
             0.3333333333333333,
             "#9c179e"
            ],
            [
             0.4444444444444444,
             "#bd3786"
            ],
            [
             0.5555555555555556,
             "#d8576b"
            ],
            [
             0.6666666666666666,
             "#ed7953"
            ],
            [
             0.7777777777777778,
             "#fb9f3a"
            ],
            [
             0.8888888888888888,
             "#fdca26"
            ],
            [
             1,
             "#f0f921"
            ]
           ]
          },
          "colorway": [
           "#636efa",
           "#EF553B",
           "#00cc96",
           "#ab63fa",
           "#FFA15A",
           "#19d3f3",
           "#FF6692",
           "#B6E880",
           "#FF97FF",
           "#FECB52"
          ],
          "font": {
           "color": "#2a3f5f"
          },
          "geo": {
           "bgcolor": "white",
           "lakecolor": "white",
           "landcolor": "#E5ECF6",
           "showlakes": true,
           "showland": true,
           "subunitcolor": "white"
          },
          "hoverlabel": {
           "align": "left"
          },
          "hovermode": "closest",
          "mapbox": {
           "style": "light"
          },
          "paper_bgcolor": "white",
          "plot_bgcolor": "#E5ECF6",
          "polar": {
           "angularaxis": {
            "gridcolor": "white",
            "linecolor": "white",
            "ticks": ""
           },
           "bgcolor": "#E5ECF6",
           "radialaxis": {
            "gridcolor": "white",
            "linecolor": "white",
            "ticks": ""
           }
          },
          "scene": {
           "xaxis": {
            "backgroundcolor": "#E5ECF6",
            "gridcolor": "white",
            "gridwidth": 2,
            "linecolor": "white",
            "showbackground": true,
            "ticks": "",
            "zerolinecolor": "white"
           },
           "yaxis": {
            "backgroundcolor": "#E5ECF6",
            "gridcolor": "white",
            "gridwidth": 2,
            "linecolor": "white",
            "showbackground": true,
            "ticks": "",
            "zerolinecolor": "white"
           },
           "zaxis": {
            "backgroundcolor": "#E5ECF6",
            "gridcolor": "white",
            "gridwidth": 2,
            "linecolor": "white",
            "showbackground": true,
            "ticks": "",
            "zerolinecolor": "white"
           }
          },
          "shapedefaults": {
           "line": {
            "color": "#2a3f5f"
           }
          },
          "ternary": {
           "aaxis": {
            "gridcolor": "white",
            "linecolor": "white",
            "ticks": ""
           },
           "baxis": {
            "gridcolor": "white",
            "linecolor": "white",
            "ticks": ""
           },
           "bgcolor": "#E5ECF6",
           "caxis": {
            "gridcolor": "white",
            "linecolor": "white",
            "ticks": ""
           }
          },
          "title": {
           "x": 0.05
          },
          "xaxis": {
           "automargin": true,
           "gridcolor": "white",
           "linecolor": "white",
           "ticks": "",
           "title": {
            "standoff": 15
           },
           "zerolinecolor": "white",
           "zerolinewidth": 2
          },
          "yaxis": {
           "automargin": true,
           "gridcolor": "white",
           "linecolor": "white",
           "ticks": "",
           "title": {
            "standoff": 15
           },
           "zerolinecolor": "white",
           "zerolinewidth": 2
          }
         }
        },
        "title": {
         "text": "Siegesquote_Deutschland_Gegnernation vs Siegesquote_Gegnernation_allgemein"
        },
        "xaxis": {
         "anchor": "y",
         "domain": [
          0,
          1
         ],
         "title": {
          "text": "Gegnernation"
         }
        },
        "yaxis": {
         "anchor": "x",
         "domain": [
          0,
          1
         ],
         "title": {
          "text": "Siegesquote"
         }
        }
       }
      }
     },
     "metadata": {},
     "output_type": "display_data"
    }
   ],
   "source": [
    "fig = px.bar(df_filtered2[0:5], x=\"Gegnernation\", y=['Siegesquote_Deutschland_Gegnernation', 'Siegesquote_Gegnernation_allgemein'],\n",
    "             barmode=\"group\", title=\"Siegesquote_Deutschland_Gegnernation vs Siegesquote_Gegnernation_allgemein\", labels={'value': 'Siegesquote', 'variable': 'Quelle'})\n",
    "fig.show()"
   ]
  },
  {
   "cell_type": "markdown",
   "metadata": {},
   "source": [
    "Auf Grundlage der Grafik kann man nochmals erkennen, dass jede allgemeine Siegesquote der \"Angstgegner-Nationen\" unter 50% ist und zudem ungefähr mit der von Deutschland übereinstimmen. Trotzdem sind alle Siegesquoten gegen die jewilige Nation relativ niedrig.\n",
    "Daraus lässt sich auf den ersten Blick vermuten, dass die niedrige Siegesquote von Deutschland gegen die jeweilige \"Angstgegner-Nation\" nicht direkt auf die generelle Spielstärke dieser Nation und die Deutschlands zurückzuführen ist."
   ]
  },
  {
   "cell_type": "markdown",
   "metadata": {},
   "source": [
    "<br>"
   ]
  },
  {
   "cell_type": "code",
   "execution_count": 24,
   "metadata": {},
   "outputs": [
    {
     "data": {
      "text/plain": [
       "-0.6742293150096238"
      ]
     },
     "execution_count": 24,
     "metadata": {},
     "output_type": "execute_result"
    }
   ],
   "source": [
    "korrelation = df_filtered2[\"Siegesquote_Deutschland_Gegnernation\"].corr(df_filtered2[\"Siegesquote_Gegnernation_allgemein\"])\n",
    "korrelation"
   ]
  },
  {
   "cell_type": "markdown",
   "metadata": {},
   "source": [
    "Die Siegesquote_Deutschland_Gegnernation scheint die Siegesquote_Gegnernation_allgemein moderat bis stark negativ zu beeinflussen. Das bedeutet, dass die Siegesquote von Deutschland gegen die jeweilige Gegneration sinkt, wenn die allgemeine Siegesquote der Gegnernation steigt.\n",
    "Also scheinen diese 5 Beispiele eher Ausreißer zu sein."
   ]
  },
  {
   "cell_type": "markdown",
   "metadata": {},
   "source": [
    "<br>"
   ]
  },
  {
   "cell_type": "markdown",
   "metadata": {},
   "source": [
    "## Gibt es Lieblingsgegnernationen?"
   ]
  },
  {
   "cell_type": "code",
   "execution_count": 25,
   "metadata": {},
   "outputs": [
    {
     "data": {
      "text/html": [
       "<div>\n",
       "<style scoped>\n",
       "    .dataframe tbody tr th:only-of-type {\n",
       "        vertical-align: middle;\n",
       "    }\n",
       "\n",
       "    .dataframe tbody tr th {\n",
       "        vertical-align: top;\n",
       "    }\n",
       "\n",
       "    .dataframe thead th {\n",
       "        text-align: right;\n",
       "    }\n",
       "</style>\n",
       "<table border=\"1\" class=\"dataframe\">\n",
       "  <thead>\n",
       "    <tr style=\"text-align: right;\">\n",
       "      <th></th>\n",
       "      <th>Siege_Deutschland</th>\n",
       "      <th>Niederlagen_Deutschland</th>\n",
       "      <th>Siegesquote_Deutschland_Gegnernation</th>\n",
       "      <th>Gegnernation</th>\n",
       "      <th>Siege_Gegnernation_allgemein</th>\n",
       "      <th>Niederlagen_Gegnernation_allgemein</th>\n",
       "      <th>Siegesquote_Gegnernation_allgemein</th>\n",
       "    </tr>\n",
       "  </thead>\n",
       "  <tbody>\n",
       "    <tr>\n",
       "      <th>36</th>\n",
       "      <td>7</td>\n",
       "      <td>0</td>\n",
       "      <td>1.000000</td>\n",
       "      <td>INA</td>\n",
       "      <td>164</td>\n",
       "      <td>273</td>\n",
       "      <td>0.375286</td>\n",
       "    </tr>\n",
       "    <tr>\n",
       "      <th>42</th>\n",
       "      <td>7</td>\n",
       "      <td>0</td>\n",
       "      <td>1.000000</td>\n",
       "      <td>JAM</td>\n",
       "      <td>86</td>\n",
       "      <td>227</td>\n",
       "      <td>0.274760</td>\n",
       "    </tr>\n",
       "    <tr>\n",
       "      <th>83</th>\n",
       "      <td>16</td>\n",
       "      <td>1</td>\n",
       "      <td>0.941176</td>\n",
       "      <td>UNK</td>\n",
       "      <td>60</td>\n",
       "      <td>360</td>\n",
       "      <td>0.142857</td>\n",
       "    </tr>\n",
       "    <tr>\n",
       "      <th>88</th>\n",
       "      <td>20</td>\n",
       "      <td>3</td>\n",
       "      <td>0.869565</td>\n",
       "      <td>VEN</td>\n",
       "      <td>335</td>\n",
       "      <td>554</td>\n",
       "      <td>0.376828</td>\n",
       "    </tr>\n",
       "    <tr>\n",
       "      <th>0</th>\n",
       "      <td>5</td>\n",
       "      <td>1</td>\n",
       "      <td>0.833333</td>\n",
       "      <td>ALG</td>\n",
       "      <td>50</td>\n",
       "      <td>110</td>\n",
       "      <td>0.312500</td>\n",
       "    </tr>\n",
       "  </tbody>\n",
       "</table>\n",
       "</div>"
      ],
      "text/plain": [
       "    Siege_Deutschland  Niederlagen_Deutschland  \\\n",
       "36                  7                        0   \n",
       "42                  7                        0   \n",
       "83                 16                        1   \n",
       "88                 20                        3   \n",
       "0                   5                        1   \n",
       "\n",
       "    Siegesquote_Deutschland_Gegnernation Gegnernation  \\\n",
       "36                              1.000000          INA   \n",
       "42                              1.000000          JAM   \n",
       "83                              0.941176          UNK   \n",
       "88                              0.869565          VEN   \n",
       "0                               0.833333          ALG   \n",
       "\n",
       "    Siege_Gegnernation_allgemein  Niederlagen_Gegnernation_allgemein  \\\n",
       "36                           164                                 273   \n",
       "42                            86                                 227   \n",
       "83                            60                                 360   \n",
       "88                           335                                 554   \n",
       "0                             50                                 110   \n",
       "\n",
       "    Siegesquote_Gegnernation_allgemein  \n",
       "36                            0.375286  \n",
       "42                            0.274760  \n",
       "83                            0.142857  \n",
       "88                            0.376828  \n",
       "0                             0.312500  "
      ]
     },
     "execution_count": 25,
     "metadata": {},
     "output_type": "execute_result"
    }
   ],
   "source": [
    "df_filtered2 = df_filtered2.sort_values(by=[\"Siegesquote_Deutschland_Gegnernation\", \"Siege_Deutschland\"], ascending=[False, False])\n",
    "\n",
    "#Top 5 \"Lieblingsgegner-Nationen\"\n",
    "df_filtered2[0:5]"
   ]
  },
  {
   "cell_type": "markdown",
   "metadata": {},
   "source": [
    "<br>"
   ]
  },
  {
   "cell_type": "markdown",
   "metadata": {},
   "source": [
    "### Visualisierung der allgemeinen Siegesquote der \"Lieblingsgegner-Nationen\""
   ]
  },
  {
   "cell_type": "code",
   "execution_count": 26,
   "metadata": {},
   "outputs": [
    {
     "data": {
      "application/vnd.plotly.v1+json": {
       "config": {
        "plotlyServerURL": "https://plot.ly"
       },
       "data": [
        {
         "alignmentgroup": "True",
         "hovertemplate": "Quelle=Siegesquote_Deutschland_Gegnernation<br>Gegnernation=%{x}<br>Siegesquote=%{y}<extra></extra>",
         "legendgroup": "Siegesquote_Deutschland_Gegnernation",
         "marker": {
          "color": "#636efa",
          "pattern": {
           "shape": ""
          }
         },
         "name": "Siegesquote_Deutschland_Gegnernation",
         "offsetgroup": "Siegesquote_Deutschland_Gegnernation",
         "orientation": "v",
         "showlegend": true,
         "textposition": "auto",
         "type": "bar",
         "x": [
          "INA",
          "JAM",
          "UNK",
          "VEN",
          "ALG"
         ],
         "xaxis": "x",
         "y": [
          1,
          1,
          0.9411764705882353,
          0.8695652173913043,
          0.8333333333333334
         ],
         "yaxis": "y"
        },
        {
         "alignmentgroup": "True",
         "hovertemplate": "Quelle=Siegesquote_Gegnernation_allgemein<br>Gegnernation=%{x}<br>Siegesquote=%{y}<extra></extra>",
         "legendgroup": "Siegesquote_Gegnernation_allgemein",
         "marker": {
          "color": "#EF553B",
          "pattern": {
           "shape": ""
          }
         },
         "name": "Siegesquote_Gegnernation_allgemein",
         "offsetgroup": "Siegesquote_Gegnernation_allgemein",
         "orientation": "v",
         "showlegend": true,
         "textposition": "auto",
         "type": "bar",
         "x": [
          "INA",
          "JAM",
          "UNK",
          "VEN",
          "ALG"
         ],
         "xaxis": "x",
         "y": [
          0.37528604118993136,
          0.2747603833865815,
          0.14285714285714285,
          0.37682789651293586,
          0.3125
         ],
         "yaxis": "y"
        }
       ],
       "layout": {
        "barmode": "group",
        "legend": {
         "title": {
          "text": "Quelle"
         },
         "tracegroupgap": 0
        },
        "template": {
         "data": {
          "bar": [
           {
            "error_x": {
             "color": "#2a3f5f"
            },
            "error_y": {
             "color": "#2a3f5f"
            },
            "marker": {
             "line": {
              "color": "#E5ECF6",
              "width": 0.5
             },
             "pattern": {
              "fillmode": "overlay",
              "size": 10,
              "solidity": 0.2
             }
            },
            "type": "bar"
           }
          ],
          "barpolar": [
           {
            "marker": {
             "line": {
              "color": "#E5ECF6",
              "width": 0.5
             },
             "pattern": {
              "fillmode": "overlay",
              "size": 10,
              "solidity": 0.2
             }
            },
            "type": "barpolar"
           }
          ],
          "carpet": [
           {
            "aaxis": {
             "endlinecolor": "#2a3f5f",
             "gridcolor": "white",
             "linecolor": "white",
             "minorgridcolor": "white",
             "startlinecolor": "#2a3f5f"
            },
            "baxis": {
             "endlinecolor": "#2a3f5f",
             "gridcolor": "white",
             "linecolor": "white",
             "minorgridcolor": "white",
             "startlinecolor": "#2a3f5f"
            },
            "type": "carpet"
           }
          ],
          "choropleth": [
           {
            "colorbar": {
             "outlinewidth": 0,
             "ticks": ""
            },
            "type": "choropleth"
           }
          ],
          "contour": [
           {
            "colorbar": {
             "outlinewidth": 0,
             "ticks": ""
            },
            "colorscale": [
             [
              0,
              "#0d0887"
             ],
             [
              0.1111111111111111,
              "#46039f"
             ],
             [
              0.2222222222222222,
              "#7201a8"
             ],
             [
              0.3333333333333333,
              "#9c179e"
             ],
             [
              0.4444444444444444,
              "#bd3786"
             ],
             [
              0.5555555555555556,
              "#d8576b"
             ],
             [
              0.6666666666666666,
              "#ed7953"
             ],
             [
              0.7777777777777778,
              "#fb9f3a"
             ],
             [
              0.8888888888888888,
              "#fdca26"
             ],
             [
              1,
              "#f0f921"
             ]
            ],
            "type": "contour"
           }
          ],
          "contourcarpet": [
           {
            "colorbar": {
             "outlinewidth": 0,
             "ticks": ""
            },
            "type": "contourcarpet"
           }
          ],
          "heatmap": [
           {
            "colorbar": {
             "outlinewidth": 0,
             "ticks": ""
            },
            "colorscale": [
             [
              0,
              "#0d0887"
             ],
             [
              0.1111111111111111,
              "#46039f"
             ],
             [
              0.2222222222222222,
              "#7201a8"
             ],
             [
              0.3333333333333333,
              "#9c179e"
             ],
             [
              0.4444444444444444,
              "#bd3786"
             ],
             [
              0.5555555555555556,
              "#d8576b"
             ],
             [
              0.6666666666666666,
              "#ed7953"
             ],
             [
              0.7777777777777778,
              "#fb9f3a"
             ],
             [
              0.8888888888888888,
              "#fdca26"
             ],
             [
              1,
              "#f0f921"
             ]
            ],
            "type": "heatmap"
           }
          ],
          "heatmapgl": [
           {
            "colorbar": {
             "outlinewidth": 0,
             "ticks": ""
            },
            "colorscale": [
             [
              0,
              "#0d0887"
             ],
             [
              0.1111111111111111,
              "#46039f"
             ],
             [
              0.2222222222222222,
              "#7201a8"
             ],
             [
              0.3333333333333333,
              "#9c179e"
             ],
             [
              0.4444444444444444,
              "#bd3786"
             ],
             [
              0.5555555555555556,
              "#d8576b"
             ],
             [
              0.6666666666666666,
              "#ed7953"
             ],
             [
              0.7777777777777778,
              "#fb9f3a"
             ],
             [
              0.8888888888888888,
              "#fdca26"
             ],
             [
              1,
              "#f0f921"
             ]
            ],
            "type": "heatmapgl"
           }
          ],
          "histogram": [
           {
            "marker": {
             "pattern": {
              "fillmode": "overlay",
              "size": 10,
              "solidity": 0.2
             }
            },
            "type": "histogram"
           }
          ],
          "histogram2d": [
           {
            "colorbar": {
             "outlinewidth": 0,
             "ticks": ""
            },
            "colorscale": [
             [
              0,
              "#0d0887"
             ],
             [
              0.1111111111111111,
              "#46039f"
             ],
             [
              0.2222222222222222,
              "#7201a8"
             ],
             [
              0.3333333333333333,
              "#9c179e"
             ],
             [
              0.4444444444444444,
              "#bd3786"
             ],
             [
              0.5555555555555556,
              "#d8576b"
             ],
             [
              0.6666666666666666,
              "#ed7953"
             ],
             [
              0.7777777777777778,
              "#fb9f3a"
             ],
             [
              0.8888888888888888,
              "#fdca26"
             ],
             [
              1,
              "#f0f921"
             ]
            ],
            "type": "histogram2d"
           }
          ],
          "histogram2dcontour": [
           {
            "colorbar": {
             "outlinewidth": 0,
             "ticks": ""
            },
            "colorscale": [
             [
              0,
              "#0d0887"
             ],
             [
              0.1111111111111111,
              "#46039f"
             ],
             [
              0.2222222222222222,
              "#7201a8"
             ],
             [
              0.3333333333333333,
              "#9c179e"
             ],
             [
              0.4444444444444444,
              "#bd3786"
             ],
             [
              0.5555555555555556,
              "#d8576b"
             ],
             [
              0.6666666666666666,
              "#ed7953"
             ],
             [
              0.7777777777777778,
              "#fb9f3a"
             ],
             [
              0.8888888888888888,
              "#fdca26"
             ],
             [
              1,
              "#f0f921"
             ]
            ],
            "type": "histogram2dcontour"
           }
          ],
          "mesh3d": [
           {
            "colorbar": {
             "outlinewidth": 0,
             "ticks": ""
            },
            "type": "mesh3d"
           }
          ],
          "parcoords": [
           {
            "line": {
             "colorbar": {
              "outlinewidth": 0,
              "ticks": ""
             }
            },
            "type": "parcoords"
           }
          ],
          "pie": [
           {
            "automargin": true,
            "type": "pie"
           }
          ],
          "scatter": [
           {
            "fillpattern": {
             "fillmode": "overlay",
             "size": 10,
             "solidity": 0.2
            },
            "type": "scatter"
           }
          ],
          "scatter3d": [
           {
            "line": {
             "colorbar": {
              "outlinewidth": 0,
              "ticks": ""
             }
            },
            "marker": {
             "colorbar": {
              "outlinewidth": 0,
              "ticks": ""
             }
            },
            "type": "scatter3d"
           }
          ],
          "scattercarpet": [
           {
            "marker": {
             "colorbar": {
              "outlinewidth": 0,
              "ticks": ""
             }
            },
            "type": "scattercarpet"
           }
          ],
          "scattergeo": [
           {
            "marker": {
             "colorbar": {
              "outlinewidth": 0,
              "ticks": ""
             }
            },
            "type": "scattergeo"
           }
          ],
          "scattergl": [
           {
            "marker": {
             "colorbar": {
              "outlinewidth": 0,
              "ticks": ""
             }
            },
            "type": "scattergl"
           }
          ],
          "scattermapbox": [
           {
            "marker": {
             "colorbar": {
              "outlinewidth": 0,
              "ticks": ""
             }
            },
            "type": "scattermapbox"
           }
          ],
          "scatterpolar": [
           {
            "marker": {
             "colorbar": {
              "outlinewidth": 0,
              "ticks": ""
             }
            },
            "type": "scatterpolar"
           }
          ],
          "scatterpolargl": [
           {
            "marker": {
             "colorbar": {
              "outlinewidth": 0,
              "ticks": ""
             }
            },
            "type": "scatterpolargl"
           }
          ],
          "scatterternary": [
           {
            "marker": {
             "colorbar": {
              "outlinewidth": 0,
              "ticks": ""
             }
            },
            "type": "scatterternary"
           }
          ],
          "surface": [
           {
            "colorbar": {
             "outlinewidth": 0,
             "ticks": ""
            },
            "colorscale": [
             [
              0,
              "#0d0887"
             ],
             [
              0.1111111111111111,
              "#46039f"
             ],
             [
              0.2222222222222222,
              "#7201a8"
             ],
             [
              0.3333333333333333,
              "#9c179e"
             ],
             [
              0.4444444444444444,
              "#bd3786"
             ],
             [
              0.5555555555555556,
              "#d8576b"
             ],
             [
              0.6666666666666666,
              "#ed7953"
             ],
             [
              0.7777777777777778,
              "#fb9f3a"
             ],
             [
              0.8888888888888888,
              "#fdca26"
             ],
             [
              1,
              "#f0f921"
             ]
            ],
            "type": "surface"
           }
          ],
          "table": [
           {
            "cells": {
             "fill": {
              "color": "#EBF0F8"
             },
             "line": {
              "color": "white"
             }
            },
            "header": {
             "fill": {
              "color": "#C8D4E3"
             },
             "line": {
              "color": "white"
             }
            },
            "type": "table"
           }
          ]
         },
         "layout": {
          "annotationdefaults": {
           "arrowcolor": "#2a3f5f",
           "arrowhead": 0,
           "arrowwidth": 1
          },
          "autotypenumbers": "strict",
          "coloraxis": {
           "colorbar": {
            "outlinewidth": 0,
            "ticks": ""
           }
          },
          "colorscale": {
           "diverging": [
            [
             0,
             "#8e0152"
            ],
            [
             0.1,
             "#c51b7d"
            ],
            [
             0.2,
             "#de77ae"
            ],
            [
             0.3,
             "#f1b6da"
            ],
            [
             0.4,
             "#fde0ef"
            ],
            [
             0.5,
             "#f7f7f7"
            ],
            [
             0.6,
             "#e6f5d0"
            ],
            [
             0.7,
             "#b8e186"
            ],
            [
             0.8,
             "#7fbc41"
            ],
            [
             0.9,
             "#4d9221"
            ],
            [
             1,
             "#276419"
            ]
           ],
           "sequential": [
            [
             0,
             "#0d0887"
            ],
            [
             0.1111111111111111,
             "#46039f"
            ],
            [
             0.2222222222222222,
             "#7201a8"
            ],
            [
             0.3333333333333333,
             "#9c179e"
            ],
            [
             0.4444444444444444,
             "#bd3786"
            ],
            [
             0.5555555555555556,
             "#d8576b"
            ],
            [
             0.6666666666666666,
             "#ed7953"
            ],
            [
             0.7777777777777778,
             "#fb9f3a"
            ],
            [
             0.8888888888888888,
             "#fdca26"
            ],
            [
             1,
             "#f0f921"
            ]
           ],
           "sequentialminus": [
            [
             0,
             "#0d0887"
            ],
            [
             0.1111111111111111,
             "#46039f"
            ],
            [
             0.2222222222222222,
             "#7201a8"
            ],
            [
             0.3333333333333333,
             "#9c179e"
            ],
            [
             0.4444444444444444,
             "#bd3786"
            ],
            [
             0.5555555555555556,
             "#d8576b"
            ],
            [
             0.6666666666666666,
             "#ed7953"
            ],
            [
             0.7777777777777778,
             "#fb9f3a"
            ],
            [
             0.8888888888888888,
             "#fdca26"
            ],
            [
             1,
             "#f0f921"
            ]
           ]
          },
          "colorway": [
           "#636efa",
           "#EF553B",
           "#00cc96",
           "#ab63fa",
           "#FFA15A",
           "#19d3f3",
           "#FF6692",
           "#B6E880",
           "#FF97FF",
           "#FECB52"
          ],
          "font": {
           "color": "#2a3f5f"
          },
          "geo": {
           "bgcolor": "white",
           "lakecolor": "white",
           "landcolor": "#E5ECF6",
           "showlakes": true,
           "showland": true,
           "subunitcolor": "white"
          },
          "hoverlabel": {
           "align": "left"
          },
          "hovermode": "closest",
          "mapbox": {
           "style": "light"
          },
          "paper_bgcolor": "white",
          "plot_bgcolor": "#E5ECF6",
          "polar": {
           "angularaxis": {
            "gridcolor": "white",
            "linecolor": "white",
            "ticks": ""
           },
           "bgcolor": "#E5ECF6",
           "radialaxis": {
            "gridcolor": "white",
            "linecolor": "white",
            "ticks": ""
           }
          },
          "scene": {
           "xaxis": {
            "backgroundcolor": "#E5ECF6",
            "gridcolor": "white",
            "gridwidth": 2,
            "linecolor": "white",
            "showbackground": true,
            "ticks": "",
            "zerolinecolor": "white"
           },
           "yaxis": {
            "backgroundcolor": "#E5ECF6",
            "gridcolor": "white",
            "gridwidth": 2,
            "linecolor": "white",
            "showbackground": true,
            "ticks": "",
            "zerolinecolor": "white"
           },
           "zaxis": {
            "backgroundcolor": "#E5ECF6",
            "gridcolor": "white",
            "gridwidth": 2,
            "linecolor": "white",
            "showbackground": true,
            "ticks": "",
            "zerolinecolor": "white"
           }
          },
          "shapedefaults": {
           "line": {
            "color": "#2a3f5f"
           }
          },
          "ternary": {
           "aaxis": {
            "gridcolor": "white",
            "linecolor": "white",
            "ticks": ""
           },
           "baxis": {
            "gridcolor": "white",
            "linecolor": "white",
            "ticks": ""
           },
           "bgcolor": "#E5ECF6",
           "caxis": {
            "gridcolor": "white",
            "linecolor": "white",
            "ticks": ""
           }
          },
          "title": {
           "x": 0.05
          },
          "xaxis": {
           "automargin": true,
           "gridcolor": "white",
           "linecolor": "white",
           "ticks": "",
           "title": {
            "standoff": 15
           },
           "zerolinecolor": "white",
           "zerolinewidth": 2
          },
          "yaxis": {
           "automargin": true,
           "gridcolor": "white",
           "linecolor": "white",
           "ticks": "",
           "title": {
            "standoff": 15
           },
           "zerolinecolor": "white",
           "zerolinewidth": 2
          }
         }
        },
        "title": {
         "text": "Siegesquote_Deutschland_Gegnernation vs Siegesquote_Gegnernation_allgemein"
        },
        "xaxis": {
         "anchor": "y",
         "domain": [
          0,
          1
         ],
         "title": {
          "text": "Gegnernation"
         }
        },
        "yaxis": {
         "anchor": "x",
         "domain": [
          0,
          1
         ],
         "title": {
          "text": "Siegesquote"
         }
        }
       }
      }
     },
     "metadata": {},
     "output_type": "display_data"
    }
   ],
   "source": [
    "fig = px.bar(df_filtered2[0:5], x=\"Gegnernation\", y=['Siegesquote_Deutschland_Gegnernation', 'Siegesquote_Gegnernation_allgemein'],\n",
    "             barmode=\"group\", title=\"Siegesquote_Deutschland_Gegnernation vs Siegesquote_Gegnernation_allgemein\", labels={'value': 'Siegesquote', 'variable': 'Quelle'},)\n",
    "fig.show()"
   ]
  },
  {
   "cell_type": "markdown",
   "metadata": {},
   "source": [
    "Auf Grundlage der Grafik kann man erkennen, dass alle \"Lieblinsggegner\" von Deutschland auch generell eine sehr niedrige Siegesquote haben. Daraus kann man schließen, dass die hohe Siegesquote von Deutschland gegen die jeweilige \"Lieblingsgegner-Nation\" auf die geringe Spielstärke der Nation zurückzuführen ist."
   ]
  },
  {
   "cell_type": "markdown",
   "metadata": {},
   "source": [
    "<br>"
   ]
  },
  {
   "cell_type": "markdown",
   "metadata": {},
   "source": [
    "### Data Frames speichern"
   ]
  },
  {
   "cell_type": "code",
   "execution_count": 27,
   "metadata": {},
   "outputs": [
    {
     "name": "stdout",
     "output_type": "stream",
     "text": [
      "Stored 'df_matches' (DataFrame)\n",
      "Stored 'df_players' (DataFrame)\n"
     ]
    },
    {
     "name": "stdout",
     "output_type": "stream",
     "text": [
      "Stored 'df_rankings' (DataFrame)\n"
     ]
    }
   ],
   "source": [
    "%store df_matches\n",
    "%store df_players\n",
    "%store df_rankings"
   ]
  }
 ],
 "metadata": {
  "kernelspec": {
   "display_name": "Python 3.9.2 64-bit",
   "language": "python",
   "name": "python3"
  },
  "language_info": {
   "codemirror_mode": {
    "name": "ipython",
    "version": 3
   },
   "file_extension": ".py",
   "mimetype": "text/x-python",
   "name": "python",
   "nbconvert_exporter": "python",
   "pygments_lexer": "ipython3",
   "version": "3.9.13"
  },
  "vscode": {
   "interpreter": {
    "hash": "aee8b7b246df8f9039afb4144a1f6fd8d2ca17a180786b69acc140d282b71a49"
   }
  }
 },
 "nbformat": 4,
 "nbformat_minor": 2
}
